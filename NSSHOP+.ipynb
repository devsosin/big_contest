{
 "metadata": {
  "language_info": {
   "codemirror_mode": {
    "name": "ipython",
    "version": 3
   },
   "file_extension": ".py",
   "mimetype": "text/x-python",
   "name": "python",
   "nbconvert_exporter": "python",
   "pygments_lexer": "ipython3",
   "version": "3.7.6-final"
  },
  "orig_nbformat": 2,
  "kernelspec": {
   "name": "python_defaultSpec_1600257676132",
   "display_name": "Python 3.7.6 64-bit ('base': conda)"
  }
 },
 "nbformat": 4,
 "nbformat_minor": 2,
 "cells": [
  {
   "source": [
    "# 빅콘테스트 - NSSHOP+"
   ],
   "cell_type": "markdown",
   "metadata": {}
  },
  {
   "source": [
    "## Vision  \n",
    "판매실적 예측을 통한 편성 최적화 방안(모형) 도출\n",
    "\n",
    "## Mission  \n",
    "1. 편성데이터(NS홈쇼핑) 를 활용하여 방송편성표에 따른 판매실적을 예측  \n",
    "2. 최적 수익을 고려한 요일별/ 시간대별 / 카테고리별 편성 최적화 방안(모형) 제시\n"
   ],
   "cell_type": "markdown",
   "metadata": {}
  },
  {
   "source": [
    "기본 정보 1 - 취급액 = 판매단가 * 주문량 (취소, 반품 제외)  \n",
    "기본 정보 2 - ~19년 10월 : 06:00 ~ 익일 02:00   \n",
    "기본 정보 3 - 19년 11월~ : 06:20 ~ 익일 02:20  \n",
    "기본 정보 4 - 예측 기간인 20년 6월 편성표는 월~토 06:20 ~ 02:20(익일), 일요일은 06:20 ~ 02:00로 구성 (심야시간대 제외) <-- ?  \n",
    "기본 정보 5 - 편성 시간 : 10분 ~ 60분  \n",
    "  \n",
    "추정 제외 사항 1 - 토요일 18:00~18:20(+-20) ※ 정보방송시간  \n",
    "추정 제외 사항 2 - 판매단가 = 0 (무형) 상품  \n",
    "  \n",
    "참고사항 1 - 1월 1일 = 화요일  "
   ],
   "cell_type": "markdown",
   "metadata": {}
  },
  {
   "cell_type": "code",
   "execution_count": 1,
   "metadata": {},
   "outputs": [],
   "source": [
    "import pandas as pd\n",
    "temp = pd.read_csv(r'datas\\train_data\\performance.csv')"
   ]
  },
  {
   "cell_type": "code",
   "execution_count": 2,
   "metadata": {},
   "outputs": [],
   "source": [
    "import datetime"
   ]
  },
  {
   "cell_type": "code",
   "execution_count": 3,
   "metadata": {},
   "outputs": [],
   "source": [
    "from BIGCON import DataProcessing\n",
    "\n",
    "temp = DataProcessing.date_change(temp, 0)"
   ]
  },
  {
   "cell_type": "code",
   "execution_count": 4,
   "metadata": {},
   "outputs": [
    {
     "output_type": "execute_result",
     "data": {
      "text/plain": "                     방송일시  노출(분)    마더코드    상품코드                       상품명  \\\n0     2019-01-01 06:00:00   20.0  100346  201072             테이트 남성 셀린니트3종   \n1     2019-01-01 06:00:00    NaN  100346  201079             테이트 여성 셀린니트3종   \n2     2019-01-01 06:20:00   20.0  100346  201072             테이트 남성 셀린니트3종   \n3     2019-01-01 06:20:00    NaN  100346  201079             테이트 여성 셀린니트3종   \n4     2019-01-01 06:40:00   20.0  100346  201072             테이트 남성 셀린니트3종   \n...                   ...    ...     ...     ...                       ...   \n38304 2020-01-01 00:20:00   20.0  100073  200196  삼성화재 행복한파트너 주택화재보험(1912)   \n38305 2020-01-01 00:40:00   20.0  100073  200196  삼성화재 행복한파트너 주택화재보험(1912)   \n38306 2020-01-01 01:00:00   20.0  100073  200196  삼성화재 행복한파트너 주택화재보험(1912)   \n38307 2020-01-01 01:20:00   20.0  100490  201478        더케이 예다함 상조서비스(티포트)   \n38308 2020-01-01 01:40:00   17.0  100490  201478        더케이 예다함 상조서비스(티포트)   \n\n      상품군   판매단가        취급액  \n0      의류  39900  2099000.0  \n1      의류  39900  4371000.0  \n2      의류  39900  3262000.0  \n3      의류  39900  6955000.0  \n4      의류  39900  6672000.0  \n...    ..    ...        ...  \n38304  무형      0        NaN  \n38305  무형      0        NaN  \n38306  무형      0        NaN  \n38307  무형      0        NaN  \n38308  무형      0        NaN  \n\n[38309 rows x 8 columns]",
      "text/html": "<div>\n<style scoped>\n    .dataframe tbody tr th:only-of-type {\n        vertical-align: middle;\n    }\n\n    .dataframe tbody tr th {\n        vertical-align: top;\n    }\n\n    .dataframe thead th {\n        text-align: right;\n    }\n</style>\n<table border=\"1\" class=\"dataframe\">\n  <thead>\n    <tr style=\"text-align: right;\">\n      <th></th>\n      <th>방송일시</th>\n      <th>노출(분)</th>\n      <th>마더코드</th>\n      <th>상품코드</th>\n      <th>상품명</th>\n      <th>상품군</th>\n      <th>판매단가</th>\n      <th>취급액</th>\n    </tr>\n  </thead>\n  <tbody>\n    <tr>\n      <th>0</th>\n      <td>2019-01-01 06:00:00</td>\n      <td>20.0</td>\n      <td>100346</td>\n      <td>201072</td>\n      <td>테이트 남성 셀린니트3종</td>\n      <td>의류</td>\n      <td>39900</td>\n      <td>2099000.0</td>\n    </tr>\n    <tr>\n      <th>1</th>\n      <td>2019-01-01 06:00:00</td>\n      <td>NaN</td>\n      <td>100346</td>\n      <td>201079</td>\n      <td>테이트 여성 셀린니트3종</td>\n      <td>의류</td>\n      <td>39900</td>\n      <td>4371000.0</td>\n    </tr>\n    <tr>\n      <th>2</th>\n      <td>2019-01-01 06:20:00</td>\n      <td>20.0</td>\n      <td>100346</td>\n      <td>201072</td>\n      <td>테이트 남성 셀린니트3종</td>\n      <td>의류</td>\n      <td>39900</td>\n      <td>3262000.0</td>\n    </tr>\n    <tr>\n      <th>3</th>\n      <td>2019-01-01 06:20:00</td>\n      <td>NaN</td>\n      <td>100346</td>\n      <td>201079</td>\n      <td>테이트 여성 셀린니트3종</td>\n      <td>의류</td>\n      <td>39900</td>\n      <td>6955000.0</td>\n    </tr>\n    <tr>\n      <th>4</th>\n      <td>2019-01-01 06:40:00</td>\n      <td>20.0</td>\n      <td>100346</td>\n      <td>201072</td>\n      <td>테이트 남성 셀린니트3종</td>\n      <td>의류</td>\n      <td>39900</td>\n      <td>6672000.0</td>\n    </tr>\n    <tr>\n      <th>...</th>\n      <td>...</td>\n      <td>...</td>\n      <td>...</td>\n      <td>...</td>\n      <td>...</td>\n      <td>...</td>\n      <td>...</td>\n      <td>...</td>\n    </tr>\n    <tr>\n      <th>38304</th>\n      <td>2020-01-01 00:20:00</td>\n      <td>20.0</td>\n      <td>100073</td>\n      <td>200196</td>\n      <td>삼성화재 행복한파트너 주택화재보험(1912)</td>\n      <td>무형</td>\n      <td>0</td>\n      <td>NaN</td>\n    </tr>\n    <tr>\n      <th>38305</th>\n      <td>2020-01-01 00:40:00</td>\n      <td>20.0</td>\n      <td>100073</td>\n      <td>200196</td>\n      <td>삼성화재 행복한파트너 주택화재보험(1912)</td>\n      <td>무형</td>\n      <td>0</td>\n      <td>NaN</td>\n    </tr>\n    <tr>\n      <th>38306</th>\n      <td>2020-01-01 01:00:00</td>\n      <td>20.0</td>\n      <td>100073</td>\n      <td>200196</td>\n      <td>삼성화재 행복한파트너 주택화재보험(1912)</td>\n      <td>무형</td>\n      <td>0</td>\n      <td>NaN</td>\n    </tr>\n    <tr>\n      <th>38307</th>\n      <td>2020-01-01 01:20:00</td>\n      <td>20.0</td>\n      <td>100490</td>\n      <td>201478</td>\n      <td>더케이 예다함 상조서비스(티포트)</td>\n      <td>무형</td>\n      <td>0</td>\n      <td>NaN</td>\n    </tr>\n    <tr>\n      <th>38308</th>\n      <td>2020-01-01 01:40:00</td>\n      <td>17.0</td>\n      <td>100490</td>\n      <td>201478</td>\n      <td>더케이 예다함 상조서비스(티포트)</td>\n      <td>무형</td>\n      <td>0</td>\n      <td>NaN</td>\n    </tr>\n  </tbody>\n</table>\n<p>38309 rows × 8 columns</p>\n</div>"
     },
     "metadata": {},
     "execution_count": 4
    }
   ],
   "source": [
    "temp"
   ]
  },
  {
   "cell_type": "code",
   "execution_count": null,
   "metadata": {},
   "outputs": [],
   "source": []
  }
 ]
}