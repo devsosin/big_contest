{
 "metadata": {
  "language_info": {
   "codemirror_mode": {
    "name": "ipython",
    "version": 3
   },
   "file_extension": ".py",
   "mimetype": "text/x-python",
   "name": "python",
   "nbconvert_exporter": "python",
   "pygments_lexer": "ipython3",
   "version": "3.7.6-final"
  },
  "orig_nbformat": 2,
  "kernelspec": {
   "name": "python_defaultSpec_1597400457803",
   "display_name": "Python 3.7.6 64-bit ('base': conda)"
  }
 },
 "nbformat": 4,
 "nbformat_minor": 2,
 "cells": [
  {
   "cell_type": "code",
   "execution_count": 1,
   "metadata": {},
   "outputs": [],
   "source": [
    "import pandas as pd"
   ]
  },
  {
   "cell_type": "code",
   "execution_count": 5,
   "metadata": {},
   "outputs": [],
   "source": [
    "weather_df = pd.read_csv('datas/out_data/2019연중기후.csv', encoding='cp949')"
   ]
  },
  {
   "cell_type": "code",
   "execution_count": 6,
   "metadata": {},
   "outputs": [
    {
     "output_type": "execute_result",
     "data": {
      "text/plain": "             날짜  지점  평균기온(℃)  최저기온(℃)  최고기온(℃)\n0    2019-01-01  전국     -2.1     -5.8      2.1\n1    2019-01-02  전국     -2.5     -7.0      3.2\n2    2019-01-03  전국     -2.1     -7.7      5.0\n3    2019-01-04  전국     -0.7     -7.3      5.3\n4    2019-01-05  전국      0.2     -4.6      5.3\n..          ...  ..      ...      ...      ...\n360  2019-12-27  전국      0.6     -3.2      5.1\n361  2019-12-28  전국      0.5     -4.9      7.5\n362  2019-12-29  전국      2.6     -2.4      6.6\n363  2019-12-30  전국      5.0      0.1      9.8\n364  2019-12-31  전국     -3.8     -6.7      0.4\n\n[365 rows x 5 columns]",
      "text/html": "<div>\n<style scoped>\n    .dataframe tbody tr th:only-of-type {\n        vertical-align: middle;\n    }\n\n    .dataframe tbody tr th {\n        vertical-align: top;\n    }\n\n    .dataframe thead th {\n        text-align: right;\n    }\n</style>\n<table border=\"1\" class=\"dataframe\">\n  <thead>\n    <tr style=\"text-align: right;\">\n      <th></th>\n      <th>날짜</th>\n      <th>지점</th>\n      <th>평균기온(℃)</th>\n      <th>최저기온(℃)</th>\n      <th>최고기온(℃)</th>\n    </tr>\n  </thead>\n  <tbody>\n    <tr>\n      <th>0</th>\n      <td>2019-01-01</td>\n      <td>전국</td>\n      <td>-2.1</td>\n      <td>-5.8</td>\n      <td>2.1</td>\n    </tr>\n    <tr>\n      <th>1</th>\n      <td>2019-01-02</td>\n      <td>전국</td>\n      <td>-2.5</td>\n      <td>-7.0</td>\n      <td>3.2</td>\n    </tr>\n    <tr>\n      <th>2</th>\n      <td>2019-01-03</td>\n      <td>전국</td>\n      <td>-2.1</td>\n      <td>-7.7</td>\n      <td>5.0</td>\n    </tr>\n    <tr>\n      <th>3</th>\n      <td>2019-01-04</td>\n      <td>전국</td>\n      <td>-0.7</td>\n      <td>-7.3</td>\n      <td>5.3</td>\n    </tr>\n    <tr>\n      <th>4</th>\n      <td>2019-01-05</td>\n      <td>전국</td>\n      <td>0.2</td>\n      <td>-4.6</td>\n      <td>5.3</td>\n    </tr>\n    <tr>\n      <th>...</th>\n      <td>...</td>\n      <td>...</td>\n      <td>...</td>\n      <td>...</td>\n      <td>...</td>\n    </tr>\n    <tr>\n      <th>360</th>\n      <td>2019-12-27</td>\n      <td>전국</td>\n      <td>0.6</td>\n      <td>-3.2</td>\n      <td>5.1</td>\n    </tr>\n    <tr>\n      <th>361</th>\n      <td>2019-12-28</td>\n      <td>전국</td>\n      <td>0.5</td>\n      <td>-4.9</td>\n      <td>7.5</td>\n    </tr>\n    <tr>\n      <th>362</th>\n      <td>2019-12-29</td>\n      <td>전국</td>\n      <td>2.6</td>\n      <td>-2.4</td>\n      <td>6.6</td>\n    </tr>\n    <tr>\n      <th>363</th>\n      <td>2019-12-30</td>\n      <td>전국</td>\n      <td>5.0</td>\n      <td>0.1</td>\n      <td>9.8</td>\n    </tr>\n    <tr>\n      <th>364</th>\n      <td>2019-12-31</td>\n      <td>전국</td>\n      <td>-3.8</td>\n      <td>-6.7</td>\n      <td>0.4</td>\n    </tr>\n  </tbody>\n</table>\n<p>365 rows × 5 columns</p>\n</div>"
     },
     "metadata": {},
     "execution_count": 6
    }
   ],
   "source": [
    "weather_df"
   ]
  },
  {
   "cell_type": "code",
   "execution_count": 10,
   "metadata": {},
   "outputs": [
    {
     "output_type": "execute_result",
     "data": {
      "text/plain": "'2019-01-01'"
     },
     "metadata": {},
     "execution_count": 10
    }
   ],
   "source": [
    "import datetime\n",
    "str(datetime.date(2019, 1, 1))"
   ]
  },
  {
   "cell_type": "code",
   "execution_count": 11,
   "metadata": {},
   "outputs": [
    {
     "output_type": "execute_result",
     "data": {
      "text/plain": "datetime.date(2019, 1, 2)"
     },
     "metadata": {},
     "execution_count": 11
    }
   ],
   "source": [
    "datetime.date(2019, 1, 1) +datetime.timedelta(days=1)"
   ]
  },
  {
   "cell_type": "code",
   "execution_count": 14,
   "metadata": {},
   "outputs": [],
   "source": [
    "import requests\n",
    "from bs4 import BeautifulSoup"
   ]
  },
  {
   "cell_type": "code",
   "execution_count": 15,
   "metadata": {},
   "outputs": [],
   "source": [
    "start_date = '20190101'\n",
    "URL = 'https://www.ebs.co.kr/schedule?channelCd=tv&date={}&onor=tv'.format(start_date)\n",
    "\n",
    "r = requests.get(URL)\n",
    "sp = BeautifulSoup(r.text, 'html.parser')"
   ]
  },
  {
   "cell_type": "code",
   "execution_count": 19,
   "metadata": {},
   "outputs": [
    {
     "output_type": "execute_result",
     "data": {
      "text/plain": "54"
     },
     "metadata": {},
     "execution_count": 19
    }
   ],
   "source": [
    "sp.select('ul.main_timeline > li')"
   ]
  },
  {
   "cell_type": "code",
   "execution_count": 50,
   "metadata": {},
   "outputs": [],
   "source": [
    "URL = 'https://www.gsshop.com/shop/tv/tvScheduleMain.gs?lseq=415680-1&gsid=ECmain-AU415680-AU415680-1#{}_LIVE'.format(start_date)"
   ]
  },
  {
   "cell_type": "code",
   "execution_count": 51,
   "metadata": {},
   "outputs": [],
   "source": [
    "r = requests.get(URL)\n",
    "sp = BeautifulSoup(r.text, 'html.parser')"
   ]
  },
  {
   "cell_type": "code",
   "execution_count": 53,
   "metadata": {},
   "outputs": [
    {
     "output_type": "execute_result",
     "data": {
      "text/plain": "'<html>\\r\\n<head>\\r\\n<meta charset=\"UTF-8\"/></head>\\r\\n<body>\\r\\n<br>\\r\\n <br>\\r\\n <center>\\r\\n\\t<div class=\"suspend-login\">\\r\\n\\t\\t<h2>\\r\\n\\t\\tì\\xa0\\x91ì\\x86\\x8dì\\x9d´ ì\\x9d¼ì\\x8b\\x9c ì°¨ë\\x8b¨ë\\x90\\x98ì\\x97\\x88ì\\x8aµë\\x8b\\x88ë\\x8b¤.\\r\\n\\t\\t</h2>\\r\\n\\t\\t\\t<div class=\"inner-box\">\\r\\n\\t\\t\\t\\t\\t<p class=\"paragraph1\">GS SHOPì\\x97\\x90ì\\x84\\x9cë\\x8a\\x94 ê³\\xa0ê°\\x9dë\\x8b\\x98ì\\x9d\\x98 ì\\x86\\x8cì¤\\x91í\\x95\\x9c ê°\\x9cì\\x9d¸ì\\xa0\\x95ë³´ ë³´í\\x98¸ ì°¨ì\\x9b\\x90ì\\x97\\x90ì\\x84\\x9c ë¹\\x84ì\\xa0\\x95ì\\x83\\x81ì\\xa0\\x81ì\\x9d¸ ì\\x9a\\x94ì²\\xadì\\x9d\\x84 ì\\x9d¼ì\\x8b\\x9cì\\xa0\\x81ì\\x9c¼ë¡\\x9c ì°¨ë\\x8b¨í\\x95©ë\\x8b\\x88ë\\x8b¤. </p>\\r\\n\\t\\t\\t\\t\\t<p class=\"paragraph1\">ì\\x95\\x88ì\\xa0\\x84í\\x95\\x9c ì\\x84\\x9cë¹\\x84ì\\x8a¤ ì\\x9d´ì\\x9a©ì\\x9d\\x84 ì\\x9c\\x84í\\x95´ ì\\x9e\\xa0ì\\x8b\\x9c í\\x9b\\x84 ë\\x8b¤ì\\x8b\\x9c ë¡\\x9cê·¸ì\\x9d¸ì\\x9d\\x84 ì\\x8b\\x9cë\\x8f\\x84í\\x95´ì£¼ì\\x84¸ì\\x9a\\x94.</p>\\r\\n\\t\\t\\t\\t\\t<p class=\"paragraph2\">ìµ\\x9cê·¼ í\\x83\\x80 ì\\x82¬ì\\x9d´í\\x8a¸ë¥¼ í\\x86µí\\x95´ í\\x99\\x95ë³´ë\\x90\\x9c ID/PWë¥¼ ì\\x9d´ì\\x9a©í\\x95\\x98ì\\x97¬ ë¹\\x84ì\\xa0\\x95ì\\x83\\x81ì\\xa0\\x81ì\\x9d¸ ë¡\\x9cê·¸ì\\x9d¸ ì\\x8b\\x9cë\\x8f\\x84 ì\\x82¬ë¡\\x80ê°\\x80 ë°\\x9cê²¬ë\\x90¨ì\\x97\\x90 ë\\x94°ë¥¸ ì\\x82¬ì\\xa0\\x84 ì¡°ì¹\\x98ì\\x9e\\x85ë\\x8b\\x88ë\\x8b¤.</p> \\r\\n                                                            <p class=\"paragraph2\">ê³\\xa0ê°\\x9dë\\x8b\\x98ì\\x9d\\x98 ë\\x84\\x88ê·¸ë\\x9f¬ì\\x9a´ ì\\x96\\x91í\\x95´ ë¶\\x80í\\x83\\x81ë\\x93\\x9cë¦¬ë©° ê¶\\x81ê¸\\x88í\\x95\\x98ì\\x8b\\xa0 ë\\x82´ì\\x9a©ì\\x9d\\x80 ê³\\xa0ê°\\x9dì\\x84¼í\\x84°(1899-4500)ë¡\\x9c ë¬¸ì\\x9d\\x98 ë¶\\x80í\\x83\\x81ë\\x93\\x9cë¦½ë\\x8b\\x88ë\\x8b¤.</p>\\r\\n\\t\\t\\t</div>\\r\\n\\t</div>\\r\\n <table>\\r\\n <br>\\r\\n <br>\\r\\n <tr>\\r\\n <td>Detect client IP</td>\\r\\n <td>222.107.238.125</td>\\r\\n </tr>\\r\\n </table>\\r\\n </center>\\r\\n <br>\\r\\n</body>\\r\\n</html>'"
     },
     "metadata": {},
     "execution_count": 53
    }
   ],
   "source": [
    "r.text"
   ]
  },
  {
   "cell_type": "code",
   "execution_count": 48,
   "metadata": {},
   "outputs": [
    {
     "output_type": "execute_result",
     "data": {
      "text/plain": "[]"
     },
     "metadata": {},
     "execution_count": 48
    }
   ],
   "source": [
    "sp.select('div#tvSchedule')"
   ]
  },
  {
   "cell_type": "code",
   "execution_count": 41,
   "metadata": {},
   "outputs": [
    {
     "output_type": "execute_result",
     "data": {
      "text/plain": "                   time            title  \\\n0      2019-01-01 05:00           왕초보 영어   \n1      2019-01-01 05:30       세계견문록 아틀라스   \n2      2019-01-01 06:00       한국기행(전주재방)   \n3      2019-01-01 06:20           세계테마기행   \n4      2019-01-01 07:00  강철소방대 파이어로보(종합)   \n...                 ...              ...   \n17439  2019-12-31 23:35         미래교육 플러스   \n17440  2019-12-31 24:25        지식의 기쁨(재)   \n17441  2019-12-31 24:55      지식채널e(전주재방)   \n17442  2019-12-31 25:00            지식채널e   \n17443  2019-12-31 25:05        2019 헬로루키   \n\n                                     content  \n0                        제794회 너의 새해 결심은 뭐니?  \n1                                  자연의 색 서호주  \n2                       국수기행2 2부 한 그릇, 바다의 맛  \n3                    영혼의 팔레트 과테말라 2부 모험가의 낙원  \n4                                위기일발 메가시티 외  \n...                                      ...  \n17439  미래를 만드는 언어, 수학 3부 - '생각의 힘' 수학으로 키워라!  \n17440                           소통이 관계를 좌우한다  \n17441                                안아줄 수밖에  \n17442                                 9와 숫자들  \n17443                                     2화  \n\n[17444 rows x 3 columns]",
      "text/html": "<div>\n<style scoped>\n    .dataframe tbody tr th:only-of-type {\n        vertical-align: middle;\n    }\n\n    .dataframe tbody tr th {\n        vertical-align: top;\n    }\n\n    .dataframe thead th {\n        text-align: right;\n    }\n</style>\n<table border=\"1\" class=\"dataframe\">\n  <thead>\n    <tr style=\"text-align: right;\">\n      <th></th>\n      <th>time</th>\n      <th>title</th>\n      <th>content</th>\n    </tr>\n  </thead>\n  <tbody>\n    <tr>\n      <th>0</th>\n      <td>2019-01-01 05:00</td>\n      <td>왕초보 영어</td>\n      <td>제794회 너의 새해 결심은 뭐니?</td>\n    </tr>\n    <tr>\n      <th>1</th>\n      <td>2019-01-01 05:30</td>\n      <td>세계견문록 아틀라스</td>\n      <td>자연의 색 서호주</td>\n    </tr>\n    <tr>\n      <th>2</th>\n      <td>2019-01-01 06:00</td>\n      <td>한국기행(전주재방)</td>\n      <td>국수기행2 2부 한 그릇, 바다의 맛</td>\n    </tr>\n    <tr>\n      <th>3</th>\n      <td>2019-01-01 06:20</td>\n      <td>세계테마기행</td>\n      <td>영혼의 팔레트 과테말라 2부 모험가의 낙원</td>\n    </tr>\n    <tr>\n      <th>4</th>\n      <td>2019-01-01 07:00</td>\n      <td>강철소방대 파이어로보(종합)</td>\n      <td>위기일발 메가시티 외</td>\n    </tr>\n    <tr>\n      <th>...</th>\n      <td>...</td>\n      <td>...</td>\n      <td>...</td>\n    </tr>\n    <tr>\n      <th>17439</th>\n      <td>2019-12-31 23:35</td>\n      <td>미래교육 플러스</td>\n      <td>미래를 만드는 언어, 수학 3부 - '생각의 힘' 수학으로 키워라!</td>\n    </tr>\n    <tr>\n      <th>17440</th>\n      <td>2019-12-31 24:25</td>\n      <td>지식의 기쁨(재)</td>\n      <td>소통이 관계를 좌우한다</td>\n    </tr>\n    <tr>\n      <th>17441</th>\n      <td>2019-12-31 24:55</td>\n      <td>지식채널e(전주재방)</td>\n      <td>안아줄 수밖에</td>\n    </tr>\n    <tr>\n      <th>17442</th>\n      <td>2019-12-31 25:00</td>\n      <td>지식채널e</td>\n      <td>9와 숫자들</td>\n    </tr>\n    <tr>\n      <th>17443</th>\n      <td>2019-12-31 25:05</td>\n      <td>2019 헬로루키</td>\n      <td>2화</td>\n    </tr>\n  </tbody>\n</table>\n<p>17444 rows × 3 columns</p>\n</div>"
     },
     "metadata": {},
     "execution_count": 41
    }
   ],
   "source": [
    "pd.read_json('Colect_Data/ebs.json')"
   ]
  },
  {
   "cell_type": "code",
   "execution_count": null,
   "metadata": {},
   "outputs": [],
   "source": []
  }
 ]
}