{
 "metadata": {
  "language_info": {
   "codemirror_mode": {
    "name": "ipython",
    "version": 3
   },
   "file_extension": ".py",
   "mimetype": "text/x-python",
   "name": "python",
   "nbconvert_exporter": "python",
   "pygments_lexer": "ipython3",
   "version": "3.7.6-final"
  },
  "orig_nbformat": 2,
  "kernelspec": {
   "name": "python_defaultSpec_1597647910896",
   "display_name": "Python 3.7.6 64-bit ('base': conda)"
  }
 },
 "nbformat": 4,
 "nbformat_minor": 2,
 "cells": [
  {
   "cell_type": "code",
   "execution_count": 1,
   "metadata": {},
   "outputs": [],
   "source": [
    "import pandas as pd"
   ]
  },
  {
   "cell_type": "code",
   "execution_count": 5,
   "metadata": {},
   "outputs": [],
   "source": [
    "weather_df = pd.read_csv('datas/out_data/2019연중기후.csv', encoding='cp949')"
   ]
  },
  {
   "cell_type": "code",
   "execution_count": 6,
   "metadata": {},
   "outputs": [
    {
     "output_type": "execute_result",
     "data": {
      "text/plain": "             날짜  지점  평균기온(℃)  최저기온(℃)  최고기온(℃)\n0    2019-01-01  전국     -2.1     -5.8      2.1\n1    2019-01-02  전국     -2.5     -7.0      3.2\n2    2019-01-03  전국     -2.1     -7.7      5.0\n3    2019-01-04  전국     -0.7     -7.3      5.3\n4    2019-01-05  전국      0.2     -4.6      5.3\n..          ...  ..      ...      ...      ...\n360  2019-12-27  전국      0.6     -3.2      5.1\n361  2019-12-28  전국      0.5     -4.9      7.5\n362  2019-12-29  전국      2.6     -2.4      6.6\n363  2019-12-30  전국      5.0      0.1      9.8\n364  2019-12-31  전국     -3.8     -6.7      0.4\n\n[365 rows x 5 columns]",
      "text/html": "<div>\n<style scoped>\n    .dataframe tbody tr th:only-of-type {\n        vertical-align: middle;\n    }\n\n    .dataframe tbody tr th {\n        vertical-align: top;\n    }\n\n    .dataframe thead th {\n        text-align: right;\n    }\n</style>\n<table border=\"1\" class=\"dataframe\">\n  <thead>\n    <tr style=\"text-align: right;\">\n      <th></th>\n      <th>날짜</th>\n      <th>지점</th>\n      <th>평균기온(℃)</th>\n      <th>최저기온(℃)</th>\n      <th>최고기온(℃)</th>\n    </tr>\n  </thead>\n  <tbody>\n    <tr>\n      <th>0</th>\n      <td>2019-01-01</td>\n      <td>전국</td>\n      <td>-2.1</td>\n      <td>-5.8</td>\n      <td>2.1</td>\n    </tr>\n    <tr>\n      <th>1</th>\n      <td>2019-01-02</td>\n      <td>전국</td>\n      <td>-2.5</td>\n      <td>-7.0</td>\n      <td>3.2</td>\n    </tr>\n    <tr>\n      <th>2</th>\n      <td>2019-01-03</td>\n      <td>전국</td>\n      <td>-2.1</td>\n      <td>-7.7</td>\n      <td>5.0</td>\n    </tr>\n    <tr>\n      <th>3</th>\n      <td>2019-01-04</td>\n      <td>전국</td>\n      <td>-0.7</td>\n      <td>-7.3</td>\n      <td>5.3</td>\n    </tr>\n    <tr>\n      <th>4</th>\n      <td>2019-01-05</td>\n      <td>전국</td>\n      <td>0.2</td>\n      <td>-4.6</td>\n      <td>5.3</td>\n    </tr>\n    <tr>\n      <th>...</th>\n      <td>...</td>\n      <td>...</td>\n      <td>...</td>\n      <td>...</td>\n      <td>...</td>\n    </tr>\n    <tr>\n      <th>360</th>\n      <td>2019-12-27</td>\n      <td>전국</td>\n      <td>0.6</td>\n      <td>-3.2</td>\n      <td>5.1</td>\n    </tr>\n    <tr>\n      <th>361</th>\n      <td>2019-12-28</td>\n      <td>전국</td>\n      <td>0.5</td>\n      <td>-4.9</td>\n      <td>7.5</td>\n    </tr>\n    <tr>\n      <th>362</th>\n      <td>2019-12-29</td>\n      <td>전국</td>\n      <td>2.6</td>\n      <td>-2.4</td>\n      <td>6.6</td>\n    </tr>\n    <tr>\n      <th>363</th>\n      <td>2019-12-30</td>\n      <td>전국</td>\n      <td>5.0</td>\n      <td>0.1</td>\n      <td>9.8</td>\n    </tr>\n    <tr>\n      <th>364</th>\n      <td>2019-12-31</td>\n      <td>전국</td>\n      <td>-3.8</td>\n      <td>-6.7</td>\n      <td>0.4</td>\n    </tr>\n  </tbody>\n</table>\n<p>365 rows × 5 columns</p>\n</div>"
     },
     "metadata": {},
     "execution_count": 6
    }
   ],
   "source": [
    "weather_df"
   ]
  },
  {
   "cell_type": "code",
   "execution_count": 10,
   "metadata": {},
   "outputs": [
    {
     "output_type": "execute_result",
     "data": {
      "text/plain": "'2019-01-01'"
     },
     "metadata": {},
     "execution_count": 10
    }
   ],
   "source": [
    "import datetime\n",
    "str(datetime.date(2019, 1, 1))"
   ]
  },
  {
   "cell_type": "code",
   "execution_count": 11,
   "metadata": {},
   "outputs": [
    {
     "output_type": "execute_result",
     "data": {
      "text/plain": "datetime.date(2019, 1, 2)"
     },
     "metadata": {},
     "execution_count": 11
    }
   ],
   "source": [
    "datetime.date(2019, 1, 1) +datetime.timedelta(days=1)"
   ]
  },
  {
   "cell_type": "code",
   "execution_count": 1,
   "metadata": {},
   "outputs": [],
   "source": [
    "import requests\n",
    "from bs4 import BeautifulSoup"
   ]
  },
  {
   "cell_type": "code",
   "execution_count": 2,
   "metadata": {},
   "outputs": [],
   "source": [
    "start_date = '20190101'\n",
    "URL = 'https://www.ebs.co.kr/schedule?channelCd=tv&date={}&onor=tv'.format(start_date)\n",
    "\n",
    "r = requests.get(URL)\n",
    "sp = BeautifulSoup(r.text, 'html.parser')"
   ]
  },
  {
   "cell_type": "code",
   "execution_count": 19,
   "metadata": {},
   "outputs": [
    {
     "output_type": "execute_result",
     "data": {
      "text/plain": "54"
     },
     "metadata": {},
     "execution_count": 19
    }
   ],
   "source": [
    "sp.select('ul.main_timeline > li')"
   ]
  },
  {
   "cell_type": "code",
   "execution_count": 3,
   "metadata": {},
   "outputs": [],
   "source": [
    "URL = 'https://www.gsshop.com/shop/tv/tvScheduleMain.gs?lseq=415680-1&gsid=ECmain-AU415680-AU415680-1#{}_LIVE'.format(start_date)"
   ]
  },
  {
   "cell_type": "code",
   "execution_count": 4,
   "metadata": {},
   "outputs": [],
   "source": [
    "r = requests.get(URL)\n",
    "sp = BeautifulSoup(r.text, 'html.parser')"
   ]
  },
  {
   "cell_type": "code",
   "execution_count": 5,
   "metadata": {},
   "outputs": [
    {
     "output_type": "execute_result",
     "data": {
      "text/plain": "'<html>\\r\\n<head>\\r\\n<meta charset=\"UTF-8\"/></head>\\r\\n<body>\\r\\n<br>\\r\\n <br>\\r\\n <center>\\r\\n\\t<div class=\"suspend-login\">\\r\\n\\t\\t<h2>\\r\\n\\t\\tì\\xa0\\x91ì\\x86\\x8dì\\x9d´ ì\\x9d¼ì\\x8b\\x9c ì°¨ë\\x8b¨ë\\x90\\x98ì\\x97\\x88ì\\x8aµë\\x8b\\x88ë\\x8b¤.\\r\\n\\t\\t</h2>\\r\\n\\t\\t\\t<div class=\"inner-box\">\\r\\n\\t\\t\\t\\t\\t<p class=\"paragraph1\">GS SHOPì\\x97\\x90ì\\x84\\x9cë\\x8a\\x94 ê³\\xa0ê°\\x9dë\\x8b\\x98ì\\x9d\\x98 ì\\x86\\x8cì¤\\x91í\\x95\\x9c ê°\\x9cì\\x9d¸ì\\xa0\\x95ë³´ ë³´í\\x98¸ ì°¨ì\\x9b\\x90ì\\x97\\x90ì\\x84\\x9c ë¹\\x84ì\\xa0\\x95ì\\x83\\x81ì\\xa0\\x81ì\\x9d¸ ì\\x9a\\x94ì²\\xadì\\x9d\\x84 ì\\x9d¼ì\\x8b\\x9cì\\xa0\\x81ì\\x9c¼ë¡\\x9c ì°¨ë\\x8b¨í\\x95©ë\\x8b\\x88ë\\x8b¤. </p>\\r\\n\\t\\t\\t\\t\\t<p class=\"paragraph1\">ì\\x95\\x88ì\\xa0\\x84í\\x95\\x9c ì\\x84\\x9cë¹\\x84ì\\x8a¤ ì\\x9d´ì\\x9a©ì\\x9d\\x84 ì\\x9c\\x84í\\x95´ ì\\x9e\\xa0ì\\x8b\\x9c í\\x9b\\x84 ë\\x8b¤ì\\x8b\\x9c ë¡\\x9cê·¸ì\\x9d¸ì\\x9d\\x84 ì\\x8b\\x9cë\\x8f\\x84í\\x95´ì£¼ì\\x84¸ì\\x9a\\x94.</p>\\r\\n\\t\\t\\t\\t\\t<p class=\"paragraph2\">ìµ\\x9cê·¼ í\\x83\\x80 ì\\x82¬ì\\x9d´í\\x8a¸ë¥¼ í\\x86µí\\x95´ í\\x99\\x95ë³´ë\\x90\\x9c ID/PWë¥¼ ì\\x9d´ì\\x9a©í\\x95\\x98ì\\x97¬ ë¹\\x84ì\\xa0\\x95ì\\x83\\x81ì\\xa0\\x81ì\\x9d¸ ë¡\\x9cê·¸ì\\x9d¸ ì\\x8b\\x9cë\\x8f\\x84 ì\\x82¬ë¡\\x80ê°\\x80 ë°\\x9cê²¬ë\\x90¨ì\\x97\\x90 ë\\x94°ë¥¸ ì\\x82¬ì\\xa0\\x84 ì¡°ì¹\\x98ì\\x9e\\x85ë\\x8b\\x88ë\\x8b¤.</p> \\r\\n                                                            <p class=\"paragraph2\">ê³\\xa0ê°\\x9dë\\x8b\\x98ì\\x9d\\x98 ë\\x84\\x88ê·¸ë\\x9f¬ì\\x9a´ ì\\x96\\x91í\\x95´ ë¶\\x80í\\x83\\x81ë\\x93\\x9cë¦¬ë©° ê¶\\x81ê¸\\x88í\\x95\\x98ì\\x8b\\xa0 ë\\x82´ì\\x9a©ì\\x9d\\x80 ê³\\xa0ê°\\x9dì\\x84¼í\\x84°(1899-4500)ë¡\\x9c ë¬¸ì\\x9d\\x98 ë¶\\x80í\\x83\\x81ë\\x93\\x9cë¦½ë\\x8b\\x88ë\\x8b¤.</p>\\r\\n\\t\\t\\t</div>\\r\\n\\t</div>\\r\\n <table>\\r\\n <br>\\r\\n <br>\\r\\n <tr>\\r\\n <td>Detect client IP</td>\\r\\n <td>59.187.219.253</td>\\r\\n </tr>\\r\\n </table>\\r\\n </center>\\r\\n <br>\\r\\n</body>\\r\\n</html>'"
     },
     "metadata": {},
     "execution_count": 5
    }
   ],
   "source": [
    "r.text"
   ]
  },
  {
   "cell_type": "code",
   "execution_count": 23,
   "metadata": {},
   "outputs": [],
   "source": [
    "search_word = '홈쇼핑'\n",
    "URL = 'http://instagram.com/graphql/query/?query_hash=7dabc71d3e758b1ec19ffb85639e427b&variables={\"tag_name\":\"' + search_word + '\",\"first\":12}'\n",
    "\n",
    "r = requests.get(URL)\n",
    "import json\n",
    "\n",
    "results = json.loads(r.text)\n",
    "# sp = BeautifulSoup(r.text, 'html.parser')"
   ]
  },
  {
   "cell_type": "code",
   "execution_count": 26,
   "metadata": {},
   "outputs": [
    {
     "output_type": "execute_result",
     "data": {
      "text/plain": "2"
     },
     "metadata": {},
     "execution_count": 26
    }
   ],
   "source": [
    "results"
   ]
  },
  {
   "cell_type": "code",
   "execution_count": null,
   "metadata": {},
   "outputs": [],
   "source": []
  },
  {
   "cell_type": "code",
   "execution_count": 48,
   "metadata": {},
   "outputs": [
    {
     "output_type": "execute_result",
     "data": {
      "text/plain": "[]"
     },
     "metadata": {},
     "execution_count": 48
    }
   ],
   "source": [
    "sp.select('div#tvSchedule')"
   ]
  },
  {
   "cell_type": "code",
   "execution_count": 41,
   "metadata": {},
   "outputs": [
    {
     "output_type": "execute_result",
     "data": {
      "text/plain": "                   time            title  \\\n0      2019-01-01 05:00           왕초보 영어   \n1      2019-01-01 05:30       세계견문록 아틀라스   \n2      2019-01-01 06:00       한국기행(전주재방)   \n3      2019-01-01 06:20           세계테마기행   \n4      2019-01-01 07:00  강철소방대 파이어로보(종합)   \n...                 ...              ...   \n17439  2019-12-31 23:35         미래교육 플러스   \n17440  2019-12-31 24:25        지식의 기쁨(재)   \n17441  2019-12-31 24:55      지식채널e(전주재방)   \n17442  2019-12-31 25:00            지식채널e   \n17443  2019-12-31 25:05        2019 헬로루키   \n\n                                     content  \n0                        제794회 너의 새해 결심은 뭐니?  \n1                                  자연의 색 서호주  \n2                       국수기행2 2부 한 그릇, 바다의 맛  \n3                    영혼의 팔레트 과테말라 2부 모험가의 낙원  \n4                                위기일발 메가시티 외  \n...                                      ...  \n17439  미래를 만드는 언어, 수학 3부 - '생각의 힘' 수학으로 키워라!  \n17440                           소통이 관계를 좌우한다  \n17441                                안아줄 수밖에  \n17442                                 9와 숫자들  \n17443                                     2화  \n\n[17444 rows x 3 columns]",
      "text/html": "<div>\n<style scoped>\n    .dataframe tbody tr th:only-of-type {\n        vertical-align: middle;\n    }\n\n    .dataframe tbody tr th {\n        vertical-align: top;\n    }\n\n    .dataframe thead th {\n        text-align: right;\n    }\n</style>\n<table border=\"1\" class=\"dataframe\">\n  <thead>\n    <tr style=\"text-align: right;\">\n      <th></th>\n      <th>time</th>\n      <th>title</th>\n      <th>content</th>\n    </tr>\n  </thead>\n  <tbody>\n    <tr>\n      <th>0</th>\n      <td>2019-01-01 05:00</td>\n      <td>왕초보 영어</td>\n      <td>제794회 너의 새해 결심은 뭐니?</td>\n    </tr>\n    <tr>\n      <th>1</th>\n      <td>2019-01-01 05:30</td>\n      <td>세계견문록 아틀라스</td>\n      <td>자연의 색 서호주</td>\n    </tr>\n    <tr>\n      <th>2</th>\n      <td>2019-01-01 06:00</td>\n      <td>한국기행(전주재방)</td>\n      <td>국수기행2 2부 한 그릇, 바다의 맛</td>\n    </tr>\n    <tr>\n      <th>3</th>\n      <td>2019-01-01 06:20</td>\n      <td>세계테마기행</td>\n      <td>영혼의 팔레트 과테말라 2부 모험가의 낙원</td>\n    </tr>\n    <tr>\n      <th>4</th>\n      <td>2019-01-01 07:00</td>\n      <td>강철소방대 파이어로보(종합)</td>\n      <td>위기일발 메가시티 외</td>\n    </tr>\n    <tr>\n      <th>...</th>\n      <td>...</td>\n      <td>...</td>\n      <td>...</td>\n    </tr>\n    <tr>\n      <th>17439</th>\n      <td>2019-12-31 23:35</td>\n      <td>미래교육 플러스</td>\n      <td>미래를 만드는 언어, 수학 3부 - '생각의 힘' 수학으로 키워라!</td>\n    </tr>\n    <tr>\n      <th>17440</th>\n      <td>2019-12-31 24:25</td>\n      <td>지식의 기쁨(재)</td>\n      <td>소통이 관계를 좌우한다</td>\n    </tr>\n    <tr>\n      <th>17441</th>\n      <td>2019-12-31 24:55</td>\n      <td>지식채널e(전주재방)</td>\n      <td>안아줄 수밖에</td>\n    </tr>\n    <tr>\n      <th>17442</th>\n      <td>2019-12-31 25:00</td>\n      <td>지식채널e</td>\n      <td>9와 숫자들</td>\n    </tr>\n    <tr>\n      <th>17443</th>\n      <td>2019-12-31 25:05</td>\n      <td>2019 헬로루키</td>\n      <td>2화</td>\n    </tr>\n  </tbody>\n</table>\n<p>17444 rows × 3 columns</p>\n</div>"
     },
     "metadata": {},
     "execution_count": 41
    }
   ],
   "source": [
    "pd.read_json('Colect_Data/ebs.json')"
   ]
  },
  {
   "cell_type": "code",
   "execution_count": 7,
   "metadata": {},
   "outputs": [],
   "source": [
    "import pandas as pd"
   ]
  },
  {
   "cell_type": "code",
   "execution_count": 15,
   "metadata": {},
   "outputs": [],
   "source": [
    "from datetime import datetime"
   ]
  },
  {
   "cell_type": "code",
   "execution_count": 16,
   "metadata": {},
   "outputs": [],
   "source": [
    "a = pd.read_json('datas/out_data/covid_news.json')\n",
    "\n",
    "a[0] = list(map(lambda i : datetime.fromtimestamp(i/1000), a[0]))"
   ]
  },
  {
   "cell_type": "code",
   "execution_count": 19,
   "metadata": {
    "tags": []
   },
   "outputs": [
    {
     "output_type": "execute_result",
     "data": {
      "text/plain": "[<matplotlib.lines.Line2D at 0x1c85505a148>]"
     },
     "metadata": {},
     "execution_count": 19
    },
    {
     "output_type": "stream",
     "name": "stderr",
     "text": "findfont: Font family ['BMJUA_ttf'] not found. Falling back to DejaVu Sans.\n"
    },
    {
     "output_type": "display_data",
     "data": {
      "text/plain": "<Figure size 432x288 with 1 Axes>",
      "image/svg+xml": "<?xml version=\"1.0\" encoding=\"utf-8\" standalone=\"no\"?>\r\n<!DOCTYPE svg PUBLIC \"-//W3C//DTD SVG 1.1//EN\"\r\n  \"http://www.w3.org/Graphics/SVG/1.1/DTD/svg11.dtd\">\r\n<!-- Created with matplotlib (https://matplotlib.org/) -->\r\n<svg height=\"248.518125pt\" version=\"1.1\" viewBox=\"0 0 391.105745 248.518125\" width=\"391.105745pt\" xmlns=\"http://www.w3.org/2000/svg\" xmlns:xlink=\"http://www.w3.org/1999/xlink\">\r\n <defs>\r\n  <style type=\"text/css\">\r\n*{stroke-linecap:butt;stroke-linejoin:round;}\r\n  </style>\r\n </defs>\r\n <g id=\"figure_1\">\r\n  <g id=\"patch_1\">\r\n   <path d=\"M 0 248.518125 \r\nL 391.105745 248.518125 \r\nL 391.105745 0 \r\nL 0 0 \r\nz\r\n\" style=\"fill:none;\"/>\r\n  </g>\r\n  <g id=\"axes_1\">\r\n   <g id=\"patch_2\">\r\n    <path d=\"M 46.0125 224.64 \r\nL 380.8125 224.64 \r\nL 380.8125 7.2 \r\nL 46.0125 7.2 \r\nz\r\n\" style=\"fill:#ffffff;\"/>\r\n   </g>\r\n   <g id=\"matplotlib.axis_1\">\r\n    <g id=\"xtick_1\">\r\n     <g id=\"line2d_1\">\r\n      <defs>\r\n       <path d=\"M 0 0 \r\nL 0 3.5 \r\n\" id=\"mc3e93588be\" style=\"stroke:#000000;stroke-width:0.8;\"/>\r\n      </defs>\r\n      <g>\r\n       <use style=\"stroke:#000000;stroke-width:0.8;\" x=\"61.230682\" xlink:href=\"#mc3e93588be\" y=\"224.64\"/>\r\n      </g>\r\n     </g>\r\n     <g id=\"text_1\">\r\n      <!-- 0 -->\r\n      <defs>\r\n       <path d=\"M 31.78125 66.40625 \r\nQ 24.171875 66.40625 20.328125 58.90625 \r\nQ 16.5 51.421875 16.5 36.375 \r\nQ 16.5 21.390625 20.328125 13.890625 \r\nQ 24.171875 6.390625 31.78125 6.390625 \r\nQ 39.453125 6.390625 43.28125 13.890625 \r\nQ 47.125 21.390625 47.125 36.375 \r\nQ 47.125 51.421875 43.28125 58.90625 \r\nQ 39.453125 66.40625 31.78125 66.40625 \r\nz\r\nM 31.78125 74.21875 \r\nQ 44.046875 74.21875 50.515625 64.515625 \r\nQ 56.984375 54.828125 56.984375 36.375 \r\nQ 56.984375 17.96875 50.515625 8.265625 \r\nQ 44.046875 -1.421875 31.78125 -1.421875 \r\nQ 19.53125 -1.421875 13.0625 8.265625 \r\nQ 6.59375 17.96875 6.59375 36.375 \r\nQ 6.59375 54.828125 13.0625 64.515625 \r\nQ 19.53125 74.21875 31.78125 74.21875 \r\nz\r\n\" id=\"DejaVuSans-48\"/>\r\n      </defs>\r\n      <g transform=\"translate(58.049432 239.238437)scale(0.1 -0.1)\">\r\n       <use xlink:href=\"#DejaVuSans-48\"/>\r\n      </g>\r\n     </g>\r\n    </g>\r\n    <g id=\"xtick_2\">\r\n     <g id=\"line2d_2\">\r\n      <g>\r\n       <use style=\"stroke:#000000;stroke-width:0.8;\" x=\"123.856944\" xlink:href=\"#mc3e93588be\" y=\"224.64\"/>\r\n      </g>\r\n     </g>\r\n     <g id=\"text_2\">\r\n      <!-- 50 -->\r\n      <defs>\r\n       <path d=\"M 10.796875 72.90625 \r\nL 49.515625 72.90625 \r\nL 49.515625 64.59375 \r\nL 19.828125 64.59375 \r\nL 19.828125 46.734375 \r\nQ 21.96875 47.46875 24.109375 47.828125 \r\nQ 26.265625 48.1875 28.421875 48.1875 \r\nQ 40.625 48.1875 47.75 41.5 \r\nQ 54.890625 34.8125 54.890625 23.390625 \r\nQ 54.890625 11.625 47.5625 5.09375 \r\nQ 40.234375 -1.421875 26.90625 -1.421875 \r\nQ 22.3125 -1.421875 17.546875 -0.640625 \r\nQ 12.796875 0.140625 7.71875 1.703125 \r\nL 7.71875 11.625 \r\nQ 12.109375 9.234375 16.796875 8.0625 \r\nQ 21.484375 6.890625 26.703125 6.890625 \r\nQ 35.15625 6.890625 40.078125 11.328125 \r\nQ 45.015625 15.765625 45.015625 23.390625 \r\nQ 45.015625 31 40.078125 35.4375 \r\nQ 35.15625 39.890625 26.703125 39.890625 \r\nQ 22.75 39.890625 18.8125 39.015625 \r\nQ 14.890625 38.140625 10.796875 36.28125 \r\nz\r\n\" id=\"DejaVuSans-53\"/>\r\n      </defs>\r\n      <g transform=\"translate(117.494444 239.238437)scale(0.1 -0.1)\">\r\n       <use xlink:href=\"#DejaVuSans-53\"/>\r\n       <use x=\"63.623047\" xlink:href=\"#DejaVuSans-48\"/>\r\n      </g>\r\n     </g>\r\n    </g>\r\n    <g id=\"xtick_3\">\r\n     <g id=\"line2d_3\">\r\n      <g>\r\n       <use style=\"stroke:#000000;stroke-width:0.8;\" x=\"186.483207\" xlink:href=\"#mc3e93588be\" y=\"224.64\"/>\r\n      </g>\r\n     </g>\r\n     <g id=\"text_3\">\r\n      <!-- 100 -->\r\n      <defs>\r\n       <path d=\"M 12.40625 8.296875 \r\nL 28.515625 8.296875 \r\nL 28.515625 63.921875 \r\nL 10.984375 60.40625 \r\nL 10.984375 69.390625 \r\nL 28.421875 72.90625 \r\nL 38.28125 72.90625 \r\nL 38.28125 8.296875 \r\nL 54.390625 8.296875 \r\nL 54.390625 0 \r\nL 12.40625 0 \r\nz\r\n\" id=\"DejaVuSans-49\"/>\r\n      </defs>\r\n      <g transform=\"translate(176.939457 239.238437)scale(0.1 -0.1)\">\r\n       <use xlink:href=\"#DejaVuSans-49\"/>\r\n       <use x=\"63.623047\" xlink:href=\"#DejaVuSans-48\"/>\r\n       <use x=\"127.246094\" xlink:href=\"#DejaVuSans-48\"/>\r\n      </g>\r\n     </g>\r\n    </g>\r\n    <g id=\"xtick_4\">\r\n     <g id=\"line2d_4\">\r\n      <g>\r\n       <use style=\"stroke:#000000;stroke-width:0.8;\" x=\"249.10947\" xlink:href=\"#mc3e93588be\" y=\"224.64\"/>\r\n      </g>\r\n     </g>\r\n     <g id=\"text_4\">\r\n      <!-- 150 -->\r\n      <g transform=\"translate(239.56572 239.238437)scale(0.1 -0.1)\">\r\n       <use xlink:href=\"#DejaVuSans-49\"/>\r\n       <use x=\"63.623047\" xlink:href=\"#DejaVuSans-53\"/>\r\n       <use x=\"127.246094\" xlink:href=\"#DejaVuSans-48\"/>\r\n      </g>\r\n     </g>\r\n    </g>\r\n    <g id=\"xtick_5\">\r\n     <g id=\"line2d_5\">\r\n      <g>\r\n       <use style=\"stroke:#000000;stroke-width:0.8;\" x=\"311.735732\" xlink:href=\"#mc3e93588be\" y=\"224.64\"/>\r\n      </g>\r\n     </g>\r\n     <g id=\"text_5\">\r\n      <!-- 200 -->\r\n      <defs>\r\n       <path d=\"M 19.1875 8.296875 \r\nL 53.609375 8.296875 \r\nL 53.609375 0 \r\nL 7.328125 0 \r\nL 7.328125 8.296875 \r\nQ 12.9375 14.109375 22.625 23.890625 \r\nQ 32.328125 33.6875 34.8125 36.53125 \r\nQ 39.546875 41.84375 41.421875 45.53125 \r\nQ 43.3125 49.21875 43.3125 52.78125 \r\nQ 43.3125 58.59375 39.234375 62.25 \r\nQ 35.15625 65.921875 28.609375 65.921875 \r\nQ 23.96875 65.921875 18.8125 64.3125 \r\nQ 13.671875 62.703125 7.8125 59.421875 \r\nL 7.8125 69.390625 \r\nQ 13.765625 71.78125 18.9375 73 \r\nQ 24.125 74.21875 28.421875 74.21875 \r\nQ 39.75 74.21875 46.484375 68.546875 \r\nQ 53.21875 62.890625 53.21875 53.421875 \r\nQ 53.21875 48.921875 51.53125 44.890625 \r\nQ 49.859375 40.875 45.40625 35.40625 \r\nQ 44.1875 33.984375 37.640625 27.21875 \r\nQ 31.109375 20.453125 19.1875 8.296875 \r\nz\r\n\" id=\"DejaVuSans-50\"/>\r\n      </defs>\r\n      <g transform=\"translate(302.191982 239.238437)scale(0.1 -0.1)\">\r\n       <use xlink:href=\"#DejaVuSans-50\"/>\r\n       <use x=\"63.623047\" xlink:href=\"#DejaVuSans-48\"/>\r\n       <use x=\"127.246094\" xlink:href=\"#DejaVuSans-48\"/>\r\n      </g>\r\n     </g>\r\n    </g>\r\n    <g id=\"xtick_6\">\r\n     <g id=\"line2d_6\">\r\n      <g>\r\n       <use style=\"stroke:#000000;stroke-width:0.8;\" x=\"374.361995\" xlink:href=\"#mc3e93588be\" y=\"224.64\"/>\r\n      </g>\r\n     </g>\r\n     <g id=\"text_6\">\r\n      <!-- 250 -->\r\n      <g transform=\"translate(364.818245 239.238437)scale(0.1 -0.1)\">\r\n       <use xlink:href=\"#DejaVuSans-50\"/>\r\n       <use x=\"63.623047\" xlink:href=\"#DejaVuSans-53\"/>\r\n       <use x=\"127.246094\" xlink:href=\"#DejaVuSans-48\"/>\r\n      </g>\r\n     </g>\r\n    </g>\r\n   </g>\r\n   <g id=\"matplotlib.axis_2\">\r\n    <g id=\"ytick_1\">\r\n     <g id=\"line2d_7\">\r\n      <defs>\r\n       <path d=\"M 0 0 \r\nL -3.5 0 \r\n\" id=\"m393f4bff42\" style=\"stroke:#000000;stroke-width:0.8;\"/>\r\n      </defs>\r\n      <g>\r\n       <use style=\"stroke:#000000;stroke-width:0.8;\" x=\"46.0125\" xlink:href=\"#m393f4bff42\" y=\"214.756364\"/>\r\n      </g>\r\n     </g>\r\n     <g id=\"text_7\">\r\n      <!-- 0 -->\r\n      <g transform=\"translate(32.65 218.555582)scale(0.1 -0.1)\">\r\n       <use xlink:href=\"#DejaVuSans-48\"/>\r\n      </g>\r\n     </g>\r\n    </g>\r\n    <g id=\"ytick_2\">\r\n     <g id=\"line2d_8\">\r\n      <g>\r\n       <use style=\"stroke:#000000;stroke-width:0.8;\" x=\"46.0125\" xlink:href=\"#m393f4bff42\" y=\"186.67067\"/>\r\n      </g>\r\n     </g>\r\n     <g id=\"text_8\">\r\n      <!-- 5000 -->\r\n      <g transform=\"translate(13.5625 190.469889)scale(0.1 -0.1)\">\r\n       <use xlink:href=\"#DejaVuSans-53\"/>\r\n       <use x=\"63.623047\" xlink:href=\"#DejaVuSans-48\"/>\r\n       <use x=\"127.246094\" xlink:href=\"#DejaVuSans-48\"/>\r\n       <use x=\"190.869141\" xlink:href=\"#DejaVuSans-48\"/>\r\n      </g>\r\n     </g>\r\n    </g>\r\n    <g id=\"ytick_3\">\r\n     <g id=\"line2d_9\">\r\n      <g>\r\n       <use style=\"stroke:#000000;stroke-width:0.8;\" x=\"46.0125\" xlink:href=\"#m393f4bff42\" y=\"158.584977\"/>\r\n      </g>\r\n     </g>\r\n     <g id=\"text_9\">\r\n      <!-- 10000 -->\r\n      <g transform=\"translate(7.2 162.384196)scale(0.1 -0.1)\">\r\n       <use xlink:href=\"#DejaVuSans-49\"/>\r\n       <use x=\"63.623047\" xlink:href=\"#DejaVuSans-48\"/>\r\n       <use x=\"127.246094\" xlink:href=\"#DejaVuSans-48\"/>\r\n       <use x=\"190.869141\" xlink:href=\"#DejaVuSans-48\"/>\r\n       <use x=\"254.492188\" xlink:href=\"#DejaVuSans-48\"/>\r\n      </g>\r\n     </g>\r\n    </g>\r\n    <g id=\"ytick_4\">\r\n     <g id=\"line2d_10\">\r\n      <g>\r\n       <use style=\"stroke:#000000;stroke-width:0.8;\" x=\"46.0125\" xlink:href=\"#m393f4bff42\" y=\"130.499283\"/>\r\n      </g>\r\n     </g>\r\n     <g id=\"text_10\">\r\n      <!-- 15000 -->\r\n      <g transform=\"translate(7.2 134.298502)scale(0.1 -0.1)\">\r\n       <use xlink:href=\"#DejaVuSans-49\"/>\r\n       <use x=\"63.623047\" xlink:href=\"#DejaVuSans-53\"/>\r\n       <use x=\"127.246094\" xlink:href=\"#DejaVuSans-48\"/>\r\n       <use x=\"190.869141\" xlink:href=\"#DejaVuSans-48\"/>\r\n       <use x=\"254.492188\" xlink:href=\"#DejaVuSans-48\"/>\r\n      </g>\r\n     </g>\r\n    </g>\r\n    <g id=\"ytick_5\">\r\n     <g id=\"line2d_11\">\r\n      <g>\r\n       <use style=\"stroke:#000000;stroke-width:0.8;\" x=\"46.0125\" xlink:href=\"#m393f4bff42\" y=\"102.41359\"/>\r\n      </g>\r\n     </g>\r\n     <g id=\"text_11\">\r\n      <!-- 20000 -->\r\n      <g transform=\"translate(7.2 106.212809)scale(0.1 -0.1)\">\r\n       <use xlink:href=\"#DejaVuSans-50\"/>\r\n       <use x=\"63.623047\" xlink:href=\"#DejaVuSans-48\"/>\r\n       <use x=\"127.246094\" xlink:href=\"#DejaVuSans-48\"/>\r\n       <use x=\"190.869141\" xlink:href=\"#DejaVuSans-48\"/>\r\n       <use x=\"254.492188\" xlink:href=\"#DejaVuSans-48\"/>\r\n      </g>\r\n     </g>\r\n    </g>\r\n    <g id=\"ytick_6\">\r\n     <g id=\"line2d_12\">\r\n      <g>\r\n       <use style=\"stroke:#000000;stroke-width:0.8;\" x=\"46.0125\" xlink:href=\"#m393f4bff42\" y=\"74.327897\"/>\r\n      </g>\r\n     </g>\r\n     <g id=\"text_12\">\r\n      <!-- 25000 -->\r\n      <g transform=\"translate(7.2 78.127115)scale(0.1 -0.1)\">\r\n       <use xlink:href=\"#DejaVuSans-50\"/>\r\n       <use x=\"63.623047\" xlink:href=\"#DejaVuSans-53\"/>\r\n       <use x=\"127.246094\" xlink:href=\"#DejaVuSans-48\"/>\r\n       <use x=\"190.869141\" xlink:href=\"#DejaVuSans-48\"/>\r\n       <use x=\"254.492188\" xlink:href=\"#DejaVuSans-48\"/>\r\n      </g>\r\n     </g>\r\n    </g>\r\n    <g id=\"ytick_7\">\r\n     <g id=\"line2d_13\">\r\n      <g>\r\n       <use style=\"stroke:#000000;stroke-width:0.8;\" x=\"46.0125\" xlink:href=\"#m393f4bff42\" y=\"46.242203\"/>\r\n      </g>\r\n     </g>\r\n     <g id=\"text_13\">\r\n      <!-- 30000 -->\r\n      <defs>\r\n       <path d=\"M 40.578125 39.3125 \r\nQ 47.65625 37.796875 51.625 33 \r\nQ 55.609375 28.21875 55.609375 21.1875 \r\nQ 55.609375 10.40625 48.1875 4.484375 \r\nQ 40.765625 -1.421875 27.09375 -1.421875 \r\nQ 22.515625 -1.421875 17.65625 -0.515625 \r\nQ 12.796875 0.390625 7.625 2.203125 \r\nL 7.625 11.71875 \r\nQ 11.71875 9.328125 16.59375 8.109375 \r\nQ 21.484375 6.890625 26.8125 6.890625 \r\nQ 36.078125 6.890625 40.9375 10.546875 \r\nQ 45.796875 14.203125 45.796875 21.1875 \r\nQ 45.796875 27.640625 41.28125 31.265625 \r\nQ 36.765625 34.90625 28.71875 34.90625 \r\nL 20.21875 34.90625 \r\nL 20.21875 43.015625 \r\nL 29.109375 43.015625 \r\nQ 36.375 43.015625 40.234375 45.921875 \r\nQ 44.09375 48.828125 44.09375 54.296875 \r\nQ 44.09375 59.90625 40.109375 62.90625 \r\nQ 36.140625 65.921875 28.71875 65.921875 \r\nQ 24.65625 65.921875 20.015625 65.03125 \r\nQ 15.375 64.15625 9.8125 62.3125 \r\nL 9.8125 71.09375 \r\nQ 15.4375 72.65625 20.34375 73.4375 \r\nQ 25.25 74.21875 29.59375 74.21875 \r\nQ 40.828125 74.21875 47.359375 69.109375 \r\nQ 53.90625 64.015625 53.90625 55.328125 \r\nQ 53.90625 49.265625 50.4375 45.09375 \r\nQ 46.96875 40.921875 40.578125 39.3125 \r\nz\r\n\" id=\"DejaVuSans-51\"/>\r\n      </defs>\r\n      <g transform=\"translate(7.2 50.041422)scale(0.1 -0.1)\">\r\n       <use xlink:href=\"#DejaVuSans-51\"/>\r\n       <use x=\"63.623047\" xlink:href=\"#DejaVuSans-48\"/>\r\n       <use x=\"127.246094\" xlink:href=\"#DejaVuSans-48\"/>\r\n       <use x=\"190.869141\" xlink:href=\"#DejaVuSans-48\"/>\r\n       <use x=\"254.492188\" xlink:href=\"#DejaVuSans-48\"/>\r\n      </g>\r\n     </g>\r\n    </g>\r\n    <g id=\"ytick_8\">\r\n     <g id=\"line2d_14\">\r\n      <g>\r\n       <use style=\"stroke:#000000;stroke-width:0.8;\" x=\"46.0125\" xlink:href=\"#m393f4bff42\" y=\"18.15651\"/>\r\n      </g>\r\n     </g>\r\n     <g id=\"text_14\">\r\n      <!-- 35000 -->\r\n      <g transform=\"translate(7.2 21.955729)scale(0.1 -0.1)\">\r\n       <use xlink:href=\"#DejaVuSans-51\"/>\r\n       <use x=\"63.623047\" xlink:href=\"#DejaVuSans-53\"/>\r\n       <use x=\"127.246094\" xlink:href=\"#DejaVuSans-48\"/>\r\n       <use x=\"190.869141\" xlink:href=\"#DejaVuSans-48\"/>\r\n       <use x=\"254.492188\" xlink:href=\"#DejaVuSans-48\"/>\r\n      </g>\r\n     </g>\r\n    </g>\r\n   </g>\r\n   <g id=\"line2d_15\">\r\n    <path clip-path=\"url(#p04b24e702b)\" d=\"M 61.230682 214.745129 \r\nL 64.988258 214.700192 \r\nL 69.998359 214.745129 \r\nL 83.776136 214.717044 \r\nL 91.291288 214.745129 \r\nL 95.048864 214.700192 \r\nL 97.553914 214.711427 \r\nL 105.069066 214.700192 \r\nL 107.574116 214.672107 \r\nL 108.826641 214.677724 \r\nL 110.079167 214.026136 \r\nL 111.331692 214.447421 \r\nL 112.584217 214.31261 \r\nL 113.836742 214.688958 \r\nL 115.089268 214.46989 \r\nL 117.594318 214.593467 \r\nL 118.846843 214.048604 \r\nL 120.099369 213.981198 \r\nL 121.351894 214.604701 \r\nL 122.604419 214.481124 \r\nL 123.856944 209.369528 \r\nL 125.10947 207.038415 \r\nL 126.361995 202.786241 \r\nL 127.61452 201.269614 \r\nL 128.867045 205.488085 \r\nL 130.119571 208.100054 \r\nL 131.372096 203.92652 \r\nL 132.624621 192.916928 \r\nL 133.877146 140.278722 \r\nL 135.129672 149.754835 \r\nL 136.382197 142.137995 \r\nL 137.634722 141.239253 \r\nL 138.887247 188.327726 \r\nL 140.139773 168.926129 \r\nL 141.392298 123.893528 \r\nL 142.644823 116.832785 \r\nL 143.897348 112.103154 \r\nL 145.149874 121.33773 \r\nL 146.402399 137.824032 \r\nL 147.654924 190.422919 \r\nL 148.907449 174.357902 \r\nL 150.159975 136.189445 \r\nL 151.4125 138.335192 \r\nL 152.665025 135.700754 \r\nL 153.917551 138.75086 \r\nL 155.170076 158.388377 \r\nL 156.422601 196.158017 \r\nL 157.675126 177.565288 \r\nL 158.927652 144.289359 \r\nL 160.180177 139.312574 \r\nL 161.432702 126.791972 \r\nL 162.685227 110.771892 \r\nL 163.937753 102.301247 \r\nL 165.190278 159.259033 \r\nL 166.442803 121.225387 \r\nL 167.695328 35.148354 \r\nL 168.947854 26.582218 \r\nL 170.200379 21.830119 \r\nL 171.452904 17.971144 \r\nL 172.705429 43.051668 \r\nL 173.957955 157.045881 \r\nL 175.21048 122.753249 \r\nL 176.463005 17.083636 \r\nL 177.71553 29.946884 \r\nL 178.968056 17.954293 \r\nL 180.220581 27.778668 \r\nL 181.473106 66.536925 \r\nL 182.725631 164.522292 \r\nL 183.978157 133.51007 \r\nL 185.230682 40.344208 \r\nL 186.483207 26.391235 \r\nL 187.735732 21.53241 \r\nL 188.988258 20.223617 \r\nL 190.240783 65.200046 \r\nL 191.493308 168.690209 \r\nL 192.745833 128.578222 \r\nL 193.998359 35.120269 \r\nL 195.250884 21.751479 \r\nL 196.503409 18.167744 \r\nL 197.755934 19.605732 \r\nL 199.00846 72.653989 \r\nL 200.260985 166.095091 \r\nL 201.51351 133.453898 \r\nL 202.766035 26.615921 \r\nL 204.018561 24.273574 \r\nL 205.271086 26.722646 \r\nL 206.523611 21.330193 \r\nL 207.776136 74.32228 \r\nL 209.028662 167.35333 \r\nL 210.281187 127.20764 \r\nL 211.533712 27.778668 \r\nL 212.786237 29.946884 \r\nL 214.038763 25.481259 \r\nL 215.291288 27.643857 \r\nL 216.543813 78.186871 \r\nL 217.796338 168.538547 \r\nL 219.048864 134.538006 \r\nL 220.301389 34.873115 \r\nL 221.553914 39.215163 \r\nL 222.806439 35.064097 \r\nL 224.058965 40.973327 \r\nL 225.31149 83.101867 \r\nL 226.564015 175.498181 \r\nL 227.81654 142.9918 \r\nL 229.069066 54.656677 \r\nL 230.321591 64.003596 \r\nL 231.574116 140.26187 \r\nL 232.826641 67.615416 \r\nL 234.079167 100.054392 \r\nL 235.331692 180.503052 \r\nL 236.584217 147.502362 \r\nL 237.836742 61.245581 \r\nL 239.089268 61.324221 \r\nL 240.341793 65.626949 \r\nL 241.594318 60.139004 \r\nL 242.846843 93.864305 \r\nL 244.099369 181.306303 \r\nL 245.351894 153.220609 \r\nL 246.604419 66.677354 \r\nL 247.856944 57.454012 \r\nL 249.10947 76.681478 \r\nL 250.361995 153.338569 \r\nL 251.61452 147.586619 \r\nL 252.867045 186.255002 \r\nL 254.119571 165.44912 \r\nL 255.372096 109.816979 \r\nL 256.624621 144.632004 \r\nL 257.877146 60.779358 \r\nL 259.129672 63.340773 \r\nL 260.382197 95.493275 \r\nL 261.634722 177.801208 \r\nL 262.887247 143.244571 \r\nL 264.139773 66.211131 \r\nL 265.392298 66.110023 \r\nL 266.644823 60.975958 \r\nL 267.897348 64.217047 \r\nL 269.149874 95.049521 \r\nL 270.402399 181.120937 \r\nL 271.654924 156.265099 \r\nL 272.907449 78.220574 \r\nL 274.159975 74.187468 \r\nL 275.4125 64.677652 \r\nL 276.665025 81.708817 \r\nL 277.917551 115.6251 \r\nL 279.170076 184.620415 \r\nL 280.422601 158.590594 \r\nL 281.675126 91.089438 \r\nL 282.927652 82.040228 \r\nL 284.180177 81.15272 \r\nL 285.432702 69.879123 \r\nL 286.685227 109.670933 \r\nL 287.937753 183.935124 \r\nL 289.190278 156.866132 \r\nL 290.442803 84.287084 \r\nL 291.695328 95.847155 \r\nL 292.947854 83.787158 \r\nL 294.200379 93.735111 \r\nL 295.452904 122.640906 \r\nL 296.705429 185.052934 \r\nL 297.957955 161.011581 \r\nL 299.21048 94.274356 \r\nL 300.463005 92.504957 \r\nL 301.71553 92.701557 \r\nL 302.968056 93.100374 \r\nL 304.220581 120.781634 \r\nL 305.473106 188.159212 \r\nL 306.725631 165.039069 \r\nL 307.978157 95.723578 \r\nL 309.230682 92.667854 \r\nL 310.483207 96.487509 \r\nL 311.735732 100.767768 \r\nL 312.988258 125.207939 \r\nL 314.240783 187.889589 \r\nL 315.493308 163.039368 \r\nL 316.745833 102.576487 \r\nL 317.998359 95.07199 \r\nL 319.250884 94.892241 \r\nL 320.503409 100.189203 \r\nL 321.755934 125.18547 \r\nL 323.00846 183.862101 \r\nL 324.260985 163.58423 \r\nL 325.51351 99.700512 \r\nL 326.766035 94.751813 \r\nL 328.018561 86.202528 \r\nL 329.271086 92.151078 \r\nL 330.523611 125.438241 \r\nL 331.776136 189.366897 \r\nL 333.028662 165.426652 \r\nL 334.281187 105.092965 \r\nL 335.533712 99.953283 \r\nL 336.786237 99.560084 \r\nL 338.038763 107.918386 \r\nL 339.291288 139.874288 \r\nL 340.543813 190.681307 \r\nL 341.796338 169.437289 \r\nL 343.048864 116.327243 \r\nL 344.301389 107.137604 \r\nL 345.553914 111.041515 \r\nL 346.806439 105.199691 \r\nL 348.058965 133.740372 \r\nL 349.31149 193.001186 \r\nL 350.564015 171.970618 \r\nL 351.81654 110.159624 \r\nL 353.069066 109.378842 \r\nL 354.321591 108.895768 \r\nL 355.574116 105.587273 \r\nL 356.826641 132.010294 \r\nL 358.079167 192.675391 \r\nL 359.331692 165.235669 \r\nL 360.584217 103.862812 \r\nL 361.836742 109.63723 \r\nL 363.089268 112.260434 \r\nL 364.341793 104.98624 \r\nL 365.594318 136.296171 \r\nL 365.594318 136.296171 \r\n\" style=\"fill:none;stroke:#1f77b4;stroke-linecap:square;stroke-width:1.5;\"/>\r\n   </g>\r\n   <g id=\"patch_3\">\r\n    <path d=\"M 46.0125 224.64 \r\nL 46.0125 7.2 \r\n\" style=\"fill:none;stroke:#000000;stroke-linecap:square;stroke-linejoin:miter;stroke-width:0.8;\"/>\r\n   </g>\r\n   <g id=\"patch_4\">\r\n    <path d=\"M 380.8125 224.64 \r\nL 380.8125 7.2 \r\n\" style=\"fill:none;stroke:#000000;stroke-linecap:square;stroke-linejoin:miter;stroke-width:0.8;\"/>\r\n   </g>\r\n   <g id=\"patch_5\">\r\n    <path d=\"M 46.0125 224.64 \r\nL 380.8125 224.64 \r\n\" style=\"fill:none;stroke:#000000;stroke-linecap:square;stroke-linejoin:miter;stroke-width:0.8;\"/>\r\n   </g>\r\n   <g id=\"patch_6\">\r\n    <path d=\"M 46.0125 7.2 \r\nL 380.8125 7.2 \r\n\" style=\"fill:none;stroke:#000000;stroke-linecap:square;stroke-linejoin:miter;stroke-width:0.8;\"/>\r\n   </g>\r\n  </g>\r\n </g>\r\n <defs>\r\n  <clipPath id=\"p04b24e702b\">\r\n   <rect height=\"217.44\" width=\"334.8\" x=\"46.0125\" y=\"7.2\"/>\r\n  </clipPath>\r\n </defs>\r\n</svg>\r\n",
      "image/png": "[encoded data removed]"
     },
     "metadata": {
      "needs_background": "light"
     }
    }
   ],
   "source": [
    "import matplotlib.pyplot as plt\n",
    "\n",
    "plt.plot(a[1])"
   ]
  },
  {
   "cell_type": "code",
   "execution_count": 27,
   "metadata": {},
   "outputs": [],
   "source": [
    "a = pd.read_json('Colect_Data/insta.json')"
   ]
  },
  {
   "cell_type": "code",
   "execution_count": 63,
   "metadata": {},
   "outputs": [
    {
     "output_type": "execute_result",
     "data": {
      "text/plain": "'tion\":\"Photo by \\\\uac10\\\\uc131\\\\ucd09\\\\ucd09\\\\ub140\\\\ud83c\\\\udfcc\\\\ufe0f\\\\u200d\\\\u2640\\\\ufe0f\\\\ub2e4\\\\uc774\\\\uc5b4\\\\ud130,tc,\\\\uad6c\\\\ub9e4\\\\ub300\\\\ud589\\\\u2708\\\\ud83c\\\\uddf0\\\\ud83c\\\\uddf7 on August 10, 2020. Image may contain: text that says \\'MORI MOOL BOON CREAM REPAIR SSENCE OOL OON MOOL CREAN MO CREAM\\'\"}},{\"node\":{\"__typename\":\"GraphSidecar\",\"id\":\"2364688714138689337\",\"edge_media_to_caption\":{\"edges\":[{\"node\":{\"text\":\"\\\\u110b\\\\u1167\\\\u1105\\\\u1165\\\\u1107\\\\u116e\\\\u11ab \\\\u110b\\\\u1161\\\\u11ab\\\\u1102\\\\u1167\\\\u11bc\\\\u1112\\\\u1161\\\\u1109\\\\u1166\\\\u110b\\\\u116d\\\\u11bc\\\\ud83c\\\\udf37\\\\n\\\\u110c\\\\u1165 \\\\u110b\\\\u116d\\\\u110c\\\\u1173\\\\u11b7 \\\\u1107\\\\u116e\\\\u110f\\\\u1162\\\\u1105\\\\u1169 \\\\u110c\\\\u1175\\\\u1102\\\\u1162\\\\u1100\\\\u1169 \\\\u110b\\\\u1175\\\\u11bb\\\\u110b\\\\u1165\\\\u110b\\\\u116d >_'"
     },
     "metadata": {},
     "execution_count": 63
    }
   ],
   "source": [
    "a['text'][0][-700:]"
   ]
  },
  {
   "cell_type": "code",
   "execution_count": 3,
   "metadata": {},
   "outputs": [],
   "source": [
    "url = 'http://instagram.com/graphql/query/?query_hash=7dabc71d3e758b1ec19ffb85639e427b&variables={%22tag_name%22:%22%ED%99%88%EC%87%BC%ED%95%91%22,%22first%22:12}'"
   ]
  },
  {
   "cell_type": "code",
   "execution_count": 5,
   "metadata": {},
   "outputs": [],
   "source": [
    "import requests"
   ]
  },
  {
   "cell_type": "code",
   "execution_count": 8,
   "metadata": {},
   "outputs": [],
   "source": [
    "r = requests.get(url)"
   ]
  },
  {
   "cell_type": "code",
   "execution_count": 2,
   "metadata": {},
   "outputs": [],
   "source": [
    "from datetime import datetime\n",
    "import json\n",
    "import requests\n",
    "\n",
    "# Insta Cralwer\n",
    "search_word = '홈쇼핑'\n",
    "url = 'http://instagram.com/graphql/query/?query_hash=7dabc71d3e758b1ec19ffb85639e427b&variables={\"tag_name\":\"' + search_word + '\",\"first\":12}'\n",
    "\n",
    "end_cursor=True\n",
    "\n",
    "dates = []\n",
    "contents = []\n",
    "while True:\n",
    "    r = requests.get(url)\n",
    "    sources = json.loads(r.text)['data']['hashtag']['edge_hashtag_to_media']\n",
    "\n",
    "    for source in sources['edges']:\n",
    "        try:\n",
    "            dates.append(datetime.fromtimestamp(source['node']['taken_at_timestamp']))\n",
    "            contents.append(source['node']['edge_media_to_caption']['edges'][0]['node']['text'])\n",
    "        except:\n",
    "            pass\n",
    "\n",
    "    end_cursor = sources['page_info']['end_cursor'] #Next Page 확인\n",
    "    \n",
    "    if end_cursor != None:\n",
    "        url = 'http://instagram.com/graphql/query/?query_hash=7dabc71d3e758b1ec19ffb85639e427b&variables={\"tag_name\":\"' + search_word + '\",\"first\":12'+',\"after\":\"'+end_cursor+'\"}'\n",
    "    else:\n",
    "        break"
   ]
  },
  {
   "cell_type": "code",
   "execution_count": 4,
   "metadata": {},
   "outputs": [],
   "source": [
    "import pandas as pd\n",
    "results = pd.DataFrame(list(zip(dates, contents)))"
   ]
  },
  {
   "cell_type": "code",
   "execution_count": 10,
   "metadata": {},
   "outputs": [
    {
     "output_type": "execute_result",
     "data": {
      "text/plain": "'http://instagram.com/graphql/query/?query_hash=7dabc71d3e758b1ec19ffb85639e427b&variables={\"tag_name\":\"홈쇼핑\",\"first\":12,\"after\":\"QVFDSE5zbTk4X1pFWVpWbHlUVDdkRzJlcGRGbGpJZm5CUFFVVTRqdC1NQ0xHSkRVTG1zVWFVYW1pQjQzelNXZkF3dndyOC0zNjRnM1BPRWJSYWxMMi1KeQ==\"}'"
     },
     "metadata": {},
     "execution_count": 10
    }
   ],
   "source": [
    "url"
   ]
  },
  {
   "cell_type": "code",
   "execution_count": 11,
   "metadata": {},
   "outputs": [
    {
     "output_type": "execute_result",
     "data": {
      "text/plain": "'안녕하세요~👋🏻\\n아리울떡공방입니다🤗\\n아리울떡공방 방송 5분전!!!!!!!!\\n.\\n.\\n.\\n👉🏻홈&쇼핑👈🏻\\n✔️연휴 마지막 날 17일 오후 4시 00분 ~ 4시 50분(50분)🕛\\n딱 50분 동안 정세라, 김나윤 쇼호스트님의 진행으로 방송하니 미리 시간 체크하고 구매해주셔요~🙈\\n🍡아리울 떡은 차갑게 먹어도 맛있습니다\\U0001f9ca\\n.\\n.\\n.\\n✔홈앤쇼핑 아리울떡공방 굳지 않는 떡\\n✔💥앙꼬절편(쑥,백미,고구마) 3kg+모듬앙꼬가래떡 1kg+모듬깨송편1kg\\n이 모든게 37,900원\\n✔무조건 무료배송🚛\\n💥한정으로 준비한 수량이 금방 품절될 수 있으니 빠르게 주문 GO!GO!💥\\n.\\n.\\n.\\n#아리울떡공방 #아리울떡 #아리울 #떡 #떡공방 #떡맛집 #떡스타그램 #인스타떡 #sns떡 #굳지않는떡 #앙꼬절편 #앙금절편 #앙꼬가래떡 #송편 #가래떡 #맛스타그램 #떡간식 #떡순이 #디저트 #간식 #먹방 #먹부림 #먹스타그램 #인싸 #인싸떡 #홈쇼핑 #홈앤쇼핑 #홈&쇼핑'"
     },
     "metadata": {},
     "execution_count": 11
    }
   ],
   "source": []
  },
  {
   "cell_type": "code",
   "execution_count": 2,
   "metadata": {},
   "outputs": [
    {
     "output_type": "execute_result",
     "data": {
      "text/plain": "'ᄋ'"
     },
     "metadata": {},
     "execution_count": 2
    }
   ],
   "source": [
    "chr(ord('\\u110b'))"
   ]
  },
  {
   "cell_type": "code",
   "execution_count": null,
   "metadata": {},
   "outputs": [],
   "source": [
    "# 해야할 것 : 유니코드 한글형식으로 변경하기 (encoding='UTF-8')\n",
    "\n"
   ]
  },
  {
   "cell_type": "code",
   "execution_count": 56,
   "metadata": {},
   "outputs": [
    {
     "output_type": "error",
     "ename": "AttributeError",
     "evalue": "'str' object has no attribute 'decode'",
     "traceback": [
      "\u001b[1;31m---------------------------------------------------------------------------\u001b[0m",
      "\u001b[1;31mAttributeError\u001b[0m                            Traceback (most recent call last)",
      "\u001b[1;32m<ipython-input-56-51c87220775c>\u001b[0m in \u001b[0;36m<module>\u001b[1;34m\u001b[0m\n\u001b[0;32m      2\u001b[0m \u001b[1;33m\u001b[0m\u001b[0m\n\u001b[0;32m      3\u001b[0m \u001b[1;33m\u001b[0m\u001b[0m\n\u001b[1;32m----> 4\u001b[1;33m \u001b[0mt\u001b[0m \u001b[1;33m=\u001b[0m \u001b[0ms\u001b[0m\u001b[1;33m.\u001b[0m\u001b[0mdecode\u001b[0m\u001b[1;33m(\u001b[0m\u001b[1;34m'utf-8'\u001b[0m\u001b[1;33m)\u001b[0m\u001b[1;33m\u001b[0m\u001b[1;33m\u001b[0m\u001b[0m\n\u001b[0m",
      "\u001b[1;31mAttributeError\u001b[0m: 'str' object has no attribute 'decode'"
     ]
    }
   ],
   "source": [
    "# import unicode\n",
    "\n",
    "\n",
    "t = s.decode('utf-8')"
   ]
  },
  {
   "cell_type": "code",
   "execution_count": 47,
   "metadata": {},
   "outputs": [
    {
     "output_type": "execute_result",
     "data": {
      "text/plain": "b'\\\\u110b'"
     },
     "metadata": {},
     "execution_count": 47
    }
   ],
   "source": []
  },
  {
   "cell_type": "code",
   "execution_count": null,
   "metadata": {},
   "outputs": [],
   "source": []
  }
 ]
}