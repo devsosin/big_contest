{
 "metadata": {
  "language_info": {
   "codemirror_mode": {
    "name": "ipython",
    "version": 3
   },
   "file_extension": ".py",
   "mimetype": "text/x-python",
   "name": "python",
   "nbconvert_exporter": "python",
   "pygments_lexer": "ipython3",
   "version": "3.7.6-final"
  },
  "orig_nbformat": 2,
  "kernelspec": {
   "name": "python_defaultSpec_1597791943994",
   "display_name": "Python 3.7.6 64-bit ('base': conda)"
  }
 },
 "nbformat": 4,
 "nbformat_minor": 2,
 "cells": [
  {
   "cell_type": "code",
   "execution_count": 1,
   "metadata": {},
   "outputs": [],
   "source": [
    "import pandas as pd"
   ]
  },
  {
   "cell_type": "code",
   "execution_count": 5,
   "metadata": {},
   "outputs": [],
   "source": [
    "weather_df = pd.read_csv('datas/out_data/2019연중기후.csv', encoding='cp949')"
   ]
  },
  {
   "cell_type": "code",
   "execution_count": 6,
   "metadata": {},
   "outputs": [
    {
     "output_type": "execute_result",
     "data": {
      "text/plain": "             날짜  지점  평균기온(℃)  최저기온(℃)  최고기온(℃)\n0    2019-01-01  전국     -2.1     -5.8      2.1\n1    2019-01-02  전국     -2.5     -7.0      3.2\n2    2019-01-03  전국     -2.1     -7.7      5.0\n3    2019-01-04  전국     -0.7     -7.3      5.3\n4    2019-01-05  전국      0.2     -4.6      5.3\n..          ...  ..      ...      ...      ...\n360  2019-12-27  전국      0.6     -3.2      5.1\n361  2019-12-28  전국      0.5     -4.9      7.5\n362  2019-12-29  전국      2.6     -2.4      6.6\n363  2019-12-30  전국      5.0      0.1      9.8\n364  2019-12-31  전국     -3.8     -6.7      0.4\n\n[365 rows x 5 columns]",
      "text/html": "<div>\n<style scoped>\n    .dataframe tbody tr th:only-of-type {\n        vertical-align: middle;\n    }\n\n    .dataframe tbody tr th {\n        vertical-align: top;\n    }\n\n    .dataframe thead th {\n        text-align: right;\n    }\n</style>\n<table border=\"1\" class=\"dataframe\">\n  <thead>\n    <tr style=\"text-align: right;\">\n      <th></th>\n      <th>날짜</th>\n      <th>지점</th>\n      <th>평균기온(℃)</th>\n      <th>최저기온(℃)</th>\n      <th>최고기온(℃)</th>\n    </tr>\n  </thead>\n  <tbody>\n    <tr>\n      <th>0</th>\n      <td>2019-01-01</td>\n      <td>전국</td>\n      <td>-2.1</td>\n      <td>-5.8</td>\n      <td>2.1</td>\n    </tr>\n    <tr>\n      <th>1</th>\n      <td>2019-01-02</td>\n      <td>전국</td>\n      <td>-2.5</td>\n      <td>-7.0</td>\n      <td>3.2</td>\n    </tr>\n    <tr>\n      <th>2</th>\n      <td>2019-01-03</td>\n      <td>전국</td>\n      <td>-2.1</td>\n      <td>-7.7</td>\n      <td>5.0</td>\n    </tr>\n    <tr>\n      <th>3</th>\n      <td>2019-01-04</td>\n      <td>전국</td>\n      <td>-0.7</td>\n      <td>-7.3</td>\n      <td>5.3</td>\n    </tr>\n    <tr>\n      <th>4</th>\n      <td>2019-01-05</td>\n      <td>전국</td>\n      <td>0.2</td>\n      <td>-4.6</td>\n      <td>5.3</td>\n    </tr>\n    <tr>\n      <th>...</th>\n      <td>...</td>\n      <td>...</td>\n      <td>...</td>\n      <td>...</td>\n      <td>...</td>\n    </tr>\n    <tr>\n      <th>360</th>\n      <td>2019-12-27</td>\n      <td>전국</td>\n      <td>0.6</td>\n      <td>-3.2</td>\n      <td>5.1</td>\n    </tr>\n    <tr>\n      <th>361</th>\n      <td>2019-12-28</td>\n      <td>전국</td>\n      <td>0.5</td>\n      <td>-4.9</td>\n      <td>7.5</td>\n    </tr>\n    <tr>\n      <th>362</th>\n      <td>2019-12-29</td>\n      <td>전국</td>\n      <td>2.6</td>\n      <td>-2.4</td>\n      <td>6.6</td>\n    </tr>\n    <tr>\n      <th>363</th>\n      <td>2019-12-30</td>\n      <td>전국</td>\n      <td>5.0</td>\n      <td>0.1</td>\n      <td>9.8</td>\n    </tr>\n    <tr>\n      <th>364</th>\n      <td>2019-12-31</td>\n      <td>전국</td>\n      <td>-3.8</td>\n      <td>-6.7</td>\n      <td>0.4</td>\n    </tr>\n  </tbody>\n</table>\n<p>365 rows × 5 columns</p>\n</div>"
     },
     "metadata": {},
     "execution_count": 6
    }
   ],
   "source": [
    "weather_df"
   ]
  },
  {
   "cell_type": "code",
   "execution_count": 10,
   "metadata": {},
   "outputs": [
    {
     "output_type": "execute_result",
     "data": {
      "text/plain": "'2019-01-01'"
     },
     "metadata": {},
     "execution_count": 10
    }
   ],
   "source": [
    "import datetime\n",
    "str(datetime.date(2019, 1, 1))"
   ]
  },
  {
   "cell_type": "code",
   "execution_count": 11,
   "metadata": {},
   "outputs": [
    {
     "output_type": "execute_result",
     "data": {
      "text/plain": "datetime.date(2019, 1, 2)"
     },
     "metadata": {},
     "execution_count": 11
    }
   ],
   "source": [
    "datetime.date(2019, 1, 1) +datetime.timedelta(days=1)"
   ]
  },
  {
   "cell_type": "code",
   "execution_count": 1,
   "metadata": {},
   "outputs": [],
   "source": [
    "import requests\n",
    "from bs4 import BeautifulSoup"
   ]
  },
  {
   "cell_type": "code",
   "execution_count": 2,
   "metadata": {},
   "outputs": [],
   "source": [
    "start_date = '20190101'\n",
    "URL = 'https://www.ebs.co.kr/schedule?channelCd=tv&date={}&onor=tv'.format(start_date)\n",
    "\n",
    "r = requests.get(URL)\n",
    "sp = BeautifulSoup(r.text, 'html.parser')"
   ]
  },
  {
   "cell_type": "code",
   "execution_count": 19,
   "metadata": {},
   "outputs": [
    {
     "output_type": "execute_result",
     "data": {
      "text/plain": "54"
     },
     "metadata": {},
     "execution_count": 19
    }
   ],
   "source": [
    "sp.select('ul.main_timeline > li')"
   ]
  },
  {
   "cell_type": "code",
   "execution_count": 3,
   "metadata": {},
   "outputs": [],
   "source": [
    "URL = 'https://www.gsshop.com/shop/tv/tvScheduleMain.gs?lseq=415680-1&gsid=ECmain-AU415680-AU415680-1#{}_LIVE'.format(start_date)"
   ]
  },
  {
   "cell_type": "code",
   "execution_count": 4,
   "metadata": {},
   "outputs": [],
   "source": [
    "r = requests.get(URL)\n",
    "sp = BeautifulSoup(r.text, 'html.parser')"
   ]
  },
  {
   "cell_type": "code",
   "execution_count": 5,
   "metadata": {},
   "outputs": [
    {
     "output_type": "execute_result",
     "data": {
      "text/plain": "'<html>\\r\\n<head>\\r\\n<meta charset=\"UTF-8\"/></head>\\r\\n<body>\\r\\n<br>\\r\\n <br>\\r\\n <center>\\r\\n\\t<div class=\"suspend-login\">\\r\\n\\t\\t<h2>\\r\\n\\t\\tì\\xa0\\x91ì\\x86\\x8dì\\x9d´ ì\\x9d¼ì\\x8b\\x9c ì°¨ë\\x8b¨ë\\x90\\x98ì\\x97\\x88ì\\x8aµë\\x8b\\x88ë\\x8b¤.\\r\\n\\t\\t</h2>\\r\\n\\t\\t\\t<div class=\"inner-box\">\\r\\n\\t\\t\\t\\t\\t<p class=\"paragraph1\">GS SHOPì\\x97\\x90ì\\x84\\x9cë\\x8a\\x94 ê³\\xa0ê°\\x9dë\\x8b\\x98ì\\x9d\\x98 ì\\x86\\x8cì¤\\x91í\\x95\\x9c ê°\\x9cì\\x9d¸ì\\xa0\\x95ë³´ ë³´í\\x98¸ ì°¨ì\\x9b\\x90ì\\x97\\x90ì\\x84\\x9c ë¹\\x84ì\\xa0\\x95ì\\x83\\x81ì\\xa0\\x81ì\\x9d¸ ì\\x9a\\x94ì²\\xadì\\x9d\\x84 ì\\x9d¼ì\\x8b\\x9cì\\xa0\\x81ì\\x9c¼ë¡\\x9c ì°¨ë\\x8b¨í\\x95©ë\\x8b\\x88ë\\x8b¤. </p>\\r\\n\\t\\t\\t\\t\\t<p class=\"paragraph1\">ì\\x95\\x88ì\\xa0\\x84í\\x95\\x9c ì\\x84\\x9cë¹\\x84ì\\x8a¤ ì\\x9d´ì\\x9a©ì\\x9d\\x84 ì\\x9c\\x84í\\x95´ ì\\x9e\\xa0ì\\x8b\\x9c í\\x9b\\x84 ë\\x8b¤ì\\x8b\\x9c ë¡\\x9cê·¸ì\\x9d¸ì\\x9d\\x84 ì\\x8b\\x9cë\\x8f\\x84í\\x95´ì£¼ì\\x84¸ì\\x9a\\x94.</p>\\r\\n\\t\\t\\t\\t\\t<p class=\"paragraph2\">ìµ\\x9cê·¼ í\\x83\\x80 ì\\x82¬ì\\x9d´í\\x8a¸ë¥¼ í\\x86µí\\x95´ í\\x99\\x95ë³´ë\\x90\\x9c ID/PWë¥¼ ì\\x9d´ì\\x9a©í\\x95\\x98ì\\x97¬ ë¹\\x84ì\\xa0\\x95ì\\x83\\x81ì\\xa0\\x81ì\\x9d¸ ë¡\\x9cê·¸ì\\x9d¸ ì\\x8b\\x9cë\\x8f\\x84 ì\\x82¬ë¡\\x80ê°\\x80 ë°\\x9cê²¬ë\\x90¨ì\\x97\\x90 ë\\x94°ë¥¸ ì\\x82¬ì\\xa0\\x84 ì¡°ì¹\\x98ì\\x9e\\x85ë\\x8b\\x88ë\\x8b¤.</p> \\r\\n                                                            <p class=\"paragraph2\">ê³\\xa0ê°\\x9dë\\x8b\\x98ì\\x9d\\x98 ë\\x84\\x88ê·¸ë\\x9f¬ì\\x9a´ ì\\x96\\x91í\\x95´ ë¶\\x80í\\x83\\x81ë\\x93\\x9cë¦¬ë©° ê¶\\x81ê¸\\x88í\\x95\\x98ì\\x8b\\xa0 ë\\x82´ì\\x9a©ì\\x9d\\x80 ê³\\xa0ê°\\x9dì\\x84¼í\\x84°(1899-4500)ë¡\\x9c ë¬¸ì\\x9d\\x98 ë¶\\x80í\\x83\\x81ë\\x93\\x9cë¦½ë\\x8b\\x88ë\\x8b¤.</p>\\r\\n\\t\\t\\t</div>\\r\\n\\t</div>\\r\\n <table>\\r\\n <br>\\r\\n <br>\\r\\n <tr>\\r\\n <td>Detect client IP</td>\\r\\n <td>59.187.219.253</td>\\r\\n </tr>\\r\\n </table>\\r\\n </center>\\r\\n <br>\\r\\n</body>\\r\\n</html>'"
     },
     "metadata": {},
     "execution_count": 5
    }
   ],
   "source": [
    "r.text"
   ]
  },
  {
   "cell_type": "code",
   "execution_count": 23,
   "metadata": {},
   "outputs": [],
   "source": [
    "search_word = '홈쇼핑'\n",
    "URL = 'http://instagram.com/graphql/query/?query_hash=7dabc71d3e758b1ec19ffb85639e427b&variables={\"tag_name\":\"' + search_word + '\",\"first\":12}'\n",
    "\n",
    "r = requests.get(URL)\n",
    "import json\n",
    "\n",
    "results = json.loads(r.text)\n",
    "# sp = BeautifulSoup(r.text, 'html.parser')"
   ]
  },
  {
   "cell_type": "code",
   "execution_count": 26,
   "metadata": {},
   "outputs": [
    {
     "output_type": "execute_result",
     "data": {
      "text/plain": "2"
     },
     "metadata": {},
     "execution_count": 26
    }
   ],
   "source": [
    "results"
   ]
  },
  {
   "cell_type": "code",
   "execution_count": null,
   "metadata": {},
   "outputs": [],
   "source": []
  },
  {
   "cell_type": "code",
   "execution_count": 48,
   "metadata": {},
   "outputs": [
    {
     "output_type": "execute_result",
     "data": {
      "text/plain": "[]"
     },
     "metadata": {},
     "execution_count": 48
    }
   ],
   "source": [
    "sp.select('div#tvSchedule')"
   ]
  },
  {
   "cell_type": "code",
   "execution_count": 41,
   "metadata": {},
   "outputs": [
    {
     "output_type": "execute_result",
     "data": {
      "text/plain": "                   time            title  \\\n0      2019-01-01 05:00           왕초보 영어   \n1      2019-01-01 05:30       세계견문록 아틀라스   \n2      2019-01-01 06:00       한국기행(전주재방)   \n3      2019-01-01 06:20           세계테마기행   \n4      2019-01-01 07:00  강철소방대 파이어로보(종합)   \n...                 ...              ...   \n17439  2019-12-31 23:35         미래교육 플러스   \n17440  2019-12-31 24:25        지식의 기쁨(재)   \n17441  2019-12-31 24:55      지식채널e(전주재방)   \n17442  2019-12-31 25:00            지식채널e   \n17443  2019-12-31 25:05        2019 헬로루키   \n\n                                     content  \n0                        제794회 너의 새해 결심은 뭐니?  \n1                                  자연의 색 서호주  \n2                       국수기행2 2부 한 그릇, 바다의 맛  \n3                    영혼의 팔레트 과테말라 2부 모험가의 낙원  \n4                                위기일발 메가시티 외  \n...                                      ...  \n17439  미래를 만드는 언어, 수학 3부 - '생각의 힘' 수학으로 키워라!  \n17440                           소통이 관계를 좌우한다  \n17441                                안아줄 수밖에  \n17442                                 9와 숫자들  \n17443                                     2화  \n\n[17444 rows x 3 columns]",
      "text/html": "<div>\n<style scoped>\n    .dataframe tbody tr th:only-of-type {\n        vertical-align: middle;\n    }\n\n    .dataframe tbody tr th {\n        vertical-align: top;\n    }\n\n    .dataframe thead th {\n        text-align: right;\n    }\n</style>\n<table border=\"1\" class=\"dataframe\">\n  <thead>\n    <tr style=\"text-align: right;\">\n      <th></th>\n      <th>time</th>\n      <th>title</th>\n      <th>content</th>\n    </tr>\n  </thead>\n  <tbody>\n    <tr>\n      <th>0</th>\n      <td>2019-01-01 05:00</td>\n      <td>왕초보 영어</td>\n      <td>제794회 너의 새해 결심은 뭐니?</td>\n    </tr>\n    <tr>\n      <th>1</th>\n      <td>2019-01-01 05:30</td>\n      <td>세계견문록 아틀라스</td>\n      <td>자연의 색 서호주</td>\n    </tr>\n    <tr>\n      <th>2</th>\n      <td>2019-01-01 06:00</td>\n      <td>한국기행(전주재방)</td>\n      <td>국수기행2 2부 한 그릇, 바다의 맛</td>\n    </tr>\n    <tr>\n      <th>3</th>\n      <td>2019-01-01 06:20</td>\n      <td>세계테마기행</td>\n      <td>영혼의 팔레트 과테말라 2부 모험가의 낙원</td>\n    </tr>\n    <tr>\n      <th>4</th>\n      <td>2019-01-01 07:00</td>\n      <td>강철소방대 파이어로보(종합)</td>\n      <td>위기일발 메가시티 외</td>\n    </tr>\n    <tr>\n      <th>...</th>\n      <td>...</td>\n      <td>...</td>\n      <td>...</td>\n    </tr>\n    <tr>\n      <th>17439</th>\n      <td>2019-12-31 23:35</td>\n      <td>미래교육 플러스</td>\n      <td>미래를 만드는 언어, 수학 3부 - '생각의 힘' 수학으로 키워라!</td>\n    </tr>\n    <tr>\n      <th>17440</th>\n      <td>2019-12-31 24:25</td>\n      <td>지식의 기쁨(재)</td>\n      <td>소통이 관계를 좌우한다</td>\n    </tr>\n    <tr>\n      <th>17441</th>\n      <td>2019-12-31 24:55</td>\n      <td>지식채널e(전주재방)</td>\n      <td>안아줄 수밖에</td>\n    </tr>\n    <tr>\n      <th>17442</th>\n      <td>2019-12-31 25:00</td>\n      <td>지식채널e</td>\n      <td>9와 숫자들</td>\n    </tr>\n    <tr>\n      <th>17443</th>\n      <td>2019-12-31 25:05</td>\n      <td>2019 헬로루키</td>\n      <td>2화</td>\n    </tr>\n  </tbody>\n</table>\n<p>17444 rows × 3 columns</p>\n</div>"
     },
     "metadata": {},
     "execution_count": 41
    }
   ],
   "source": [
    "pd.read_json('Colect_Data/ebs.json')"
   ]
  },
  {
   "cell_type": "code",
   "execution_count": 7,
   "metadata": {},
   "outputs": [],
   "source": [
    "import pandas as pd"
   ]
  },
  {
   "cell_type": "code",
   "execution_count": 15,
   "metadata": {},
   "outputs": [],
   "source": [
    "from datetime import datetime"
   ]
  },
  {
   "cell_type": "code",
   "execution_count": 16,
   "metadata": {},
   "outputs": [],
   "source": [
    "a = pd.read_json('datas/out_data/covid_news.json')\n",
    "\n",
    "a[0] = list(map(lambda i : datetime.fromtimestamp(i/1000), a[0]))"
   ]
  },
  {
   "cell_type": "code",
   "execution_count": 19,
   "metadata": {
    "tags": []
   },
   "outputs": [
    {
     "output_type": "execute_result",
     "data": {
      "text/plain": "[<matplotlib.lines.Line2D at 0x1c85505a148>]"
     },
     "metadata": {},
     "execution_count": 19
    },
    {
     "output_type": "stream",
     "name": "stderr",
     "text": "findfont: Font family ['BMJUA_ttf'] not found. Falling back to DejaVu Sans.\n"
    },
    {
     "output_type": "display_data",
     "data": {
      "text/plain": "<Figure size 432x288 with 1 Axes>",
      "image/svg+xml": "<?xml version=\"1.0\" encoding=\"utf-8\" standalone=\"no\"?>\r\n<!DOCTYPE svg PUBLIC \"-//W3C//DTD SVG 1.1//EN\"\r\n  \"http://www.w3.org/Graphics/SVG/1.1/DTD/svg11.dtd\">\r\n<!-- Created with matplotlib (https://matplotlib.org/) -->\r\n<svg height=\"248.518125pt\" version=\"1.1\" viewBox=\"0 0 391.105745 248.518125\" width=\"391.105745pt\" xmlns=\"http://www.w3.org/2000/svg\" xmlns:xlink=\"http://www.w3.org/1999/xlink\">\r\n <defs>\r\n  <style type=\"text/css\">\r\n*{stroke-linecap:butt;stroke-linejoin:round;}\r\n  </style>\r\n </defs>\r\n <g id=\"figure_1\">\r\n  <g id=\"patch_1\">\r\n   <path d=\"M 0 248.518125 \r\nL 391.105745 248.518125 \r\nL 391.105745 0 \r\nL 0 0 \r\nz\r\n\" style=\"fill:none;\"/>\r\n  </g>\r\n  <g id=\"axes_1\">\r\n   <g id=\"patch_2\">\r\n    <path d=\"M 46.0125 224.64 \r\nL 380.8125 224.64 \r\nL 380.8125 7.2 \r\nL 46.0125 7.2 \r\nz\r\n\" style=\"fill:#ffffff;\"/>\r\n   </g>\r\n   <g id=\"matplotlib.axis_1\">\r\n    <g id=\"xtick_1\">\r\n     <g id=\"line2d_1\">\r\n      <defs>\r\n       <path d=\"M 0 0 \r\nL 0 3.5 \r\n\" id=\"mc3e93588be\" style=\"stroke:#000000;stroke-width:0.8;\"/>\r\n      </defs>\r\n      <g>\r\n       <use style=\"stroke:#000000;stroke-width:0.8;\" x=\"61.230682\" xlink:href=\"#mc3e93588be\" y=\"224.64\"/>\r\n      </g>\r\n     </g>\r\n     <g id=\"text_1\">\r\n      <!-- 0 -->\r\n      <defs>\r\n       <path d=\"M 31.78125 66.40625 \r\nQ 24.171875 66.40625 20.328125 58.90625 \r\nQ 16.5 51.421875 16.5 36.375 \r\nQ 16.5 21.390625 20.328125 13.890625 \r\nQ 24.171875 6.390625 31.78125 6.390625 \r\nQ 39.453125 6.390625 43.28125 13.890625 \r\nQ 47.125 21.390625 47.125 36.375 \r\nQ 47.125 51.421875 43.28125 58.90625 \r\nQ 39.453125 66.40625 31.78125 66.40625 \r\nz\r\nM 31.78125 74.21875 \r\nQ 44.046875 74.21875 50.515625 64.515625 \r\nQ 56.984375 54.828125 56.984375 36.375 \r\nQ 56.984375 17.96875 50.515625 8.265625 \r\nQ 44.046875 -1.421875 31.78125 -1.421875 \r\nQ 19.53125 -1.421875 13.0625 8.265625 \r\nQ 6.59375 17.96875 6.59375 36.375 \r\nQ 6.59375 54.828125 13.0625 64.515625 \r\nQ 19.53125 74.21875 31.78125 74.21875 \r\nz\r\n\" id=\"DejaVuSans-48\"/>\r\n      </defs>\r\n      <g transform=\"translate(58.049432 239.238437)scale(0.1 -0.1)\">\r\n       <use xlink:href=\"#DejaVuSans-48\"/>\r\n      </g>\r\n     </g>\r\n    </g>\r\n    <g id=\"xtick_2\">\r\n     <g id=\"line2d_2\">\r\n      <g>\r\n       <use style=\"stroke:#000000;stroke-width:0.8;\" x=\"123.856944\" xlink:href=\"#mc3e93588be\" y=\"224.64\"/>\r\n      </g>\r\n     </g>\r\n     <g id=\"text_2\">\r\n      <!-- 50 -->\r\n      <defs>\r\n       <path d=\"M 10.796875 72.90625 \r\nL 49.515625 72.90625 \r\nL 49.515625 64.59375 \r\nL 19.828125 64.59375 \r\nL 19.828125 46.734375 \r\nQ 21.96875 47.46875 24.109375 47.828125 \r\nQ 26.265625 48.1875 28.421875 48.1875 \r\nQ 40.625 48.1875 47.75 41.5 \r\nQ 54.890625 34.8125 54.890625 23.390625 \r\nQ 54.890625 11.625 47.5625 5.09375 \r\nQ 40.234375 -1.421875 26.90625 -1.421875 \r\nQ 22.3125 -1.421875 17.546875 -0.640625 \r\nQ 12.796875 0.140625 7.71875 1.703125 \r\nL 7.71875 11.625 \r\nQ 12.109375 9.234375 16.796875 8.0625 \r\nQ 21.484375 6.890625 26.703125 6.890625 \r\nQ 35.15625 6.890625 40.078125 11.328125 \r\nQ 45.015625 15.765625 45.015625 23.390625 \r\nQ 45.015625 31 40.078125 35.4375 \r\nQ 35.15625 39.890625 26.703125 39.890625 \r\nQ 22.75 39.890625 18.8125 39.015625 \r\nQ 14.890625 38.140625 10.796875 36.28125 \r\nz\r\n\" id=\"DejaVuSans-53\"/>\r\n      </defs>\r\n      <g transform=\"translate(117.494444 239.238437)scale(0.1 -0.1)\">\r\n       <use xlink:href=\"#DejaVuSans-53\"/>\r\n       <use x=\"63.623047\" xlink:href=\"#DejaVuSans-48\"/>\r\n      </g>\r\n     </g>\r\n    </g>\r\n    <g id=\"xtick_3\">\r\n     <g id=\"line2d_3\">\r\n      <g>\r\n       <use style=\"stroke:#000000;stroke-width:0.8;\" x=\"186.483207\" xlink:href=\"#mc3e93588be\" y=\"224.64\"/>\r\n      </g>\r\n     </g>\r\n     <g id=\"text_3\">\r\n      <!-- 100 -->\r\n      <defs>\r\n       <path d=\"M 12.40625 8.296875 \r\nL 28.515625 8.296875 \r\nL 28.515625 63.921875 \r\nL 10.984375 60.40625 \r\nL 10.984375 69.390625 \r\nL 28.421875 72.90625 \r\nL 38.28125 72.90625 \r\nL 38.28125 8.296875 \r\nL 54.390625 8.296875 \r\nL 54.390625 0 \r\nL 12.40625 0 \r\nz\r\n\" id=\"DejaVuSans-49\"/>\r\n      </defs>\r\n      <g transform=\"translate(176.939457 239.238437)scale(0.1 -0.1)\">\r\n       <use xlink:href=\"#DejaVuSans-49\"/>\r\n       <use x=\"63.623047\" xlink:href=\"#DejaVuSans-48\"/>\r\n       <use x=\"127.246094\" xlink:href=\"#DejaVuSans-48\"/>\r\n      </g>\r\n     </g>\r\n    </g>\r\n    <g id=\"xtick_4\">\r\n     <g id=\"line2d_4\">\r\n      <g>\r\n       <use style=\"stroke:#000000;stroke-width:0.8;\" x=\"249.10947\" xlink:href=\"#mc3e93588be\" y=\"224.64\"/>\r\n      </g>\r\n     </g>\r\n     <g id=\"text_4\">\r\n      <!-- 150 -->\r\n      <g transform=\"translate(239.56572 239.238437)scale(0.1 -0.1)\">\r\n       <use xlink:href=\"#DejaVuSans-49\"/>\r\n       <use x=\"63.623047\" xlink:href=\"#DejaVuSans-53\"/>\r\n       <use x=\"127.246094\" xlink:href=\"#DejaVuSans-48\"/>\r\n      </g>\r\n     </g>\r\n    </g>\r\n    <g id=\"xtick_5\">\r\n     <g id=\"line2d_5\">\r\n      <g>\r\n       <use style=\"stroke:#000000;stroke-width:0.8;\" x=\"311.735732\" xlink:href=\"#mc3e93588be\" y=\"224.64\"/>\r\n      </g>\r\n     </g>\r\n     <g id=\"text_5\">\r\n      <!-- 200 -->\r\n      <defs>\r\n       <path d=\"M 19.1875 8.296875 \r\nL 53.609375 8.296875 \r\nL 53.609375 0 \r\nL 7.328125 0 \r\nL 7.328125 8.296875 \r\nQ 12.9375 14.109375 22.625 23.890625 \r\nQ 32.328125 33.6875 34.8125 36.53125 \r\nQ 39.546875 41.84375 41.421875 45.53125 \r\nQ 43.3125 49.21875 43.3125 52.78125 \r\nQ 43.3125 58.59375 39.234375 62.25 \r\nQ 35.15625 65.921875 28.609375 65.921875 \r\nQ 23.96875 65.921875 18.8125 64.3125 \r\nQ 13.671875 62.703125 7.8125 59.421875 \r\nL 7.8125 69.390625 \r\nQ 13.765625 71.78125 18.9375 73 \r\nQ 24.125 74.21875 28.421875 74.21875 \r\nQ 39.75 74.21875 46.484375 68.546875 \r\nQ 53.21875 62.890625 53.21875 53.421875 \r\nQ 53.21875 48.921875 51.53125 44.890625 \r\nQ 49.859375 40.875 45.40625 35.40625 \r\nQ 44.1875 33.984375 37.640625 27.21875 \r\nQ 31.109375 20.453125 19.1875 8.296875 \r\nz\r\n\" id=\"DejaVuSans-50\"/>\r\n      </defs>\r\n      <g transform=\"translate(302.191982 239.238437)scale(0.1 -0.1)\">\r\n       <use xlink:href=\"#DejaVuSans-50\"/>\r\n       <use x=\"63.623047\" xlink:href=\"#DejaVuSans-48\"/>\r\n       <use x=\"127.246094\" xlink:href=\"#DejaVuSans-48\"/>\r\n      </g>\r\n     </g>\r\n    </g>\r\n    <g id=\"xtick_6\">\r\n     <g id=\"line2d_6\">\r\n      <g>\r\n       <use style=\"stroke:#000000;stroke-width:0.8;\" x=\"374.361995\" xlink:href=\"#mc3e93588be\" y=\"224.64\"/>\r\n      </g>\r\n     </g>\r\n     <g id=\"text_6\">\r\n      <!-- 250 -->\r\n      <g transform=\"translate(364.818245 239.238437)scale(0.1 -0.1)\">\r\n       <use xlink:href=\"#DejaVuSans-50\"/>\r\n       <use x=\"63.623047\" xlink:href=\"#DejaVuSans-53\"/>\r\n       <use x=\"127.246094\" xlink:href=\"#DejaVuSans-48\"/>\r\n      </g>\r\n     </g>\r\n    </g>\r\n   </g>\r\n   <g id=\"matplotlib.axis_2\">\r\n    <g id=\"ytick_1\">\r\n     <g id=\"line2d_7\">\r\n      <defs>\r\n       <path d=\"M 0 0 \r\nL -3.5 0 \r\n\" id=\"m393f4bff42\" style=\"stroke:#000000;stroke-width:0.8;\"/>\r\n      </defs>\r\n      <g>\r\n       <use style=\"stroke:#000000;stroke-width:0.8;\" x=\"46.0125\" xlink:href=\"#m393f4bff42\" y=\"214.756364\"/>\r\n      </g>\r\n     </g>\r\n     <g id=\"text_7\">\r\n      <!-- 0 -->\r\n      <g transform=\"translate(32.65 218.555582)scale(0.1 -0.1)\">\r\n       <use xlink:href=\"#DejaVuSans-48\"/>\r\n      </g>\r\n     </g>\r\n    </g>\r\n    <g id=\"ytick_2\">\r\n     <g id=\"line2d_8\">\r\n      <g>\r\n       <use style=\"stroke:#000000;stroke-width:0.8;\" x=\"46.0125\" xlink:href=\"#m393f4bff42\" y=\"186.67067\"/>\r\n      </g>\r\n     </g>\r\n     <g id=\"text_8\">\r\n      <!-- 5000 -->\r\n      <g transform=\"translate(13.5625 190.469889)scale(0.1 -0.1)\">\r\n       <use xlink:href=\"#DejaVuSans-53\"/>\r\n       <use x=\"63.623047\" xlink:href=\"#DejaVuSans-48\"/>\r\n       <use x=\"127.246094\" xlink:href=\"#DejaVuSans-48\"/>\r\n       <use x=\"190.869141\" xlink:href=\"#DejaVuSans-48\"/>\r\n      </g>\r\n     </g>\r\n    </g>\r\n    <g id=\"ytick_3\">\r\n     <g id=\"line2d_9\">\r\n      <g>\r\n       <use style=\"stroke:#000000;stroke-width:0.8;\" x=\"46.0125\" xlink:href=\"#m393f4bff42\" y=\"158.584977\"/>\r\n      </g>\r\n     </g>\r\n     <g id=\"text_9\">\r\n      <!-- 10000 -->\r\n      <g transform=\"translate(7.2 162.384196)scale(0.1 -0.1)\">\r\n       <use xlink:href=\"#DejaVuSans-49\"/>\r\n       <use x=\"63.623047\" xlink:href=\"#DejaVuSans-48\"/>\r\n       <use x=\"127.246094\" xlink:href=\"#DejaVuSans-48\"/>\r\n       <use x=\"190.869141\" xlink:href=\"#DejaVuSans-48\"/>\r\n       <use x=\"254.492188\" xlink:href=\"#DejaVuSans-48\"/>\r\n      </g>\r\n     </g>\r\n    </g>\r\n    <g id=\"ytick_4\">\r\n     <g id=\"line2d_10\">\r\n      <g>\r\n       <use style=\"stroke:#000000;stroke-width:0.8;\" x=\"46.0125\" xlink:href=\"#m393f4bff42\" y=\"130.499283\"/>\r\n      </g>\r\n     </g>\r\n     <g id=\"text_10\">\r\n      <!-- 15000 -->\r\n      <g transform=\"translate(7.2 134.298502)scale(0.1 -0.1)\">\r\n       <use xlink:href=\"#DejaVuSans-49\"/>\r\n       <use x=\"63.623047\" xlink:href=\"#DejaVuSans-53\"/>\r\n       <use x=\"127.246094\" xlink:href=\"#DejaVuSans-48\"/>\r\n       <use x=\"190.869141\" xlink:href=\"#DejaVuSans-48\"/>\r\n       <use x=\"254.492188\" xlink:href=\"#DejaVuSans-48\"/>\r\n      </g>\r\n     </g>\r\n    </g>\r\n    <g id=\"ytick_5\">\r\n     <g id=\"line2d_11\">\r\n      <g>\r\n       <use style=\"stroke:#000000;stroke-width:0.8;\" x=\"46.0125\" xlink:href=\"#m393f4bff42\" y=\"102.41359\"/>\r\n      </g>\r\n     </g>\r\n     <g id=\"text_11\">\r\n      <!-- 20000 -->\r\n      <g transform=\"translate(7.2 106.212809)scale(0.1 -0.1)\">\r\n       <use xlink:href=\"#DejaVuSans-50\"/>\r\n       <use x=\"63.623047\" xlink:href=\"#DejaVuSans-48\"/>\r\n       <use x=\"127.246094\" xlink:href=\"#DejaVuSans-48\"/>\r\n       <use x=\"190.869141\" xlink:href=\"#DejaVuSans-48\"/>\r\n       <use x=\"254.492188\" xlink:href=\"#DejaVuSans-48\"/>\r\n      </g>\r\n     </g>\r\n    </g>\r\n    <g id=\"ytick_6\">\r\n     <g id=\"line2d_12\">\r\n      <g>\r\n       <use style=\"stroke:#000000;stroke-width:0.8;\" x=\"46.0125\" xlink:href=\"#m393f4bff42\" y=\"74.327897\"/>\r\n      </g>\r\n     </g>\r\n     <g id=\"text_12\">\r\n      <!-- 25000 -->\r\n      <g transform=\"translate(7.2 78.127115)scale(0.1 -0.1)\">\r\n       <use xlink:href=\"#DejaVuSans-50\"/>\r\n       <use x=\"63.623047\" xlink:href=\"#DejaVuSans-53\"/>\r\n       <use x=\"127.246094\" xlink:href=\"#DejaVuSans-48\"/>\r\n       <use x=\"190.869141\" xlink:href=\"#DejaVuSans-48\"/>\r\n       <use x=\"254.492188\" xlink:href=\"#DejaVuSans-48\"/>\r\n      </g>\r\n     </g>\r\n    </g>\r\n    <g id=\"ytick_7\">\r\n     <g id=\"line2d_13\">\r\n      <g>\r\n       <use style=\"stroke:#000000;stroke-width:0.8;\" x=\"46.0125\" xlink:href=\"#m393f4bff42\" y=\"46.242203\"/>\r\n      </g>\r\n     </g>\r\n     <g id=\"text_13\">\r\n      <!-- 30000 -->\r\n      <defs>\r\n       <path d=\"M 40.578125 39.3125 \r\nQ 47.65625 37.796875 51.625 33 \r\nQ 55.609375 28.21875 55.609375 21.1875 \r\nQ 55.609375 10.40625 48.1875 4.484375 \r\nQ 40.765625 -1.421875 27.09375 -1.421875 \r\nQ 22.515625 -1.421875 17.65625 -0.515625 \r\nQ 12.796875 0.390625 7.625 2.203125 \r\nL 7.625 11.71875 \r\nQ 11.71875 9.328125 16.59375 8.109375 \r\nQ 21.484375 6.890625 26.8125 6.890625 \r\nQ 36.078125 6.890625 40.9375 10.546875 \r\nQ 45.796875 14.203125 45.796875 21.1875 \r\nQ 45.796875 27.640625 41.28125 31.265625 \r\nQ 36.765625 34.90625 28.71875 34.90625 \r\nL 20.21875 34.90625 \r\nL 20.21875 43.015625 \r\nL 29.109375 43.015625 \r\nQ 36.375 43.015625 40.234375 45.921875 \r\nQ 44.09375 48.828125 44.09375 54.296875 \r\nQ 44.09375 59.90625 40.109375 62.90625 \r\nQ 36.140625 65.921875 28.71875 65.921875 \r\nQ 24.65625 65.921875 20.015625 65.03125 \r\nQ 15.375 64.15625 9.8125 62.3125 \r\nL 9.8125 71.09375 \r\nQ 15.4375 72.65625 20.34375 73.4375 \r\nQ 25.25 74.21875 29.59375 74.21875 \r\nQ 40.828125 74.21875 47.359375 69.109375 \r\nQ 53.90625 64.015625 53.90625 55.328125 \r\nQ 53.90625 49.265625 50.4375 45.09375 \r\nQ 46.96875 40.921875 40.578125 39.3125 \r\nz\r\n\" id=\"DejaVuSans-51\"/>\r\n      </defs>\r\n      <g transform=\"translate(7.2 50.041422)scale(0.1 -0.1)\">\r\n       <use xlink:href=\"#DejaVuSans-51\"/>\r\n       <use x=\"63.623047\" xlink:href=\"#DejaVuSans-48\"/>\r\n       <use x=\"127.246094\" xlink:href=\"#DejaVuSans-48\"/>\r\n       <use x=\"190.869141\" xlink:href=\"#DejaVuSans-48\"/>\r\n       <use x=\"254.492188\" xlink:href=\"#DejaVuSans-48\"/>\r\n      </g>\r\n     </g>\r\n    </g>\r\n    <g id=\"ytick_8\">\r\n     <g id=\"line2d_14\">\r\n      <g>\r\n       <use style=\"stroke:#000000;stroke-width:0.8;\" x=\"46.0125\" xlink:href=\"#m393f4bff42\" y=\"18.15651\"/>\r\n      </g>\r\n     </g>\r\n     <g id=\"text_14\">\r\n      <!-- 35000 -->\r\n      <g transform=\"translate(7.2 21.955729)scale(0.1 -0.1)\">\r\n       <use xlink:href=\"#DejaVuSans-51\"/>\r\n       <use x=\"63.623047\" xlink:href=\"#DejaVuSans-53\"/>\r\n       <use x=\"127.246094\" xlink:href=\"#DejaVuSans-48\"/>\r\n       <use x=\"190.869141\" xlink:href=\"#DejaVuSans-48\"/>\r\n       <use x=\"254.492188\" xlink:href=\"#DejaVuSans-48\"/>\r\n      </g>\r\n     </g>\r\n    </g>\r\n   </g>\r\n   <g id=\"line2d_15\">\r\n    <path clip-path=\"url(#p04b24e702b)\" d=\"M 61.230682 214.745129 \r\nL 64.988258 214.700192 \r\nL 69.998359 214.745129 \r\nL 83.776136 214.717044 \r\nL 91.291288 214.745129 \r\nL 95.048864 214.700192 \r\nL 97.553914 214.711427 \r\nL 105.069066 214.700192 \r\nL 107.574116 214.672107 \r\nL 108.826641 214.677724 \r\nL 110.079167 214.026136 \r\nL 111.331692 214.447421 \r\nL 112.584217 214.31261 \r\nL 113.836742 214.688958 \r\nL 115.089268 214.46989 \r\nL 117.594318 214.593467 \r\nL 118.846843 214.048604 \r\nL 120.099369 213.981198 \r\nL 121.351894 214.604701 \r\nL 122.604419 214.481124 \r\nL 123.856944 209.369528 \r\nL 125.10947 207.038415 \r\nL 126.361995 202.786241 \r\nL 127.61452 201.269614 \r\nL 128.867045 205.488085 \r\nL 130.119571 208.100054 \r\nL 131.372096 203.92652 \r\nL 132.624621 192.916928 \r\nL 133.877146 140.278722 \r\nL 135.129672 149.754835 \r\nL 136.382197 142.137995 \r\nL 137.634722 141.239253 \r\nL 138.887247 188.327726 \r\nL 140.139773 168.926129 \r\nL 141.392298 123.893528 \r\nL 142.644823 116.832785 \r\nL 143.897348 112.103154 \r\nL 145.149874 121.33773 \r\nL 146.402399 137.824032 \r\nL 147.654924 190.422919 \r\nL 148.907449 174.357902 \r\nL 150.159975 136.189445 \r\nL 151.4125 138.335192 \r\nL 152.665025 135.700754 \r\nL 153.917551 138.75086 \r\nL 155.170076 158.388377 \r\nL 156.422601 196.158017 \r\nL 157.675126 177.565288 \r\nL 158.927652 144.289359 \r\nL 160.180177 139.312574 \r\nL 161.432702 126.791972 \r\nL 162.685227 110.771892 \r\nL 163.937753 102.301247 \r\nL 165.190278 159.259033 \r\nL 166.442803 121.225387 \r\nL 167.695328 35.148354 \r\nL 168.947854 26.582218 \r\nL 170.200379 21.830119 \r\nL 171.452904 17.971144 \r\nL 172.705429 43.051668 \r\nL 173.957955 157.045881 \r\nL 175.21048 122.753249 \r\nL 176.463005 17.083636 \r\nL 177.71553 29.946884 \r\nL 178.968056 17.954293 \r\nL 180.220581 27.778668 \r\nL 181.473106 66.536925 \r\nL 182.725631 164.522292 \r\nL 183.978157 133.51007 \r\nL 185.230682 40.344208 \r\nL 186.483207 26.391235 \r\nL 187.735732 21.53241 \r\nL 188.988258 20.223617 \r\nL 190.240783 65.200046 \r\nL 191.493308 168.690209 \r\nL 192.745833 128.578222 \r\nL 193.998359 35.120269 \r\nL 195.250884 21.751479 \r\nL 196.503409 18.167744 \r\nL 197.755934 19.605732 \r\nL 199.00846 72.653989 \r\nL 200.260985 166.095091 \r\nL 201.51351 133.453898 \r\nL 202.766035 26.615921 \r\nL 204.018561 24.273574 \r\nL 205.271086 26.722646 \r\nL 206.523611 21.330193 \r\nL 207.776136 74.32228 \r\nL 209.028662 167.35333 \r\nL 210.281187 127.20764 \r\nL 211.533712 27.778668 \r\nL 212.786237 29.946884 \r\nL 214.038763 25.481259 \r\nL 215.291288 27.643857 \r\nL 216.543813 78.186871 \r\nL 217.796338 168.538547 \r\nL 219.048864 134.538006 \r\nL 220.301389 34.873115 \r\nL 221.553914 39.215163 \r\nL 222.806439 35.064097 \r\nL 224.058965 40.973327 \r\nL 225.31149 83.101867 \r\nL 226.564015 175.498181 \r\nL 227.81654 142.9918 \r\nL 229.069066 54.656677 \r\nL 230.321591 64.003596 \r\nL 231.574116 140.26187 \r\nL 232.826641 67.615416 \r\nL 234.079167 100.054392 \r\nL 235.331692 180.503052 \r\nL 236.584217 147.502362 \r\nL 237.836742 61.245581 \r\nL 239.089268 61.324221 \r\nL 240.341793 65.626949 \r\nL 241.594318 60.139004 \r\nL 242.846843 93.864305 \r\nL 244.099369 181.306303 \r\nL 245.351894 153.220609 \r\nL 246.604419 66.677354 \r\nL 247.856944 57.454012 \r\nL 249.10947 76.681478 \r\nL 250.361995 153.338569 \r\nL 251.61452 147.586619 \r\nL 252.867045 186.255002 \r\nL 254.119571 165.44912 \r\nL 255.372096 109.816979 \r\nL 256.624621 144.632004 \r\nL 257.877146 60.779358 \r\nL 259.129672 63.340773 \r\nL 260.382197 95.493275 \r\nL 261.634722 177.801208 \r\nL 262.887247 143.244571 \r\nL 264.139773 66.211131 \r\nL 265.392298 66.110023 \r\nL 266.644823 60.975958 \r\nL 267.897348 64.217047 \r\nL 269.149874 95.049521 \r\nL 270.402399 181.120937 \r\nL 271.654924 156.265099 \r\nL 272.907449 78.220574 \r\nL 274.159975 74.187468 \r\nL 275.4125 64.677652 \r\nL 276.665025 81.708817 \r\nL 277.917551 115.6251 \r\nL 279.170076 184.620415 \r\nL 280.422601 158.590594 \r\nL 281.675126 91.089438 \r\nL 282.927652 82.040228 \r\nL 284.180177 81.15272 \r\nL 285.432702 69.879123 \r\nL 286.685227 109.670933 \r\nL 287.937753 183.935124 \r\nL 289.190278 156.866132 \r\nL 290.442803 84.287084 \r\nL 291.695328 95.847155 \r\nL 292.947854 83.787158 \r\nL 294.200379 93.735111 \r\nL 295.452904 122.640906 \r\nL 296.705429 185.052934 \r\nL 297.957955 161.011581 \r\nL 299.21048 94.274356 \r\nL 300.463005 92.504957 \r\nL 301.71553 92.701557 \r\nL 302.968056 93.100374 \r\nL 304.220581 120.781634 \r\nL 305.473106 188.159212 \r\nL 306.725631 165.039069 \r\nL 307.978157 95.723578 \r\nL 309.230682 92.667854 \r\nL 310.483207 96.487509 \r\nL 311.735732 100.767768 \r\nL 312.988258 125.207939 \r\nL 314.240783 187.889589 \r\nL 315.493308 163.039368 \r\nL 316.745833 102.576487 \r\nL 317.998359 95.07199 \r\nL 319.250884 94.892241 \r\nL 320.503409 100.189203 \r\nL 321.755934 125.18547 \r\nL 323.00846 183.862101 \r\nL 324.260985 163.58423 \r\nL 325.51351 99.700512 \r\nL 326.766035 94.751813 \r\nL 328.018561 86.202528 \r\nL 329.271086 92.151078 \r\nL 330.523611 125.438241 \r\nL 331.776136 189.366897 \r\nL 333.028662 165.426652 \r\nL 334.281187 105.092965 \r\nL 335.533712 99.953283 \r\nL 336.786237 99.560084 \r\nL 338.038763 107.918386 \r\nL 339.291288 139.874288 \r\nL 340.543813 190.681307 \r\nL 341.796338 169.437289 \r\nL 343.048864 116.327243 \r\nL 344.301389 107.137604 \r\nL 345.553914 111.041515 \r\nL 346.806439 105.199691 \r\nL 348.058965 133.740372 \r\nL 349.31149 193.001186 \r\nL 350.564015 171.970618 \r\nL 351.81654 110.159624 \r\nL 353.069066 109.378842 \r\nL 354.321591 108.895768 \r\nL 355.574116 105.587273 \r\nL 356.826641 132.010294 \r\nL 358.079167 192.675391 \r\nL 359.331692 165.235669 \r\nL 360.584217 103.862812 \r\nL 361.836742 109.63723 \r\nL 363.089268 112.260434 \r\nL 364.341793 104.98624 \r\nL 365.594318 136.296171 \r\nL 365.594318 136.296171 \r\n\" style=\"fill:none;stroke:#1f77b4;stroke-linecap:square;stroke-width:1.5;\"/>\r\n   </g>\r\n   <g id=\"patch_3\">\r\n    <path d=\"M 46.0125 224.64 \r\nL 46.0125 7.2 \r\n\" style=\"fill:none;stroke:#000000;stroke-linecap:square;stroke-linejoin:miter;stroke-width:0.8;\"/>\r\n   </g>\r\n   <g id=\"patch_4\">\r\n    <path d=\"M 380.8125 224.64 \r\nL 380.8125 7.2 \r\n\" style=\"fill:none;stroke:#000000;stroke-linecap:square;stroke-linejoin:miter;stroke-width:0.8;\"/>\r\n   </g>\r\n   <g id=\"patch_5\">\r\n    <path d=\"M 46.0125 224.64 \r\nL 380.8125 224.64 \r\n\" style=\"fill:none;stroke:#000000;stroke-linecap:square;stroke-linejoin:miter;stroke-width:0.8;\"/>\r\n   </g>\r\n   <g id=\"patch_6\">\r\n    <path d=\"M 46.0125 7.2 \r\nL 380.8125 7.2 \r\n\" style=\"fill:none;stroke:#000000;stroke-linecap:square;stroke-linejoin:miter;stroke-width:0.8;\"/>\r\n   </g>\r\n  </g>\r\n </g>\r\n <defs>\r\n  <clipPath id=\"p04b24e702b\">\r\n   <rect height=\"217.44\" width=\"334.8\" x=\"46.0125\" y=\"7.2\"/>\r\n  </clipPath>\r\n </defs>\r\n</svg>\r\n",
      "image/png": "[encoded data removed]"
     },
     "metadata": {
      "needs_background": "light"
     }
    }
   ],
   "source": [
    "import matplotlib.pyplot as plt\n",
    "\n",
    "plt.plot(a[1])"
   ]
  },
  {
   "cell_type": "code",
   "execution_count": 27,
   "metadata": {},
   "outputs": [],
   "source": [
    "a = pd.read_json('Colect_Data/insta.json')"
   ]
  },
  {
   "cell_type": "code",
   "execution_count": 63,
   "metadata": {},
   "outputs": [
    {
     "output_type": "execute_result",
     "data": {
      "text/plain": "'tion\":\"Photo by \\\\uac10\\\\uc131\\\\ucd09\\\\ucd09\\\\ub140\\\\ud83c\\\\udfcc\\\\ufe0f\\\\u200d\\\\u2640\\\\ufe0f\\\\ub2e4\\\\uc774\\\\uc5b4\\\\ud130,tc,\\\\uad6c\\\\ub9e4\\\\ub300\\\\ud589\\\\u2708\\\\ud83c\\\\uddf0\\\\ud83c\\\\uddf7 on August 10, 2020. Image may contain: text that says \\'MORI MOOL BOON CREAM REPAIR SSENCE OOL OON MOOL CREAN MO CREAM\\'\"}},{\"node\":{\"__typename\":\"GraphSidecar\",\"id\":\"2364688714138689337\",\"edge_media_to_caption\":{\"edges\":[{\"node\":{\"text\":\"\\\\u110b\\\\u1167\\\\u1105\\\\u1165\\\\u1107\\\\u116e\\\\u11ab \\\\u110b\\\\u1161\\\\u11ab\\\\u1102\\\\u1167\\\\u11bc\\\\u1112\\\\u1161\\\\u1109\\\\u1166\\\\u110b\\\\u116d\\\\u11bc\\\\ud83c\\\\udf37\\\\n\\\\u110c\\\\u1165 \\\\u110b\\\\u116d\\\\u110c\\\\u1173\\\\u11b7 \\\\u1107\\\\u116e\\\\u110f\\\\u1162\\\\u1105\\\\u1169 \\\\u110c\\\\u1175\\\\u1102\\\\u1162\\\\u1100\\\\u1169 \\\\u110b\\\\u1175\\\\u11bb\\\\u110b\\\\u1165\\\\u110b\\\\u116d >_'"
     },
     "metadata": {},
     "execution_count": 63
    }
   ],
   "source": [
    "a['text'][0][-700:]"
   ]
  },
  {
   "cell_type": "code",
   "execution_count": 3,
   "metadata": {},
   "outputs": [],
   "source": [
    "url = 'http://instagram.com/graphql/query/?query_hash=7dabc71d3e758b1ec19ffb85639e427b&variables={%22tag_name%22:%22%ED%99%88%EC%87%BC%ED%95%91%22,%22first%22:12}'"
   ]
  },
  {
   "cell_type": "code",
   "execution_count": 5,
   "metadata": {},
   "outputs": [],
   "source": [
    "import requests"
   ]
  },
  {
   "cell_type": "code",
   "execution_count": 8,
   "metadata": {},
   "outputs": [],
   "source": [
    "r = requests.get(url)"
   ]
  },
  {
   "cell_type": "code",
   "execution_count": 2,
   "metadata": {},
   "outputs": [],
   "source": [
    "from datetime import datetime\n",
    "import json\n",
    "import requests\n",
    "\n",
    "# Insta Cralwer\n",
    "search_word = '홈쇼핑'\n",
    "url = 'http://instagram.com/graphql/query/?query_hash=7dabc71d3e758b1ec19ffb85639e427b&variables={\"tag_name\":\"' + search_word + '\",\"first\":12}'\n",
    "\n",
    "end_cursor=True\n",
    "\n",
    "dates = []\n",
    "contents = []\n",
    "while True:\n",
    "    r = requests.get(url)\n",
    "    sources = json.loads(r.text)['data']['hashtag']['edge_hashtag_to_media']\n",
    "\n",
    "    for source in sources['edges']:\n",
    "        try:\n",
    "            dates.append(datetime.fromtimestamp(source['node']['taken_at_timestamp']))\n",
    "            contents.append(source['node']['edge_media_to_caption']['edges'][0]['node']['text'])\n",
    "        except:\n",
    "            pass\n",
    "\n",
    "    end_cursor = sources['page_info']['end_cursor'] #Next Page 확인\n",
    "    \n",
    "    if end_cursor != None:\n",
    "        url = 'http://instagram.com/graphql/query/?query_hash=7dabc71d3e758b1ec19ffb85639e427b&variables={\"tag_name\":\"' + search_word + '\",\"first\":12'+',\"after\":\"'+end_cursor+'\"}'\n",
    "    else:\n",
    "        break"
   ]
  },
  {
   "cell_type": "code",
   "execution_count": 4,
   "metadata": {},
   "outputs": [],
   "source": [
    "import pandas as pd\n",
    "results = pd.DataFrame(list(zip(dates, contents)))"
   ]
  },
  {
   "cell_type": "code",
   "execution_count": 10,
   "metadata": {},
   "outputs": [
    {
     "output_type": "execute_result",
     "data": {
      "text/plain": "'http://instagram.com/graphql/query/?query_hash=7dabc71d3e758b1ec19ffb85639e427b&variables={\"tag_name\":\"홈쇼핑\",\"first\":12,\"after\":\"QVFDSE5zbTk4X1pFWVpWbHlUVDdkRzJlcGRGbGpJZm5CUFFVVTRqdC1NQ0xHSkRVTG1zVWFVYW1pQjQzelNXZkF3dndyOC0zNjRnM1BPRWJSYWxMMi1KeQ==\"}'"
     },
     "metadata": {},
     "execution_count": 10
    }
   ],
   "source": [
    "url"
   ]
  },
  {
   "cell_type": "code",
   "execution_count": 11,
   "metadata": {},
   "outputs": [
    {
     "output_type": "execute_result",
     "data": {
      "text/plain": "'안녕하세요~👋🏻\\n아리울떡공방입니다🤗\\n아리울떡공방 방송 5분전!!!!!!!!\\n.\\n.\\n.\\n👉🏻홈&쇼핑👈🏻\\n✔️연휴 마지막 날 17일 오후 4시 00분 ~ 4시 50분(50분)🕛\\n딱 50분 동안 정세라, 김나윤 쇼호스트님의 진행으로 방송하니 미리 시간 체크하고 구매해주셔요~🙈\\n🍡아리울 떡은 차갑게 먹어도 맛있습니다\\U0001f9ca\\n.\\n.\\n.\\n✔홈앤쇼핑 아리울떡공방 굳지 않는 떡\\n✔💥앙꼬절편(쑥,백미,고구마) 3kg+모듬앙꼬가래떡 1kg+모듬깨송편1kg\\n이 모든게 37,900원\\n✔무조건 무료배송🚛\\n💥한정으로 준비한 수량이 금방 품절될 수 있으니 빠르게 주문 GO!GO!💥\\n.\\n.\\n.\\n#아리울떡공방 #아리울떡 #아리울 #떡 #떡공방 #떡맛집 #떡스타그램 #인스타떡 #sns떡 #굳지않는떡 #앙꼬절편 #앙금절편 #앙꼬가래떡 #송편 #가래떡 #맛스타그램 #떡간식 #떡순이 #디저트 #간식 #먹방 #먹부림 #먹스타그램 #인싸 #인싸떡 #홈쇼핑 #홈앤쇼핑 #홈&쇼핑'"
     },
     "metadata": {},
     "execution_count": 11
    }
   ],
   "source": []
  },
  {
   "cell_type": "code",
   "execution_count": 2,
   "metadata": {},
   "outputs": [
    {
     "output_type": "execute_result",
     "data": {
      "text/plain": "'ᄋ'"
     },
     "metadata": {},
     "execution_count": 2
    }
   ],
   "source": [
    "chr(ord('\\u110b'))"
   ]
  },
  {
   "cell_type": "code",
   "execution_count": null,
   "metadata": {},
   "outputs": [],
   "source": [
    "# 해야할 것 : 유니코드 한글형식으로 변경하기 (encoding='UTF-8')\n",
    "\n"
   ]
  },
  {
   "cell_type": "code",
   "execution_count": 56,
   "metadata": {},
   "outputs": [
    {
     "output_type": "error",
     "ename": "AttributeError",
     "evalue": "'str' object has no attribute 'decode'",
     "traceback": [
      "\u001b[1;31m---------------------------------------------------------------------------\u001b[0m",
      "\u001b[1;31mAttributeError\u001b[0m                            Traceback (most recent call last)",
      "\u001b[1;32m<ipython-input-56-51c87220775c>\u001b[0m in \u001b[0;36m<module>\u001b[1;34m\u001b[0m\n\u001b[0;32m      2\u001b[0m \u001b[1;33m\u001b[0m\u001b[0m\n\u001b[0;32m      3\u001b[0m \u001b[1;33m\u001b[0m\u001b[0m\n\u001b[1;32m----> 4\u001b[1;33m \u001b[0mt\u001b[0m \u001b[1;33m=\u001b[0m \u001b[0ms\u001b[0m\u001b[1;33m.\u001b[0m\u001b[0mdecode\u001b[0m\u001b[1;33m(\u001b[0m\u001b[1;34m'utf-8'\u001b[0m\u001b[1;33m)\u001b[0m\u001b[1;33m\u001b[0m\u001b[1;33m\u001b[0m\u001b[0m\n\u001b[0m",
      "\u001b[1;31mAttributeError\u001b[0m: 'str' object has no attribute 'decode'"
     ]
    }
   ],
   "source": [
    "# import unicode\n",
    "\n",
    "\n",
    "t = s.decode('utf-8')"
   ]
  },
  {
   "cell_type": "code",
   "execution_count": 47,
   "metadata": {},
   "outputs": [
    {
     "output_type": "execute_result",
     "data": {
      "text/plain": "b'\\\\u110b'"
     },
     "metadata": {},
     "execution_count": 47
    }
   ],
   "source": []
  },
  {
   "cell_type": "markdown",
   "metadata": {},
   "source": [
    "# 기상관측 데이터"
   ]
  },
  {
   "cell_type": "code",
   "execution_count": 1,
   "metadata": {},
   "outputs": [
    {
     "output_type": "error",
     "ename": "ModuleNotFoundError",
     "evalue": "No module named 'urllib2'",
     "traceback": [
      "\u001b[1;31m---------------------------------------------------------------------------\u001b[0m",
      "\u001b[1;31mModuleNotFoundError\u001b[0m                       Traceback (most recent call last)",
      "\u001b[1;32m<ipython-input-1-35a96e9e3163>\u001b[0m in \u001b[0;36m<module>\u001b[1;34m\u001b[0m\n\u001b[0;32m      2\u001b[0m \u001b[1;33m\u001b[0m\u001b[0m\n\u001b[0;32m      3\u001b[0m \u001b[1;33m\u001b[0m\u001b[0m\n\u001b[1;32m----> 4\u001b[1;33m \u001b[1;32mfrom\u001b[0m \u001b[0murllib2\u001b[0m \u001b[1;32mimport\u001b[0m \u001b[0mRequest\u001b[0m\u001b[1;33m,\u001b[0m \u001b[0murlopen\u001b[0m\u001b[1;33m\u001b[0m\u001b[1;33m\u001b[0m\u001b[0m\n\u001b[0m\u001b[0;32m      5\u001b[0m \u001b[1;32mfrom\u001b[0m \u001b[0murllib\u001b[0m \u001b[1;32mimport\u001b[0m \u001b[0murlencode\u001b[0m\u001b[1;33m,\u001b[0m \u001b[0mquote_plus\u001b[0m\u001b[1;33m\u001b[0m\u001b[1;33m\u001b[0m\u001b[0m\n\u001b[0;32m      6\u001b[0m \u001b[1;33m\u001b[0m\u001b[0m\n",
      "\u001b[1;31mModuleNotFoundError\u001b[0m: No module named 'urllib2'"
     ]
    }
   ],
   "source": [
    "# Python 샘플 코드 #\n",
    "\n",
    "\n",
    "from urllib2 import Request, urlopen\n",
    "\n",
    "\n",
    "request = Request(url + queryParams)\n",
    "request.get_method = lambda: 'GET'\n",
    "response_body = urlopen(request).read()\n",
    "print (response_body)"
   ]
  },
  {
   "cell_type": "code",
   "execution_count": 4,
   "metadata": {},
   "outputs": [
    {
     "output_type": "error",
     "ename": "ImportError",
     "evalue": "cannot import name 'urlencode' from 'urllib' (C:\\Users\\svsta\\anaconda3\\lib\\urllib\\__init__.py)",
     "traceback": [
      "\u001b[1;31m---------------------------------------------------------------------------\u001b[0m",
      "\u001b[1;31mImportError\u001b[0m                               Traceback (most recent call last)",
      "\u001b[1;32m<ipython-input-4-0b5be1868740>\u001b[0m in \u001b[0;36m<module>\u001b[1;34m\u001b[0m\n\u001b[1;32m----> 1\u001b[1;33m \u001b[1;32mfrom\u001b[0m \u001b[0murllib\u001b[0m \u001b[1;32mimport\u001b[0m \u001b[0murlencode\u001b[0m\u001b[1;33m,\u001b[0m \u001b[0mquote_plus\u001b[0m\u001b[1;33m\u001b[0m\u001b[1;33m\u001b[0m\u001b[0m\n\u001b[0m\u001b[0;32m      2\u001b[0m \u001b[1;33m\u001b[0m\u001b[0m\n\u001b[0;32m      3\u001b[0m \u001b[0murl\u001b[0m \u001b[1;33m=\u001b[0m \u001b[1;34m'http://apis.data.go.kr/1360000/AsosHourlyInfoService/getWthrDataList'\u001b[0m\u001b[1;33m\u001b[0m\u001b[1;33m\u001b[0m\u001b[0m\n\u001b[0;32m      4\u001b[0m \u001b[0mqueryParams\u001b[0m \u001b[1;33m=\u001b[0m \u001b[1;34m'?'\u001b[0m \u001b[1;33m+\u001b[0m \u001b[0murlencode\u001b[0m\u001b[1;33m(\u001b[0m\u001b[1;33m{\u001b[0m \u001b[0mquote_plus\u001b[0m\u001b[1;33m(\u001b[0m\u001b[1;34m'ServiceKey'\u001b[0m\u001b[1;33m)\u001b[0m \u001b[1;33m:\u001b[0m \u001b[1;34m'JBatS%2BMfY2VXN5uzPh4y5aEwr9i6n0dfH%2BDAwWyw8BuUwcljukH7VgytQ%2BCLnUfzIi148AUH2IGFeLAFaxN3iQ%3D%3D'\u001b[0m\u001b[1;33m,\u001b[0m \u001b[0mquote_plus\u001b[0m\u001b[1;33m(\u001b[0m\u001b[1;34m'ServiceKey'\u001b[0m\u001b[1;33m)\u001b[0m \u001b[1;33m:\u001b[0m \u001b[1;34m'-'\u001b[0m\u001b[1;33m,\u001b[0m \u001b[0mquote_plus\u001b[0m\u001b[1;33m(\u001b[0m\u001b[1;34m'pageNo'\u001b[0m\u001b[1;33m)\u001b[0m \u001b[1;33m:\u001b[0m \u001b[1;34m'1'\u001b[0m\u001b[1;33m,\u001b[0m \u001b[0mquote_plus\u001b[0m\u001b[1;33m(\u001b[0m\u001b[1;34m'numOfRows'\u001b[0m\u001b[1;33m)\u001b[0m \u001b[1;33m:\u001b[0m \u001b[1;34m'10'\u001b[0m\u001b[1;33m,\u001b[0m \u001b[0mquote_plus\u001b[0m\u001b[1;33m(\u001b[0m\u001b[1;34m'dataType'\u001b[0m\u001b[1;33m)\u001b[0m \u001b[1;33m:\u001b[0m \u001b[1;34m'XML'\u001b[0m\u001b[1;33m,\u001b[0m \u001b[0mquote_plus\u001b[0m\u001b[1;33m(\u001b[0m\u001b[1;34m'dataCd'\u001b[0m\u001b[1;33m)\u001b[0m \u001b[1;33m:\u001b[0m \u001b[1;34m'ASOS'\u001b[0m\u001b[1;33m,\u001b[0m \u001b[0mquote_plus\u001b[0m\u001b[1;33m(\u001b[0m\u001b[1;34m'dateCd'\u001b[0m\u001b[1;33m)\u001b[0m \u001b[1;33m:\u001b[0m \u001b[1;34m'HR'\u001b[0m\u001b[1;33m,\u001b[0m \u001b[0mquote_plus\u001b[0m\u001b[1;33m(\u001b[0m\u001b[1;34m'startDt'\u001b[0m\u001b[1;33m)\u001b[0m \u001b[1;33m:\u001b[0m \u001b[1;34m'20190101'\u001b[0m\u001b[1;33m,\u001b[0m \u001b[0mquote_plus\u001b[0m\u001b[1;33m(\u001b[0m\u001b[1;34m'startHh'\u001b[0m\u001b[1;33m)\u001b[0m \u001b[1;33m:\u001b[0m \u001b[1;34m'01'\u001b[0m\u001b[1;33m,\u001b[0m \u001b[0mquote_plus\u001b[0m\u001b[1;33m(\u001b[0m\u001b[1;34m'endDt'\u001b[0m\u001b[1;33m)\u001b[0m \u001b[1;33m:\u001b[0m \u001b[1;34m'20200101'\u001b[0m\u001b[1;33m,\u001b[0m \u001b[0mquote_plus\u001b[0m\u001b[1;33m(\u001b[0m\u001b[1;34m'endHh'\u001b[0m\u001b[1;33m)\u001b[0m \u001b[1;33m:\u001b[0m \u001b[1;34m'01'\u001b[0m\u001b[1;33m,\u001b[0m \u001b[0mquote_plus\u001b[0m\u001b[1;33m(\u001b[0m\u001b[1;34m'stnIds'\u001b[0m\u001b[1;33m)\u001b[0m \u001b[1;33m:\u001b[0m \u001b[1;34m'108'\u001b[0m \u001b[1;33m}\u001b[0m\u001b[1;33m)\u001b[0m\u001b[1;33m\u001b[0m\u001b[1;33m\u001b[0m\u001b[0m\n",
      "\u001b[1;31mImportError\u001b[0m: cannot import name 'urlencode' from 'urllib' (C:\\Users\\svsta\\anaconda3\\lib\\urllib\\__init__.py)"
     ]
    }
   ],
   "source": [
    "from urllib import urlencode, quote_plus\n",
    "\n",
    "url = 'http://apis.data.go.kr/1360000/AsosHourlyInfoService/getWthrDataList'\n",
    "queryParams = '?' + urlencode({ quote_plus('ServiceKey') : 'JBatS%2BMfY2VXN5uzPh4y5aEwr9i6n0dfH%2BDAwWyw8BuUwcljukH7VgytQ%2BCLnUfzIi148AUH2IGFeLAFaxN3iQ%3D%3D', quote_plus('ServiceKey') : '-', quote_plus('pageNo') : '1', quote_plus('numOfRows') : '10', quote_plus('dataType') : 'XML', quote_plus('dataCd') : 'ASOS', quote_plus('dateCd') : 'HR', quote_plus('startDt') : '20190101', quote_plus('startHh') : '01', quote_plus('endDt') : '20200101', quote_plus('endHh') : '01', quote_plus('stnIds') : '108' })\n"
   ]
  },
  {
   "cell_type": "code",
   "execution_count": 12,
   "metadata": {},
   "outputs": [],
   "source": [
    "num = 24\n",
    "s_day = '20190101'\n",
    "e_day = '20190101'"
   ]
  },
  {
   "cell_type": "code",
   "execution_count": 13,
   "metadata": {},
   "outputs": [],
   "source": [
    "import requests\n",
    "import json\n",
    "\n",
    "URL = 'http://apis.data.go.kr/1360000/AsosHourlyInfoService/getWthrDataList'\n",
    "params = '?serviceKey=JBatS%2BMfY2VXN5uzPh4y5aEwr9i6n0dfH%2BDAwWyw8BuUwcljukH7VgytQ%2BCLnUfzIi148AUH2IGFeLAFaxN3iQ%3D%3D&numOfRows={}&pageNo=1&dataCd=ASOS&dateCd=HR&stnIds=108&startHh=00&startDt={}&endDt={}&endHh=23&dataType=JSON'.format(num, s_day, e_day)\n",
    "\n",
    "r = requests.get(URL+params)"
   ]
  },
  {
   "cell_type": "code",
   "execution_count": 14,
   "metadata": {},
   "outputs": [],
   "source": [
    "results = json.loads(r.text)"
   ]
  },
  {
   "cell_type": "code",
   "execution_count": 15,
   "metadata": {},
   "outputs": [],
   "source": [
    "# 날씨 데이터, 하루 = 00:00 ~ 24:00 24개\n",
    "sources = results['response']['body']['items']['item']\n"
   ]
  },
  {
   "cell_type": "code",
   "execution_count": 18,
   "metadata": {},
   "outputs": [],
   "source": [
    "sources[23]"
   ]
  },
  {
   "cell_type": "code",
   "execution_count": 19,
   "metadata": {},
   "outputs": [
    {
     "output_type": "execute_result",
     "data": {
      "text/plain": "['dsnw']"
     },
     "metadata": {},
     "execution_count": 19
    }
   ],
   "source": [
    "['tm'] # 시간\n",
    "['stnNm'] # 지역\n",
    "['ta'] # 기온\n",
    "['hm'] # 습도\n",
    "['rn'] # 강수량\n",
    "['dsnw'] # 적설량\n"
   ]
  },
  {
   "cell_type": "code",
   "execution_count": 24,
   "metadata": {
    "tags": []
   },
   "outputs": [
    {
     "output_type": "stream",
     "name": "stdout",
     "text": "C ����̺��� ����: Local Disk\n ���� �Ϸ� ��ȣ: 9248-BB1B\n\n c:\\Users\\svsta\\big_contest ���͸�\n\n2020-08-14  ���� 07:20    <DIR>          .\n2020-08-14  ���� 07:20    <DIR>          ..\n2020-08-05  ���� 07:47    <DIR>          .vscode\n2020-08-18  ���� 07:43    <DIR>          Colect_Data\n2020-08-14  ���� 07:21    <DIR>          datas\n2020-08-13  ���� 03:53         1,816,380 EDA.ipynb\n2020-08-14  ���� 08:39           447,789 Model.ipynb\n2020-08-14  ���� 08:22    <DIR>          Package\n2020-08-18  ���� 07:41            87,863 temp.ipynb\n               3�� ����           2,352,032 ����Ʈ\n               6�� ���͸�  55,604,858,880 ����Ʈ ����\n"
    }
   ],
   "source": [
    "!dir"
   ]
  },
  {
   "cell_type": "code",
   "execution_count": 25,
   "metadata": {},
   "outputs": [],
   "source": [
    "import pandas as pd\n",
    "\n",
    "weather = pd.read_json('Colect_Data/weather.json')"
   ]
  },
  {
   "cell_type": "code",
   "execution_count": 30,
   "metadata": {
    "tags": []
   },
   "outputs": [
    {
     "output_type": "execute_result",
     "data": {
      "text/plain": "[<matplotlib.lines.Line2D at 0x22c82390648>]"
     },
     "metadata": {},
     "execution_count": 30
    },
    {
     "output_type": "display_data",
     "data": {
      "text/plain": "<Figure size 432x288 with 1 Axes>",
      "image/svg+xml": "<?xml version=\"1.0\" encoding=\"utf-8\" standalone=\"no\"?>\r\n<!DOCTYPE svg PUBLIC \"-//W3C//DTD SVG 1.1//EN\"\r\n  \"http://www.w3.org/Graphics/SVG/1.1/DTD/svg11.dtd\">\r\n<!-- Created with matplotlib (https://matplotlib.org/) -->\r\n<svg height=\"248.518125pt\" version=\"1.1\" viewBox=\"0 0 378.465625 248.518125\" width=\"378.465625pt\" xmlns=\"http://www.w3.org/2000/svg\" xmlns:xlink=\"http://www.w3.org/1999/xlink\">\r\n <defs>\r\n  <style type=\"text/css\">\r\n*{stroke-linecap:butt;stroke-linejoin:round;}\r\n  </style>\r\n </defs>\r\n <g id=\"figure_1\">\r\n  <g id=\"patch_1\">\r\n   <path d=\"M 0 248.518125 \r\nL 378.465625 248.518125 \r\nL 378.465625 0 \r\nL 0 0 \r\nz\r\n\" style=\"fill:none;\"/>\r\n  </g>\r\n  <g id=\"axes_1\">\r\n   <g id=\"patch_2\">\r\n    <path d=\"M 36.465625 224.64 \r\nL 371.265625 224.64 \r\nL 371.265625 7.2 \r\nL 36.465625 7.2 \r\nz\r\n\" style=\"fill:#ffffff;\"/>\r\n   </g>\r\n   <g id=\"matplotlib.axis_1\">\r\n    <g id=\"xtick_1\">\r\n     <g id=\"line2d_1\">\r\n      <defs>\r\n       <path d=\"M 0 0 \r\nL 0 3.5 \r\n\" id=\"m5912cf6e71\" style=\"stroke:#000000;stroke-width:0.8;\"/>\r\n      </defs>\r\n      <g>\r\n       <use style=\"stroke:#000000;stroke-width:0.8;\" x=\"51.683807\" xlink:href=\"#m5912cf6e71\" y=\"224.64\"/>\r\n      </g>\r\n     </g>\r\n     <g id=\"text_1\">\r\n      <!-- 0 -->\r\n      <defs>\r\n       <path d=\"M 31.78125 66.40625 \r\nQ 24.171875 66.40625 20.328125 58.90625 \r\nQ 16.5 51.421875 16.5 36.375 \r\nQ 16.5 21.390625 20.328125 13.890625 \r\nQ 24.171875 6.390625 31.78125 6.390625 \r\nQ 39.453125 6.390625 43.28125 13.890625 \r\nQ 47.125 21.390625 47.125 36.375 \r\nQ 47.125 51.421875 43.28125 58.90625 \r\nQ 39.453125 66.40625 31.78125 66.40625 \r\nz\r\nM 31.78125 74.21875 \r\nQ 44.046875 74.21875 50.515625 64.515625 \r\nQ 56.984375 54.828125 56.984375 36.375 \r\nQ 56.984375 17.96875 50.515625 8.265625 \r\nQ 44.046875 -1.421875 31.78125 -1.421875 \r\nQ 19.53125 -1.421875 13.0625 8.265625 \r\nQ 6.59375 17.96875 6.59375 36.375 \r\nQ 6.59375 54.828125 13.0625 64.515625 \r\nQ 19.53125 74.21875 31.78125 74.21875 \r\nz\r\n\" id=\"DejaVuSans-48\"/>\r\n      </defs>\r\n      <g transform=\"translate(48.502557 239.238437)scale(0.1 -0.1)\">\r\n       <use xlink:href=\"#DejaVuSans-48\"/>\r\n      </g>\r\n     </g>\r\n    </g>\r\n    <g id=\"xtick_2\">\r\n     <g id=\"line2d_2\">\r\n      <g>\r\n       <use style=\"stroke:#000000;stroke-width:0.8;\" x=\"121.181155\" xlink:href=\"#m5912cf6e71\" y=\"224.64\"/>\r\n      </g>\r\n     </g>\r\n     <g id=\"text_2\">\r\n      <!-- 2000 -->\r\n      <defs>\r\n       <path d=\"M 19.1875 8.296875 \r\nL 53.609375 8.296875 \r\nL 53.609375 0 \r\nL 7.328125 0 \r\nL 7.328125 8.296875 \r\nQ 12.9375 14.109375 22.625 23.890625 \r\nQ 32.328125 33.6875 34.8125 36.53125 \r\nQ 39.546875 41.84375 41.421875 45.53125 \r\nQ 43.3125 49.21875 43.3125 52.78125 \r\nQ 43.3125 58.59375 39.234375 62.25 \r\nQ 35.15625 65.921875 28.609375 65.921875 \r\nQ 23.96875 65.921875 18.8125 64.3125 \r\nQ 13.671875 62.703125 7.8125 59.421875 \r\nL 7.8125 69.390625 \r\nQ 13.765625 71.78125 18.9375 73 \r\nQ 24.125 74.21875 28.421875 74.21875 \r\nQ 39.75 74.21875 46.484375 68.546875 \r\nQ 53.21875 62.890625 53.21875 53.421875 \r\nQ 53.21875 48.921875 51.53125 44.890625 \r\nQ 49.859375 40.875 45.40625 35.40625 \r\nQ 44.1875 33.984375 37.640625 27.21875 \r\nQ 31.109375 20.453125 19.1875 8.296875 \r\nz\r\n\" id=\"DejaVuSans-50\"/>\r\n      </defs>\r\n      <g transform=\"translate(108.456155 239.238437)scale(0.1 -0.1)\">\r\n       <use xlink:href=\"#DejaVuSans-50\"/>\r\n       <use x=\"63.623047\" xlink:href=\"#DejaVuSans-48\"/>\r\n       <use x=\"127.246094\" xlink:href=\"#DejaVuSans-48\"/>\r\n       <use x=\"190.869141\" xlink:href=\"#DejaVuSans-48\"/>\r\n      </g>\r\n     </g>\r\n    </g>\r\n    <g id=\"xtick_3\">\r\n     <g id=\"line2d_3\">\r\n      <g>\r\n       <use style=\"stroke:#000000;stroke-width:0.8;\" x=\"190.678503\" xlink:href=\"#m5912cf6e71\" y=\"224.64\"/>\r\n      </g>\r\n     </g>\r\n     <g id=\"text_3\">\r\n      <!-- 4000 -->\r\n      <defs>\r\n       <path d=\"M 37.796875 64.3125 \r\nL 12.890625 25.390625 \r\nL 37.796875 25.390625 \r\nz\r\nM 35.203125 72.90625 \r\nL 47.609375 72.90625 \r\nL 47.609375 25.390625 \r\nL 58.015625 25.390625 \r\nL 58.015625 17.1875 \r\nL 47.609375 17.1875 \r\nL 47.609375 0 \r\nL 37.796875 0 \r\nL 37.796875 17.1875 \r\nL 4.890625 17.1875 \r\nL 4.890625 26.703125 \r\nz\r\n\" id=\"DejaVuSans-52\"/>\r\n      </defs>\r\n      <g transform=\"translate(177.953503 239.238437)scale(0.1 -0.1)\">\r\n       <use xlink:href=\"#DejaVuSans-52\"/>\r\n       <use x=\"63.623047\" xlink:href=\"#DejaVuSans-48\"/>\r\n       <use x=\"127.246094\" xlink:href=\"#DejaVuSans-48\"/>\r\n       <use x=\"190.869141\" xlink:href=\"#DejaVuSans-48\"/>\r\n      </g>\r\n     </g>\r\n    </g>\r\n    <g id=\"xtick_4\">\r\n     <g id=\"line2d_4\">\r\n      <g>\r\n       <use style=\"stroke:#000000;stroke-width:0.8;\" x=\"260.175851\" xlink:href=\"#m5912cf6e71\" y=\"224.64\"/>\r\n      </g>\r\n     </g>\r\n     <g id=\"text_4\">\r\n      <!-- 6000 -->\r\n      <defs>\r\n       <path d=\"M 33.015625 40.375 \r\nQ 26.375 40.375 22.484375 35.828125 \r\nQ 18.609375 31.296875 18.609375 23.390625 \r\nQ 18.609375 15.53125 22.484375 10.953125 \r\nQ 26.375 6.390625 33.015625 6.390625 \r\nQ 39.65625 6.390625 43.53125 10.953125 \r\nQ 47.40625 15.53125 47.40625 23.390625 \r\nQ 47.40625 31.296875 43.53125 35.828125 \r\nQ 39.65625 40.375 33.015625 40.375 \r\nz\r\nM 52.59375 71.296875 \r\nL 52.59375 62.3125 \r\nQ 48.875 64.0625 45.09375 64.984375 \r\nQ 41.3125 65.921875 37.59375 65.921875 \r\nQ 27.828125 65.921875 22.671875 59.328125 \r\nQ 17.53125 52.734375 16.796875 39.40625 \r\nQ 19.671875 43.65625 24.015625 45.921875 \r\nQ 28.375 48.1875 33.59375 48.1875 \r\nQ 44.578125 48.1875 50.953125 41.515625 \r\nQ 57.328125 34.859375 57.328125 23.390625 \r\nQ 57.328125 12.15625 50.6875 5.359375 \r\nQ 44.046875 -1.421875 33.015625 -1.421875 \r\nQ 20.359375 -1.421875 13.671875 8.265625 \r\nQ 6.984375 17.96875 6.984375 36.375 \r\nQ 6.984375 53.65625 15.1875 63.9375 \r\nQ 23.390625 74.21875 37.203125 74.21875 \r\nQ 40.921875 74.21875 44.703125 73.484375 \r\nQ 48.484375 72.75 52.59375 71.296875 \r\nz\r\n\" id=\"DejaVuSans-54\"/>\r\n      </defs>\r\n      <g transform=\"translate(247.450851 239.238437)scale(0.1 -0.1)\">\r\n       <use xlink:href=\"#DejaVuSans-54\"/>\r\n       <use x=\"63.623047\" xlink:href=\"#DejaVuSans-48\"/>\r\n       <use x=\"127.246094\" xlink:href=\"#DejaVuSans-48\"/>\r\n       <use x=\"190.869141\" xlink:href=\"#DejaVuSans-48\"/>\r\n      </g>\r\n     </g>\r\n    </g>\r\n    <g id=\"xtick_5\">\r\n     <g id=\"line2d_5\">\r\n      <g>\r\n       <use style=\"stroke:#000000;stroke-width:0.8;\" x=\"329.6732\" xlink:href=\"#m5912cf6e71\" y=\"224.64\"/>\r\n      </g>\r\n     </g>\r\n     <g id=\"text_5\">\r\n      <!-- 8000 -->\r\n      <defs>\r\n       <path d=\"M 31.78125 34.625 \r\nQ 24.75 34.625 20.71875 30.859375 \r\nQ 16.703125 27.09375 16.703125 20.515625 \r\nQ 16.703125 13.921875 20.71875 10.15625 \r\nQ 24.75 6.390625 31.78125 6.390625 \r\nQ 38.8125 6.390625 42.859375 10.171875 \r\nQ 46.921875 13.96875 46.921875 20.515625 \r\nQ 46.921875 27.09375 42.890625 30.859375 \r\nQ 38.875 34.625 31.78125 34.625 \r\nz\r\nM 21.921875 38.8125 \r\nQ 15.578125 40.375 12.03125 44.71875 \r\nQ 8.5 49.078125 8.5 55.328125 \r\nQ 8.5 64.0625 14.71875 69.140625 \r\nQ 20.953125 74.21875 31.78125 74.21875 \r\nQ 42.671875 74.21875 48.875 69.140625 \r\nQ 55.078125 64.0625 55.078125 55.328125 \r\nQ 55.078125 49.078125 51.53125 44.71875 \r\nQ 48 40.375 41.703125 38.8125 \r\nQ 48.828125 37.15625 52.796875 32.3125 \r\nQ 56.78125 27.484375 56.78125 20.515625 \r\nQ 56.78125 9.90625 50.3125 4.234375 \r\nQ 43.84375 -1.421875 31.78125 -1.421875 \r\nQ 19.734375 -1.421875 13.25 4.234375 \r\nQ 6.78125 9.90625 6.78125 20.515625 \r\nQ 6.78125 27.484375 10.78125 32.3125 \r\nQ 14.796875 37.15625 21.921875 38.8125 \r\nz\r\nM 18.3125 54.390625 \r\nQ 18.3125 48.734375 21.84375 45.5625 \r\nQ 25.390625 42.390625 31.78125 42.390625 \r\nQ 38.140625 42.390625 41.71875 45.5625 \r\nQ 45.3125 48.734375 45.3125 54.390625 \r\nQ 45.3125 60.0625 41.71875 63.234375 \r\nQ 38.140625 66.40625 31.78125 66.40625 \r\nQ 25.390625 66.40625 21.84375 63.234375 \r\nQ 18.3125 60.0625 18.3125 54.390625 \r\nz\r\n\" id=\"DejaVuSans-56\"/>\r\n      </defs>\r\n      <g transform=\"translate(316.9482 239.238437)scale(0.1 -0.1)\">\r\n       <use xlink:href=\"#DejaVuSans-56\"/>\r\n       <use x=\"63.623047\" xlink:href=\"#DejaVuSans-48\"/>\r\n       <use x=\"127.246094\" xlink:href=\"#DejaVuSans-48\"/>\r\n       <use x=\"190.869141\" xlink:href=\"#DejaVuSans-48\"/>\r\n      </g>\r\n     </g>\r\n    </g>\r\n   </g>\r\n   <g id=\"matplotlib.axis_2\">\r\n    <g id=\"ytick_1\">\r\n     <g id=\"line2d_6\">\r\n      <defs>\r\n       <path d=\"M 0 0 \r\nL -3.5 0 \r\n\" id=\"mcd92905598\" style=\"stroke:#000000;stroke-width:0.8;\"/>\r\n      </defs>\r\n      <g>\r\n       <use style=\"stroke:#000000;stroke-width:0.8;\" x=\"36.465625\" xlink:href=\"#mcd92905598\" y=\"214.756364\"/>\r\n      </g>\r\n     </g>\r\n     <g id=\"text_6\">\r\n      <!-- 0.0 -->\r\n      <defs>\r\n       <path d=\"M 10.6875 12.40625 \r\nL 21 12.40625 \r\nL 21 0 \r\nL 10.6875 0 \r\nz\r\n\" id=\"DejaVuSans-46\"/>\r\n      </defs>\r\n      <g transform=\"translate(13.5625 218.555582)scale(0.1 -0.1)\">\r\n       <use xlink:href=\"#DejaVuSans-48\"/>\r\n       <use x=\"63.623047\" xlink:href=\"#DejaVuSans-46\"/>\r\n       <use x=\"95.410156\" xlink:href=\"#DejaVuSans-48\"/>\r\n      </g>\r\n     </g>\r\n    </g>\r\n    <g id=\"ytick_2\">\r\n     <g id=\"line2d_7\">\r\n      <g>\r\n       <use style=\"stroke:#000000;stroke-width:0.8;\" x=\"36.465625\" xlink:href=\"#mcd92905598\" y=\"190.531765\"/>\r\n      </g>\r\n     </g>\r\n     <g id=\"text_7\">\r\n      <!-- 2.5 -->\r\n      <defs>\r\n       <path d=\"M 10.796875 72.90625 \r\nL 49.515625 72.90625 \r\nL 49.515625 64.59375 \r\nL 19.828125 64.59375 \r\nL 19.828125 46.734375 \r\nQ 21.96875 47.46875 24.109375 47.828125 \r\nQ 26.265625 48.1875 28.421875 48.1875 \r\nQ 40.625 48.1875 47.75 41.5 \r\nQ 54.890625 34.8125 54.890625 23.390625 \r\nQ 54.890625 11.625 47.5625 5.09375 \r\nQ 40.234375 -1.421875 26.90625 -1.421875 \r\nQ 22.3125 -1.421875 17.546875 -0.640625 \r\nQ 12.796875 0.140625 7.71875 1.703125 \r\nL 7.71875 11.625 \r\nQ 12.109375 9.234375 16.796875 8.0625 \r\nQ 21.484375 6.890625 26.703125 6.890625 \r\nQ 35.15625 6.890625 40.078125 11.328125 \r\nQ 45.015625 15.765625 45.015625 23.390625 \r\nQ 45.015625 31 40.078125 35.4375 \r\nQ 35.15625 39.890625 26.703125 39.890625 \r\nQ 22.75 39.890625 18.8125 39.015625 \r\nQ 14.890625 38.140625 10.796875 36.28125 \r\nz\r\n\" id=\"DejaVuSans-53\"/>\r\n      </defs>\r\n      <g transform=\"translate(13.5625 194.330983)scale(0.1 -0.1)\">\r\n       <use xlink:href=\"#DejaVuSans-50\"/>\r\n       <use x=\"63.623047\" xlink:href=\"#DejaVuSans-46\"/>\r\n       <use x=\"95.410156\" xlink:href=\"#DejaVuSans-53\"/>\r\n      </g>\r\n     </g>\r\n    </g>\r\n    <g id=\"ytick_3\">\r\n     <g id=\"line2d_8\">\r\n      <g>\r\n       <use style=\"stroke:#000000;stroke-width:0.8;\" x=\"36.465625\" xlink:href=\"#mcd92905598\" y=\"166.307166\"/>\r\n      </g>\r\n     </g>\r\n     <g id=\"text_8\">\r\n      <!-- 5.0 -->\r\n      <g transform=\"translate(13.5625 170.106385)scale(0.1 -0.1)\">\r\n       <use xlink:href=\"#DejaVuSans-53\"/>\r\n       <use x=\"63.623047\" xlink:href=\"#DejaVuSans-46\"/>\r\n       <use x=\"95.410156\" xlink:href=\"#DejaVuSans-48\"/>\r\n      </g>\r\n     </g>\r\n    </g>\r\n    <g id=\"ytick_4\">\r\n     <g id=\"line2d_9\">\r\n      <g>\r\n       <use style=\"stroke:#000000;stroke-width:0.8;\" x=\"36.465625\" xlink:href=\"#mcd92905598\" y=\"142.082567\"/>\r\n      </g>\r\n     </g>\r\n     <g id=\"text_9\">\r\n      <!-- 7.5 -->\r\n      <defs>\r\n       <path d=\"M 8.203125 72.90625 \r\nL 55.078125 72.90625 \r\nL 55.078125 68.703125 \r\nL 28.609375 0 \r\nL 18.3125 0 \r\nL 43.21875 64.59375 \r\nL 8.203125 64.59375 \r\nz\r\n\" id=\"DejaVuSans-55\"/>\r\n      </defs>\r\n      <g transform=\"translate(13.5625 145.881786)scale(0.1 -0.1)\">\r\n       <use xlink:href=\"#DejaVuSans-55\"/>\r\n       <use x=\"63.623047\" xlink:href=\"#DejaVuSans-46\"/>\r\n       <use x=\"95.410156\" xlink:href=\"#DejaVuSans-53\"/>\r\n      </g>\r\n     </g>\r\n    </g>\r\n    <g id=\"ytick_5\">\r\n     <g id=\"line2d_10\">\r\n      <g>\r\n       <use style=\"stroke:#000000;stroke-width:0.8;\" x=\"36.465625\" xlink:href=\"#mcd92905598\" y=\"117.857968\"/>\r\n      </g>\r\n     </g>\r\n     <g id=\"text_10\">\r\n      <!-- 10.0 -->\r\n      <defs>\r\n       <path d=\"M 12.40625 8.296875 \r\nL 28.515625 8.296875 \r\nL 28.515625 63.921875 \r\nL 10.984375 60.40625 \r\nL 10.984375 69.390625 \r\nL 28.421875 72.90625 \r\nL 38.28125 72.90625 \r\nL 38.28125 8.296875 \r\nL 54.390625 8.296875 \r\nL 54.390625 0 \r\nL 12.40625 0 \r\nz\r\n\" id=\"DejaVuSans-49\"/>\r\n      </defs>\r\n      <g transform=\"translate(7.2 121.657187)scale(0.1 -0.1)\">\r\n       <use xlink:href=\"#DejaVuSans-49\"/>\r\n       <use x=\"63.623047\" xlink:href=\"#DejaVuSans-48\"/>\r\n       <use x=\"127.246094\" xlink:href=\"#DejaVuSans-46\"/>\r\n       <use x=\"159.033203\" xlink:href=\"#DejaVuSans-48\"/>\r\n      </g>\r\n     </g>\r\n    </g>\r\n    <g id=\"ytick_6\">\r\n     <g id=\"line2d_11\">\r\n      <g>\r\n       <use style=\"stroke:#000000;stroke-width:0.8;\" x=\"36.465625\" xlink:href=\"#mcd92905598\" y=\"93.633369\"/>\r\n      </g>\r\n     </g>\r\n     <g id=\"text_11\">\r\n      <!-- 12.5 -->\r\n      <g transform=\"translate(7.2 97.432588)scale(0.1 -0.1)\">\r\n       <use xlink:href=\"#DejaVuSans-49\"/>\r\n       <use x=\"63.623047\" xlink:href=\"#DejaVuSans-50\"/>\r\n       <use x=\"127.246094\" xlink:href=\"#DejaVuSans-46\"/>\r\n       <use x=\"159.033203\" xlink:href=\"#DejaVuSans-53\"/>\r\n      </g>\r\n     </g>\r\n    </g>\r\n    <g id=\"ytick_7\">\r\n     <g id=\"line2d_12\">\r\n      <g>\r\n       <use style=\"stroke:#000000;stroke-width:0.8;\" x=\"36.465625\" xlink:href=\"#mcd92905598\" y=\"69.40877\"/>\r\n      </g>\r\n     </g>\r\n     <g id=\"text_12\">\r\n      <!-- 15.0 -->\r\n      <g transform=\"translate(7.2 73.207989)scale(0.1 -0.1)\">\r\n       <use xlink:href=\"#DejaVuSans-49\"/>\r\n       <use x=\"63.623047\" xlink:href=\"#DejaVuSans-53\"/>\r\n       <use x=\"127.246094\" xlink:href=\"#DejaVuSans-46\"/>\r\n       <use x=\"159.033203\" xlink:href=\"#DejaVuSans-48\"/>\r\n      </g>\r\n     </g>\r\n    </g>\r\n    <g id=\"ytick_8\">\r\n     <g id=\"line2d_13\">\r\n      <g>\r\n       <use style=\"stroke:#000000;stroke-width:0.8;\" x=\"36.465625\" xlink:href=\"#mcd92905598\" y=\"45.184171\"/>\r\n      </g>\r\n     </g>\r\n     <g id=\"text_13\">\r\n      <!-- 17.5 -->\r\n      <g transform=\"translate(7.2 48.98339)scale(0.1 -0.1)\">\r\n       <use xlink:href=\"#DejaVuSans-49\"/>\r\n       <use x=\"63.623047\" xlink:href=\"#DejaVuSans-55\"/>\r\n       <use x=\"127.246094\" xlink:href=\"#DejaVuSans-46\"/>\r\n       <use x=\"159.033203\" xlink:href=\"#DejaVuSans-53\"/>\r\n      </g>\r\n     </g>\r\n    </g>\r\n    <g id=\"ytick_9\">\r\n     <g id=\"line2d_14\">\r\n      <g>\r\n       <use style=\"stroke:#000000;stroke-width:0.8;\" x=\"36.465625\" xlink:href=\"#mcd92905598\" y=\"20.959572\"/>\r\n      </g>\r\n     </g>\r\n     <g id=\"text_14\">\r\n      <!-- 20.0 -->\r\n      <g transform=\"translate(7.2 24.758791)scale(0.1 -0.1)\">\r\n       <use xlink:href=\"#DejaVuSans-50\"/>\r\n       <use x=\"63.623047\" xlink:href=\"#DejaVuSans-48\"/>\r\n       <use x=\"127.246094\" xlink:href=\"#DejaVuSans-46\"/>\r\n       <use x=\"159.033203\" xlink:href=\"#DejaVuSans-48\"/>\r\n      </g>\r\n     </g>\r\n    </g>\r\n   </g>\r\n   <g id=\"line2d_15\">\r\n    <path clip-path=\"url(#p5007641189)\" d=\"M 51.683807 214.756364 \r\nL 78.231794 214.756364 \r\nL 78.266542 211.849412 \r\nL 78.33604 214.756364 \r\nL 79.274254 214.756364 \r\nL 79.413249 180.841925 \r\nL 79.482746 214.756364 \r\nL 79.517495 166.307166 \r\nL 79.586992 214.756364 \r\nL 79.621741 180.841925 \r\nL 79.691238 214.756364 \r\nL 79.830233 205.066524 \r\nL 79.89973 214.756364 \r\nL 79.934479 200.221604 \r\nL 80.003976 214.756364 \r\nL 82.714373 214.756364 \r\nL 82.749121 209.911444 \r\nL 82.818619 214.756364 \r\nL 89.386118 214.756364 \r\nL 89.525113 204.09754 \r\nL 89.664108 214.756364 \r\nL 89.803102 214.756364 \r\nL 89.837851 209.911444 \r\nL 89.907348 214.756364 \r\nL 90.11584 214.756364 \r\nL 90.150589 212.818396 \r\nL 90.220086 214.756364 \r\nL 92.721991 214.756364 \r\nL 92.860986 207.973476 \r\nL 92.930483 214.756364 \r\nL 92.965232 184.717861 \r\nL 93.034729 214.756364 \r\nL 93.069478 213.78738 \r\nL 93.138975 214.756364 \r\nL 113.154211 214.756364 \r\nL 113.18896 197.314652 \r\nL 113.293206 198.283636 \r\nL 113.432201 214.756364 \r\nL 117.219806 214.756364 \r\nL 117.358801 191.500749 \r\nL 117.428298 214.756364 \r\nL 117.463047 142.082567 \r\nL 117.567293 155.648342 \r\nL 117.706288 214.756364 \r\nL 117.741036 214.756364 \r\nL 117.775785 195.376684 \r\nL 117.845282 214.756364 \r\nL 119.721711 214.756364 \r\nL 119.756459 198.283636 \r\nL 119.825957 214.756364 \r\nL 125.142504 214.756364 \r\nL 125.177253 199.25262 \r\nL 125.24675 214.756364 \r\nL 125.559488 214.756364 \r\nL 125.594237 213.78738 \r\nL 125.663734 214.756364 \r\nL 125.76798 214.756364 \r\nL 125.802729 213.78738 \r\nL 125.872226 214.756364 \r\nL 131.466763 214.756364 \r\nL 131.501511 208.94246 \r\nL 131.571009 214.756364 \r\nL 131.675255 214.756364 \r\nL 131.710003 213.78738 \r\nL 131.779501 214.756364 \r\nL 134.003416 214.756364 \r\nL 134.107662 180.841925 \r\nL 134.14241 186.655829 \r\nL 134.316154 207.973476 \r\nL 134.350902 207.004492 \r\nL 134.489897 214.756364 \r\nL 134.663641 207.973476 \r\nL 134.698389 211.849412 \r\nL 134.906881 214.756364 \r\nL 137.860519 214.756364 \r\nL 137.895267 213.78738 \r\nL 137.964765 206.035508 \r\nL 137.999513 214.756364 \r\nL 143.31606 214.756364 \r\nL 143.420306 208.94246 \r\nL 143.559301 214.756364 \r\nL 145.95696 214.756364 \r\nL 146.026457 198.283636 \r\nL 146.061206 207.973476 \r\nL 146.130703 212.818396 \r\nL 146.269698 214.756364 \r\nL 147.173163 214.756364 \r\nL 147.312158 203.128556 \r\nL 147.346907 207.973476 \r\nL 147.381655 213.78738 \r\nL 147.416404 209.911444 \r\nL 147.485901 191.500749 \r\nL 147.52065 193.438717 \r\nL 147.624896 214.756364 \r\nL 147.659645 207.973476 \r\nL 147.694393 208.94246 \r\nL 147.729142 200.221604 \r\nL 147.763891 207.004492 \r\nL 147.902885 214.756364 \r\nL 148.076629 214.756364 \r\nL 148.146126 210.880428 \r\nL 148.180875 211.849412 \r\nL 148.319869 214.756364 \r\nL 166.840913 214.756364 \r\nL 166.875661 190.531765 \r\nL 166.945159 211.849412 \r\nL 166.979907 208.94246 \r\nL 167.014656 214.756364 \r\nL 167.049405 214.756364 \r\nL 167.118902 188.593797 \r\nL 167.188399 201.190588 \r\nL 167.257897 210.880428 \r\nL 167.396892 175.028021 \r\nL 167.535886 214.756364 \r\nL 167.640132 214.756364 \r\nL 167.70963 165.338182 \r\nL 167.744378 204.09754 \r\nL 167.883373 214.756364 \r\nL 173.616904 214.756364 \r\nL 173.651653 212.818396 \r\nL 173.755899 201.190588 \r\nL 173.894894 211.849412 \r\nL 173.929642 201.190588 \r\nL 173.964391 213.78738 \r\nL 174.103386 214.756364 \r\nL 182.304073 214.756364 \r\nL 182.37357 212.818396 \r\nL 182.408319 214.756364 \r\nL 182.443067 214.756364 \r\nL 182.477816 190.531765 \r\nL 182.547313 193.438717 \r\nL 182.616811 213.78738 \r\nL 182.651559 202.159572 \r\nL 182.686308 197.314652 \r\nL 182.790554 127.547807 \r\nL 182.929549 205.066524 \r\nL 183.068544 214.756364 \r\nL 185.014469 214.756364 \r\nL 185.049218 199.25262 \r\nL 185.118715 214.756364 \r\nL 185.153464 213.78738 \r\nL 185.188213 183.748877 \r\nL 185.25771 204.09754 \r\nL 185.292459 209.911444 \r\nL 185.327207 206.035508 \r\nL 185.361956 200.221604 \r\nL 185.396705 211.849412 \r\nL 185.605197 214.756364 \r\nL 189.914032 214.756364 \r\nL 189.948781 194.407701 \r\nL 190.018278 214.756364 \r\nL 191.825209 214.756364 \r\nL 191.859958 203.128556 \r\nL 191.929455 214.756364 \r\nL 191.964204 214.756364 \r\nL 191.998953 211.849412 \r\nL 192.033701 139.175615 \r\nL 192.103199 214.756364 \r\nL 192.276942 214.756364 \r\nL 192.34644 210.880428 \r\nL 192.381188 211.849412 \r\nL 192.450686 214.756364 \r\nL 192.485434 197.314652 \r\nL 192.554932 211.849412 \r\nL 192.58968 211.849412 \r\nL 192.728675 214.756364 \r\nL 192.763424 214.756364 \r\nL 192.798172 212.818396 \r\nL 192.86767 214.756364 \r\nL 194.95259 214.756364 \r\nL 194.987339 212.818396 \r\nL 195.056836 214.756364 \r\nL 199.296174 214.756364 \r\nL 199.330923 207.973476 \r\nL 199.40042 214.756364 \r\nL 199.435169 214.756364 \r\nL 199.469918 213.78738 \r\nL 199.539415 214.756364 \r\nL 200.964111 214.756364 \r\nL 201.068357 212.818396 \r\nL 201.103105 214.756364 \r\nL 201.137854 209.911444 \r\nL 201.207351 213.78738 \r\nL 201.2421 210.880428 \r\nL 201.276849 214.756364 \r\nL 210.693739 214.756364 \r\nL 210.832734 207.973476 \r\nL 210.902232 189.562781 \r\nL 210.93698 195.376684 \r\nL 211.041226 214.756364 \r\nL 211.075975 211.849412 \r\nL 211.110724 214.756364 \r\nL 211.145472 208.94246 \r\nL 211.21497 206.035508 \r\nL 211.353964 214.756364 \r\nL 214.828832 214.756364 \r\nL 214.898329 178.903957 \r\nL 214.933078 207.973476 \r\nL 215.072072 214.756364 \r\nL 215.211067 210.880428 \r\nL 215.245816 175.997005 \r\nL 215.280564 214.756364 \r\nL 215.315313 214.756364 \r\nL 215.558554 214.756364 \r\nL 215.593303 204.09754 \r\nL 215.6628 214.756364 \r\nL 216.357773 214.756364 \r\nL 216.392522 207.973476 \r\nL 216.462019 214.756364 \r\nL 218.651186 214.756364 \r\nL 218.790181 207.004492 \r\nL 218.929175 214.756364 \r\nL 219.311411 214.756364 \r\nL 219.5894 207.973476 \r\nL 219.728395 214.756364 \r\nL 219.763143 212.818396 \r\nL 219.797892 202.159572 \r\nL 219.867389 214.756364 \r\nL 220.249625 214.756364 \r\nL 220.284374 213.78738 \r\nL 220.353871 214.756364 \r\nL 222.056556 214.756364 \r\nL 222.126053 209.911444 \r\nL 222.160802 214.756364 \r\nL 222.230299 214.756364 \r\nL 222.369294 212.818396 \r\nL 222.508289 214.756364 \r\nL 222.751529 214.756364 \r\nL 222.890524 205.066524 \r\nL 223.029519 214.756364 \r\nL 223.064267 214.756364 \r\nL 223.133765 212.818396 \r\nL 223.168513 214.756364 \r\nL 223.307508 168.245134 \r\nL 223.446503 214.756364 \r\nL 223.516 214.756364 \r\nL 223.550749 207.004492 \r\nL 223.620246 212.818396 \r\nL 223.654995 212.818396 \r\nL 223.689744 213.78738 \r\nL 223.828738 62.625882 \r\nL 223.932984 212.818396 \r\nL 223.967733 211.849412 \r\nL 224.106728 214.756364 \r\nL 224.141476 214.756364 \r\nL 224.210974 212.818396 \r\nL 224.245722 214.756364 \r\nL 224.454214 214.756364 \r\nL 224.488963 208.94246 \r\nL 224.55846 214.756364 \r\nL 225.149188 214.756364 \r\nL 225.322931 209.911444 \r\nL 225.427177 214.756364 \r\nL 225.461926 106.23016 \r\nL 225.531423 206.035508 \r\nL 225.566172 144.020535 \r\nL 225.635669 214.756364 \r\nL 225.670418 214.756364 \r\nL 225.739915 209.911444 \r\nL 225.774664 197.314652 \r\nL 225.809413 214.756364 \r\nL 225.983156 214.756364 \r\nL 226.017905 209.911444 \r\nL 226.087402 214.756364 \r\nL 227.060365 214.756364 \r\nL 227.095114 211.849412 \r\nL 227.164611 214.756364 \r\nL 227.373103 214.756364 \r\nL 227.407852 207.004492 \r\nL 227.477349 214.756364 \r\nL 227.581595 214.756364 \r\nL 227.616344 213.78738 \r\nL 227.651092 214.756364 \r\nL 227.685841 207.004492 \r\nL 227.72059 142.082567 \r\nL 227.790087 214.756364 \r\nL 227.859584 214.756364 \r\nL 227.894333 210.880428 \r\nL 227.929082 39.370267 \r\nL 227.998579 64.56385 \r\nL 228.137574 214.756364 \r\nL 228.207071 210.880428 \r\nL 228.24182 194.407701 \r\nL 228.276569 214.756364 \r\nL 228.380815 214.756364 \r\nL 228.415563 211.849412 \r\nL 228.485061 213.78738 \r\nL 228.589307 126.578824 \r\nL 228.76305 214.756364 \r\nL 228.797799 190.531765 \r\nL 228.867296 214.756364 \r\nL 230.674227 214.756364 \r\nL 230.708976 186.655829 \r\nL 230.778473 214.756364 \r\nL 231.542944 214.756364 \r\nL 231.577693 206.035508 \r\nL 231.612441 140.144599 \r\nL 231.64719 214.756364 \r\nL 231.681939 214.756364 \r\nL 233.558367 214.756364 \r\nL 233.593116 213.78738 \r\nL 233.766859 194.407701 \r\nL 233.905854 214.756364 \r\nL 237.589213 214.756364 \r\nL 237.693459 95.571337 \r\nL 237.728208 185.686845 \r\nL 237.832454 214.756364 \r\nL 237.971449 131.423743 \r\nL 238.075695 214.756364 \r\nL 238.110443 213.78738 \r\nL 238.179941 191.500749 \r\nL 238.214689 194.407701 \r\nL 238.353684 214.756364 \r\nL 238.388433 214.756364 \r\nL 238.423181 149.834439 \r\nL 238.492679 214.756364 \r\nL 239.25715 214.756364 \r\nL 239.291898 152.74139 \r\nL 239.361396 214.756364 \r\nL 240.438604 214.756364 \r\nL 240.542851 209.911444 \r\nL 240.612348 158.555294 \r\nL 240.647097 164.369198 \r\nL 240.716594 214.756364 \r\nL 240.786091 209.911444 \r\nL 240.925086 214.756364 \r\nL 241.237824 214.756364 \r\nL 241.272573 213.78738 \r\nL 241.34207 214.756364 \r\nL 245.755152 214.756364 \r\nL 245.824649 210.880428 \r\nL 245.859398 212.818396 \r\nL 245.894146 213.78738 \r\nL 245.928895 210.880428 \r\nL 245.963644 214.756364 \r\nL 250.202982 214.756364 \r\nL 250.237731 211.849412 \r\nL 250.307228 214.756364 \r\nL 250.341977 60.687914 \r\nL 250.411474 208.94246 \r\nL 250.550469 214.756364 \r\nL 252.183656 214.756364 \r\nL 252.218405 17.083636 \r\nL 252.287902 205.066524 \r\nL 252.461646 214.756364 \r\nL 252.496394 212.818396 \r\nL 252.565892 214.756364 \r\nL 253.226117 214.756364 \r\nL 253.260865 212.818396 \r\nL 253.330363 214.756364 \r\nL 257.048471 214.756364 \r\nL 257.222214 189.562781 \r\nL 257.256963 175.997005 \r\nL 257.291711 194.407701 \r\nL 257.430706 214.756364 \r\nL 257.465455 214.756364 \r\nL 257.500203 148.865455 \r\nL 257.569701 214.756364 \r\nL 257.84769 214.756364 \r\nL 257.917188 209.911444 \r\nL 257.986685 212.818396 \r\nL 258.12568 214.756364 \r\nL 258.195177 56.811979 \r\nL 258.229926 181.810909 \r\nL 258.264674 166.307166 \r\nL 258.403669 214.756364 \r\nL 259.16814 214.756364 \r\nL 259.202888 212.818396 \r\nL 259.237637 213.78738 \r\nL 259.272386 195.376684 \r\nL 259.341883 214.756364 \r\nL 259.480878 211.849412 \r\nL 259.619873 214.756364 \r\nL 259.724119 214.756364 \r\nL 259.793616 211.849412 \r\nL 259.828365 214.756364 \r\nL 259.863113 214.756364 \r\nL 259.897862 208.94246 \r\nL 260.002108 209.911444 \r\nL 260.141103 214.756364 \r\nL 260.175851 213.78738 \r\nL 260.245349 214.756364 \r\nL 261.878536 214.756364 \r\nL 261.913285 211.849412 \r\nL 262.05228 115.92 \r\nL 262.087028 168.245134 \r\nL 262.226023 214.756364 \r\nL 262.260772 214.756364 \r\nL 262.29552 213.78738 \r\nL 262.330269 207.973476 \r\nL 262.434515 144.989519 \r\nL 262.399767 214.756364 \r\nL 262.469264 167.27615 \r\nL 262.57351 211.849412 \r\nL 262.608259 140.144599 \r\nL 262.677756 208.94246 \r\nL 262.782002 192.469733 \r\nL 262.886248 214.756364 \r\nL 262.920997 213.78738 \r\nL 263.059991 214.756364 \r\nL 264.067703 214.756364 \r\nL 264.171949 204.09754 \r\nL 264.241446 207.973476 \r\nL 264.449938 214.756364 \r\nL 265.666142 214.756364 \r\nL 265.700891 211.849412 \r\nL 265.770388 214.756364 \r\nL 272.025149 214.756364 \r\nL 272.059898 212.818396 \r\nL 272.129395 214.756364 \r\nL 272.337887 214.756364 \r\nL 272.407385 213.78738 \r\nL 272.442133 214.756364 \r\nL 280.295334 214.756364 \r\nL 280.330082 189.562781 \r\nL 280.39958 214.756364 \r\nL 280.64282 214.756364 \r\nL 280.816564 198.283636 \r\nL 280.851312 198.283636 \r\nL 280.990307 184.717861 \r\nL 281.164051 208.94246 \r\nL 281.303045 214.756364 \r\nL 282.936233 214.756364 \r\nL 282.970982 209.911444 \r\nL 283.040479 214.756364 \r\nL 284.465175 214.756364 \r\nL 284.499923 197.314652 \r\nL 284.569421 209.911444 \r\nL 284.673667 175.028021 \r\nL 284.708415 164.369198 \r\nL 284.743164 178.903957 \r\nL 284.882159 211.849412 \r\nL 284.916907 207.004492 \r\nL 284.951656 206.035508 \r\nL 285.090651 214.756364 \r\nL 302.603982 214.756364 \r\nL 302.638731 204.09754 \r\nL 302.708228 210.880428 \r\nL 302.847223 214.756364 \r\nL 313.41082 214.756364 \r\nL 313.445569 100.416257 \r\nL 313.515066 214.756364 \r\nL 313.619312 214.756364 \r\nL 313.654061 208.94246 \r\nL 313.723558 214.756364 \r\nL 313.758307 210.880428 \r\nL 313.827804 214.756364 \r\nL 313.862553 213.78738 \r\nL 313.93205 214.756364 \r\nL 315.704233 214.756364 \r\nL 315.843227 165.338182 \r\nL 315.982222 214.756364 \r\nL 317.059431 214.756364 \r\nL 317.09418 207.973476 \r\nL 317.163677 214.756364 \r\nL 317.198426 113.982032 \r\nL 317.267923 214.756364 \r\nL 317.406918 183.748877 \r\nL 317.545912 214.756364 \r\nL 317.580661 214.756364 \r\nL 317.61541 211.849412 \r\nL 317.684907 214.756364 \r\nL 318.935859 214.756364 \r\nL 318.970608 211.849412 \r\nL 319.040105 214.756364 \r\nL 319.074854 142.082567 \r\nL 319.144351 214.756364 \r\nL 319.283346 154.679358 \r\nL 319.422341 214.756364 \r\nL 319.457089 214.756364 \r\nL 319.491838 94.602353 \r\nL 319.561335 214.756364 \r\nL 319.596084 192.469733 \r\nL 319.665581 214.756364 \r\nL 324.877883 214.756364 \r\nL 325.016877 184.717861 \r\nL 325.155872 214.756364 \r\nL 330.507168 214.756364 \r\nL 330.646162 208.94246 \r\nL 330.71566 214.756364 \r\nL 330.750408 201.190588 \r\nL 330.819906 214.756364 \r\nL 330.854654 207.004492 \r\nL 330.924152 214.756364 \r\nL 330.9589 210.880428 \r\nL 331.028398 214.756364 \r\nL 332.696334 214.756364 \r\nL 332.731083 208.94246 \r\nL 332.80058 214.756364 \r\nL 335.615223 214.756364 \r\nL 335.649971 213.78738 \r\nL 335.719469 214.756364 \r\nL 337.804389 214.756364 \r\nL 337.943384 205.066524 \r\nL 338.082379 214.756364 \r\nL 338.84685 214.756364 \r\nL 338.881598 212.818396 \r\nL 338.951096 214.756364 \r\nL 341.036016 214.756364 \r\nL 341.070765 205.066524 \r\nL 341.140262 214.756364 \r\nL 343.746413 214.756364 \r\nL 343.885407 142.082567 \r\nL 344.024402 214.756364 \r\nL 347.395023 214.756364 \r\nL 347.534018 210.880428 \r\nL 347.673013 214.756364 \r\nL 348.54173 214.756364 \r\nL 348.576478 211.849412 \r\nL 348.645976 214.756364 \r\nL 348.680724 186.655829 \r\nL 348.750222 214.756364 \r\nL 351.356372 214.756364 \r\nL 351.495367 212.818396 \r\nL 351.634362 214.756364 \r\nL 354.275261 214.756364 \r\nL 354.414255 205.066524 \r\nL 354.55325 214.756364 \r\nL 354.900737 214.756364 \r\nL 354.935486 211.849412 \r\nL 355.004983 214.756364 \r\nL 356.047443 214.756364 \r\nL 356.047443 214.756364 \r\n\" style=\"fill:none;stroke:#1f77b4;stroke-linecap:square;stroke-width:1.5;\"/>\r\n   </g>\r\n   <g id=\"patch_3\">\r\n    <path d=\"M 36.465625 224.64 \r\nL 36.465625 7.2 \r\n\" style=\"fill:none;stroke:#000000;stroke-linecap:square;stroke-linejoin:miter;stroke-width:0.8;\"/>\r\n   </g>\r\n   <g id=\"patch_4\">\r\n    <path d=\"M 371.265625 224.64 \r\nL 371.265625 7.2 \r\n\" style=\"fill:none;stroke:#000000;stroke-linecap:square;stroke-linejoin:miter;stroke-width:0.8;\"/>\r\n   </g>\r\n   <g id=\"patch_5\">\r\n    <path d=\"M 36.465625 224.64 \r\nL 371.265625 224.64 \r\n\" style=\"fill:none;stroke:#000000;stroke-linecap:square;stroke-linejoin:miter;stroke-width:0.8;\"/>\r\n   </g>\r\n   <g id=\"patch_6\">\r\n    <path d=\"M 36.465625 7.2 \r\nL 371.265625 7.2 \r\n\" style=\"fill:none;stroke:#000000;stroke-linecap:square;stroke-linejoin:miter;stroke-width:0.8;\"/>\r\n   </g>\r\n  </g>\r\n </g>\r\n <defs>\r\n  <clipPath id=\"p5007641189\">\r\n   <rect height=\"217.44\" width=\"334.8\" x=\"36.465625\" y=\"7.2\"/>\r\n  </clipPath>\r\n </defs>\r\n</svg>\r\n",
      "image/png": "[encoded data removed]"
     },
     "metadata": {
      "needs_background": "light"
     }
    }
   ],
   "source": [
    "import matplotlib.pyplot as plt\n",
    "plt.plot(weather['rain'])"
   ]
  },
  {
   "cell_type": "code",
   "execution_count": 3,
   "metadata": {},
   "outputs": [],
   "source": [
    "import pandas as pd"
   ]
  },
  {
   "cell_type": "code",
   "execution_count": 50,
   "metadata": {},
   "outputs": [],
   "source": [
    "pub = pd.read_csv('datas/out_data/pub.csv', header=None)"
   ]
  },
  {
   "cell_type": "code",
   "execution_count": 2,
   "metadata": {},
   "outputs": [],
   "source": [
    "loc = pd.read_csv('datas/out_data/loc.csv', header=None)"
   ]
  },
  {
   "cell_type": "code",
   "execution_count": 3,
   "metadata": {},
   "outputs": [
    {
     "output_type": "execute_result",
     "data": {
      "text/plain": "      0    1\n1    90   속초\n2    93  북춘천\n3    95   철원\n4    98  동두천\n5    99   파주\n..  ...  ...\n90  285   합천\n91  288   밀양\n92  289   산청\n93  294   거제\n94  295   남해\n\n[94 rows x 2 columns]",
      "text/html": "<div>\n<style scoped>\n    .dataframe tbody tr th:only-of-type {\n        vertical-align: middle;\n    }\n\n    .dataframe tbody tr th {\n        vertical-align: top;\n    }\n\n    .dataframe thead th {\n        text-align: right;\n    }\n</style>\n<table border=\"1\" class=\"dataframe\">\n  <thead>\n    <tr style=\"text-align: right;\">\n      <th></th>\n      <th>0</th>\n      <th>1</th>\n    </tr>\n  </thead>\n  <tbody>\n    <tr>\n      <th>1</th>\n      <td>90</td>\n      <td>속초</td>\n    </tr>\n    <tr>\n      <th>2</th>\n      <td>93</td>\n      <td>북춘천</td>\n    </tr>\n    <tr>\n      <th>3</th>\n      <td>95</td>\n      <td>철원</td>\n    </tr>\n    <tr>\n      <th>4</th>\n      <td>98</td>\n      <td>동두천</td>\n    </tr>\n    <tr>\n      <th>5</th>\n      <td>99</td>\n      <td>파주</td>\n    </tr>\n    <tr>\n      <th>...</th>\n      <td>...</td>\n      <td>...</td>\n    </tr>\n    <tr>\n      <th>90</th>\n      <td>285</td>\n      <td>합천</td>\n    </tr>\n    <tr>\n      <th>91</th>\n      <td>288</td>\n      <td>밀양</td>\n    </tr>\n    <tr>\n      <th>92</th>\n      <td>289</td>\n      <td>산청</td>\n    </tr>\n    <tr>\n      <th>93</th>\n      <td>294</td>\n      <td>거제</td>\n    </tr>\n    <tr>\n      <th>94</th>\n      <td>295</td>\n      <td>남해</td>\n    </tr>\n  </tbody>\n</table>\n<p>94 rows × 2 columns</p>\n</div>"
     },
     "metadata": {},
     "execution_count": 3
    }
   ],
   "source": [
    "loc.loc[1:]"
   ]
  },
  {
   "cell_type": "code",
   "execution_count": 34,
   "metadata": {},
   "outputs": [
    {
     "output_type": "execute_result",
     "data": {
      "text/plain": "0         서울특별시\n1         부산광역시\n2         인천광역시\n3         대구광역시\n4         대전광역시\n         ...   \n157     강원도 양구군\n158    경상북도 군위군\n159    전라북도 장수군\n160    경상북도 영양군\n161    경상북도 울릉군\nName: 1, Length: 162, dtype: object"
     },
     "metadata": {},
     "execution_count": 34
    }
   ],
   "source": [
    "pub[1].dropna()"
   ]
  },
  {
   "cell_type": "code",
   "execution_count": 94,
   "metadata": {},
   "outputs": [
    {
     "output_type": "execute_result",
     "data": {
      "text/plain": "       0            1    2     3        4          5          6            7  \\\n0    1.0        서울특별시  수도권  광역단체  9741383  4,757,643  4,984,230   95.5 : 100   \n1    2.0        부산광역시  영남권  광역단체  3416918  1,680,933  1,735,985   96.8 : 100   \n2    3.0        인천광역시  수도권  광역단체  2925967  1,472,081  1,453,886  101.3 : 100   \n3    4.0        대구광역시  영남권  광역단체  2453041  1,218,326  1,234,715   98.7 : 100   \n4    5.0        대전광역시  충청권  광역단체  1525849    765,718    760,131  100.7 : 100   \n5    6.0        광주광역시  호남권  광역단체  1496172    745,122    751,050   99.2 : 100   \n6    7.0      경기도 수원시  수도권  기초단체  1193894    601,097    592,797    101 : 100   \n7    8.0        울산광역시  영남권  광역단체  1147037    589,233    557,804    106 : 100   \n8    9.0      경기도 고양시  수도권  기초단체  1068641    523,803    544,838     96 : 100   \n9   10.0      경기도 용인시  수도권  기초단체  1061440    526,824    534,617     99 : 100   \n10  11.0     경상남도 창원시  영남권  기초단체  1044579    529,176    515,493    103 : 100   \n11  12.0      경기도 성남시  수도권  기초단체   942649    466,582    476,097     98 : 100   \n12  13.0     충청북도 청주시  충청권  기초단체   840047    423,099    416,948    101 : 100   \n13  14.0      경기도 부천시  수도권  기초단체   828947    411,912    417,035     99 : 100   \n14  15.0      경기도 화성시  수도권  기초단체   818760    424,061    364,699    107 : 100   \n15  16.0     경기도 남양주시  수도권  기초단체   702545    350,058    352,487     99 : 100   \n16  17.0     전라북도 전주시  호남권  기초단체   654963    322,524    332,439     97 : 100   \n17  18.0     충청남도 천안시  충청권  기초단체   652845    332,818    320,027    104 : 100   \n18  19.0      경기도 안산시  수도권  기초단체   650599    333,471    317,088    105 : 100   \n19  20.0      경기도 안양시  수도권  기초단체   565392    279,857    285,495     98 : 100   \n20  21.0     경상남도 김해시  영남권  기초단체   542713    274,438    268,275    102 : 100   \n21  22.0      경기도 평택시  수도권  기초단체   514876    265,037    249,839    106 : 100   \n22  23.0     경상북도 포항시  영남권  기초단체   506494    255,926    250,568    102 : 100   \n23  24.0  제주특별자치도 제주시  제주권    행정   489202    245,389    243,813    101 : 100   \n24  25.0      경기도 시흥시  수도권  기초단체   475396    248,693    226,703    110 : 100   \n25  26.0      경기도 파주시  수도권  기초단체   453961    230,453    223,503    103 : 100   \n26  27.0     경기도 의정부시  수도권  기초단체   451876    222,611    229,265     97 : 100   \n27  28.0      경기도 김포시  수도권  기초단체   437789    219,805    217,984    101 : 100   \n28  29.0     경상북도 구미시  영남권  기초단체   419761    215,196    204,565    105 : 100   \n29  30.0      경기도 광주시  수도권  기초단체   373274    191,127    182,147    105 : 100   \n30  31.0     경상남도 양산시  영남권  기초단체   351168    176,291    174,877  100.8 : 100   \n31  32.0      강원도 원주시  강원권  기초단체   350252    173,891    176,311     99 : 100   \n32  33.0     경상남도 진주시  영남권  기초단체   347489    171,917    175,572     98 : 100   \n33  34.0      세종특별자치시  충청권  광역단체   342328    170,729    171,599     99 : 100   \n34  35.0      경기도 광명시  수도권  기초단체   328253    162,480    165,773     98 : 100   \n35  36.0     충청남도 아산시  충청권  기초단체   314238    162,713    151,525    107 : 100   \n36  37.0     전라북도 익산시  호남권  기초단체   298928    150,084    148,884  100.8 : 100   \n37  38.0      강원도 춘천시  강원권  기초단체   283742    139,217    144,525   96.3 : 100   \n38  39.0     경상북도 경산시  영남권  기초단체   282626    142,697    139,929    102 : 100   \n39  40.0      경기도 군포시  수도권  기초단체   275989    136,990    138,999     99 : 100   \n\n     8  \n0  NaN  \n1  NaN  \n2  NaN  \n3  NaN  \n4  NaN  \n5  NaN  \n6  NaN  \n7  NaN  \n8  NaN  \n9  NaN  \n10 NaN  \n11 NaN  \n12 NaN  \n13 NaN  \n14 NaN  \n15 NaN  \n16 NaN  \n17 NaN  \n18 NaN  \n19 NaN  \n20 NaN  \n21 NaN  \n22 NaN  \n23 NaN  \n24 NaN  \n25 NaN  \n26 NaN  \n27 NaN  \n28 NaN  \n29 NaN  \n30 NaN  \n31 NaN  \n32 NaN  \n33 NaN  \n34 NaN  \n35 NaN  \n36 NaN  \n37 NaN  \n38 NaN  \n39 NaN  ",
      "text/html": "<div>\n<style scoped>\n    .dataframe tbody tr th:only-of-type {\n        vertical-align: middle;\n    }\n\n    .dataframe tbody tr th {\n        vertical-align: top;\n    }\n\n    .dataframe thead th {\n        text-align: right;\n    }\n</style>\n<table border=\"1\" class=\"dataframe\">\n  <thead>\n    <tr style=\"text-align: right;\">\n      <th></th>\n      <th>0</th>\n      <th>1</th>\n      <th>2</th>\n      <th>3</th>\n      <th>4</th>\n      <th>5</th>\n      <th>6</th>\n      <th>7</th>\n      <th>8</th>\n    </tr>\n  </thead>\n  <tbody>\n    <tr>\n      <th>0</th>\n      <td>1.0</td>\n      <td>서울특별시</td>\n      <td>수도권</td>\n      <td>광역단체</td>\n      <td>9741383</td>\n      <td>4,757,643</td>\n      <td>4,984,230</td>\n      <td>95.5 : 100</td>\n      <td>NaN</td>\n    </tr>\n    <tr>\n      <th>1</th>\n      <td>2.0</td>\n      <td>부산광역시</td>\n      <td>영남권</td>\n      <td>광역단체</td>\n      <td>3416918</td>\n      <td>1,680,933</td>\n      <td>1,735,985</td>\n      <td>96.8 : 100</td>\n      <td>NaN</td>\n    </tr>\n    <tr>\n      <th>2</th>\n      <td>3.0</td>\n      <td>인천광역시</td>\n      <td>수도권</td>\n      <td>광역단체</td>\n      <td>2925967</td>\n      <td>1,472,081</td>\n      <td>1,453,886</td>\n      <td>101.3 : 100</td>\n      <td>NaN</td>\n    </tr>\n    <tr>\n      <th>3</th>\n      <td>4.0</td>\n      <td>대구광역시</td>\n      <td>영남권</td>\n      <td>광역단체</td>\n      <td>2453041</td>\n      <td>1,218,326</td>\n      <td>1,234,715</td>\n      <td>98.7 : 100</td>\n      <td>NaN</td>\n    </tr>\n    <tr>\n      <th>4</th>\n      <td>5.0</td>\n      <td>대전광역시</td>\n      <td>충청권</td>\n      <td>광역단체</td>\n      <td>1525849</td>\n      <td>765,718</td>\n      <td>760,131</td>\n      <td>100.7 : 100</td>\n      <td>NaN</td>\n    </tr>\n    <tr>\n      <th>5</th>\n      <td>6.0</td>\n      <td>광주광역시</td>\n      <td>호남권</td>\n      <td>광역단체</td>\n      <td>1496172</td>\n      <td>745,122</td>\n      <td>751,050</td>\n      <td>99.2 : 100</td>\n      <td>NaN</td>\n    </tr>\n    <tr>\n      <th>6</th>\n      <td>7.0</td>\n      <td>경기도 수원시</td>\n      <td>수도권</td>\n      <td>기초단체</td>\n      <td>1193894</td>\n      <td>601,097</td>\n      <td>592,797</td>\n      <td>101 : 100</td>\n      <td>NaN</td>\n    </tr>\n    <tr>\n      <th>7</th>\n      <td>8.0</td>\n      <td>울산광역시</td>\n      <td>영남권</td>\n      <td>광역단체</td>\n      <td>1147037</td>\n      <td>589,233</td>\n      <td>557,804</td>\n      <td>106 : 100</td>\n      <td>NaN</td>\n    </tr>\n    <tr>\n      <th>8</th>\n      <td>9.0</td>\n      <td>경기도 고양시</td>\n      <td>수도권</td>\n      <td>기초단체</td>\n      <td>1068641</td>\n      <td>523,803</td>\n      <td>544,838</td>\n      <td>96 : 100</td>\n      <td>NaN</td>\n    </tr>\n    <tr>\n      <th>9</th>\n      <td>10.0</td>\n      <td>경기도 용인시</td>\n      <td>수도권</td>\n      <td>기초단체</td>\n      <td>1061440</td>\n      <td>526,824</td>\n      <td>534,617</td>\n      <td>99 : 100</td>\n      <td>NaN</td>\n    </tr>\n    <tr>\n      <th>10</th>\n      <td>11.0</td>\n      <td>경상남도 창원시</td>\n      <td>영남권</td>\n      <td>기초단체</td>\n      <td>1044579</td>\n      <td>529,176</td>\n      <td>515,493</td>\n      <td>103 : 100</td>\n      <td>NaN</td>\n    </tr>\n    <tr>\n      <th>11</th>\n      <td>12.0</td>\n      <td>경기도 성남시</td>\n      <td>수도권</td>\n      <td>기초단체</td>\n      <td>942649</td>\n      <td>466,582</td>\n      <td>476,097</td>\n      <td>98 : 100</td>\n      <td>NaN</td>\n    </tr>\n    <tr>\n      <th>12</th>\n      <td>13.0</td>\n      <td>충청북도 청주시</td>\n      <td>충청권</td>\n      <td>기초단체</td>\n      <td>840047</td>\n      <td>423,099</td>\n      <td>416,948</td>\n      <td>101 : 100</td>\n      <td>NaN</td>\n    </tr>\n    <tr>\n      <th>13</th>\n      <td>14.0</td>\n      <td>경기도 부천시</td>\n      <td>수도권</td>\n      <td>기초단체</td>\n      <td>828947</td>\n      <td>411,912</td>\n      <td>417,035</td>\n      <td>99 : 100</td>\n      <td>NaN</td>\n    </tr>\n    <tr>\n      <th>14</th>\n      <td>15.0</td>\n      <td>경기도 화성시</td>\n      <td>수도권</td>\n      <td>기초단체</td>\n      <td>818760</td>\n      <td>424,061</td>\n      <td>364,699</td>\n      <td>107 : 100</td>\n      <td>NaN</td>\n    </tr>\n    <tr>\n      <th>15</th>\n      <td>16.0</td>\n      <td>경기도 남양주시</td>\n      <td>수도권</td>\n      <td>기초단체</td>\n      <td>702545</td>\n      <td>350,058</td>\n      <td>352,487</td>\n      <td>99 : 100</td>\n      <td>NaN</td>\n    </tr>\n    <tr>\n      <th>16</th>\n      <td>17.0</td>\n      <td>전라북도 전주시</td>\n      <td>호남권</td>\n      <td>기초단체</td>\n      <td>654963</td>\n      <td>322,524</td>\n      <td>332,439</td>\n      <td>97 : 100</td>\n      <td>NaN</td>\n    </tr>\n    <tr>\n      <th>17</th>\n      <td>18.0</td>\n      <td>충청남도 천안시</td>\n      <td>충청권</td>\n      <td>기초단체</td>\n      <td>652845</td>\n      <td>332,818</td>\n      <td>320,027</td>\n      <td>104 : 100</td>\n      <td>NaN</td>\n    </tr>\n    <tr>\n      <th>18</th>\n      <td>19.0</td>\n      <td>경기도 안산시</td>\n      <td>수도권</td>\n      <td>기초단체</td>\n      <td>650599</td>\n      <td>333,471</td>\n      <td>317,088</td>\n      <td>105 : 100</td>\n      <td>NaN</td>\n    </tr>\n    <tr>\n      <th>19</th>\n      <td>20.0</td>\n      <td>경기도 안양시</td>\n      <td>수도권</td>\n      <td>기초단체</td>\n      <td>565392</td>\n      <td>279,857</td>\n      <td>285,495</td>\n      <td>98 : 100</td>\n      <td>NaN</td>\n    </tr>\n    <tr>\n      <th>20</th>\n      <td>21.0</td>\n      <td>경상남도 김해시</td>\n      <td>영남권</td>\n      <td>기초단체</td>\n      <td>542713</td>\n      <td>274,438</td>\n      <td>268,275</td>\n      <td>102 : 100</td>\n      <td>NaN</td>\n    </tr>\n    <tr>\n      <th>21</th>\n      <td>22.0</td>\n      <td>경기도 평택시</td>\n      <td>수도권</td>\n      <td>기초단체</td>\n      <td>514876</td>\n      <td>265,037</td>\n      <td>249,839</td>\n      <td>106 : 100</td>\n      <td>NaN</td>\n    </tr>\n    <tr>\n      <th>22</th>\n      <td>23.0</td>\n      <td>경상북도 포항시</td>\n      <td>영남권</td>\n      <td>기초단체</td>\n      <td>506494</td>\n      <td>255,926</td>\n      <td>250,568</td>\n      <td>102 : 100</td>\n      <td>NaN</td>\n    </tr>\n    <tr>\n      <th>23</th>\n      <td>24.0</td>\n      <td>제주특별자치도 제주시</td>\n      <td>제주권</td>\n      <td>행정</td>\n      <td>489202</td>\n      <td>245,389</td>\n      <td>243,813</td>\n      <td>101 : 100</td>\n      <td>NaN</td>\n    </tr>\n    <tr>\n      <th>24</th>\n      <td>25.0</td>\n      <td>경기도 시흥시</td>\n      <td>수도권</td>\n      <td>기초단체</td>\n      <td>475396</td>\n      <td>248,693</td>\n      <td>226,703</td>\n      <td>110 : 100</td>\n      <td>NaN</td>\n    </tr>\n    <tr>\n      <th>25</th>\n      <td>26.0</td>\n      <td>경기도 파주시</td>\n      <td>수도권</td>\n      <td>기초단체</td>\n      <td>453961</td>\n      <td>230,453</td>\n      <td>223,503</td>\n      <td>103 : 100</td>\n      <td>NaN</td>\n    </tr>\n    <tr>\n      <th>26</th>\n      <td>27.0</td>\n      <td>경기도 의정부시</td>\n      <td>수도권</td>\n      <td>기초단체</td>\n      <td>451876</td>\n      <td>222,611</td>\n      <td>229,265</td>\n      <td>97 : 100</td>\n      <td>NaN</td>\n    </tr>\n    <tr>\n      <th>27</th>\n      <td>28.0</td>\n      <td>경기도 김포시</td>\n      <td>수도권</td>\n      <td>기초단체</td>\n      <td>437789</td>\n      <td>219,805</td>\n      <td>217,984</td>\n      <td>101 : 100</td>\n      <td>NaN</td>\n    </tr>\n    <tr>\n      <th>28</th>\n      <td>29.0</td>\n      <td>경상북도 구미시</td>\n      <td>영남권</td>\n      <td>기초단체</td>\n      <td>419761</td>\n      <td>215,196</td>\n      <td>204,565</td>\n      <td>105 : 100</td>\n      <td>NaN</td>\n    </tr>\n    <tr>\n      <th>29</th>\n      <td>30.0</td>\n      <td>경기도 광주시</td>\n      <td>수도권</td>\n      <td>기초단체</td>\n      <td>373274</td>\n      <td>191,127</td>\n      <td>182,147</td>\n      <td>105 : 100</td>\n      <td>NaN</td>\n    </tr>\n    <tr>\n      <th>30</th>\n      <td>31.0</td>\n      <td>경상남도 양산시</td>\n      <td>영남권</td>\n      <td>기초단체</td>\n      <td>351168</td>\n      <td>176,291</td>\n      <td>174,877</td>\n      <td>100.8 : 100</td>\n      <td>NaN</td>\n    </tr>\n    <tr>\n      <th>31</th>\n      <td>32.0</td>\n      <td>강원도 원주시</td>\n      <td>강원권</td>\n      <td>기초단체</td>\n      <td>350252</td>\n      <td>173,891</td>\n      <td>176,311</td>\n      <td>99 : 100</td>\n      <td>NaN</td>\n    </tr>\n    <tr>\n      <th>32</th>\n      <td>33.0</td>\n      <td>경상남도 진주시</td>\n      <td>영남권</td>\n      <td>기초단체</td>\n      <td>347489</td>\n      <td>171,917</td>\n      <td>175,572</td>\n      <td>98 : 100</td>\n      <td>NaN</td>\n    </tr>\n    <tr>\n      <th>33</th>\n      <td>34.0</td>\n      <td>세종특별자치시</td>\n      <td>충청권</td>\n      <td>광역단체</td>\n      <td>342328</td>\n      <td>170,729</td>\n      <td>171,599</td>\n      <td>99 : 100</td>\n      <td>NaN</td>\n    </tr>\n    <tr>\n      <th>34</th>\n      <td>35.0</td>\n      <td>경기도 광명시</td>\n      <td>수도권</td>\n      <td>기초단체</td>\n      <td>328253</td>\n      <td>162,480</td>\n      <td>165,773</td>\n      <td>98 : 100</td>\n      <td>NaN</td>\n    </tr>\n    <tr>\n      <th>35</th>\n      <td>36.0</td>\n      <td>충청남도 아산시</td>\n      <td>충청권</td>\n      <td>기초단체</td>\n      <td>314238</td>\n      <td>162,713</td>\n      <td>151,525</td>\n      <td>107 : 100</td>\n      <td>NaN</td>\n    </tr>\n    <tr>\n      <th>36</th>\n      <td>37.0</td>\n      <td>전라북도 익산시</td>\n      <td>호남권</td>\n      <td>기초단체</td>\n      <td>298928</td>\n      <td>150,084</td>\n      <td>148,884</td>\n      <td>100.8 : 100</td>\n      <td>NaN</td>\n    </tr>\n    <tr>\n      <th>37</th>\n      <td>38.0</td>\n      <td>강원도 춘천시</td>\n      <td>강원권</td>\n      <td>기초단체</td>\n      <td>283742</td>\n      <td>139,217</td>\n      <td>144,525</td>\n      <td>96.3 : 100</td>\n      <td>NaN</td>\n    </tr>\n    <tr>\n      <th>38</th>\n      <td>39.0</td>\n      <td>경상북도 경산시</td>\n      <td>영남권</td>\n      <td>기초단체</td>\n      <td>282626</td>\n      <td>142,697</td>\n      <td>139,929</td>\n      <td>102 : 100</td>\n      <td>NaN</td>\n    </tr>\n    <tr>\n      <th>39</th>\n      <td>40.0</td>\n      <td>경기도 군포시</td>\n      <td>수도권</td>\n      <td>기초단체</td>\n      <td>275989</td>\n      <td>136,990</td>\n      <td>138,999</td>\n      <td>99 : 100</td>\n      <td>NaN</td>\n    </tr>\n  </tbody>\n</table>\n</div>"
     },
     "metadata": {},
     "execution_count": 94
    }
   ],
   "source": [
    "pub[:40]"
   ]
  },
  {
   "cell_type": "code",
   "execution_count": 35,
   "metadata": {},
   "outputs": [
    {
     "output_type": "execute_result",
     "data": {
      "text/plain": "'서울특별시 부산광역시 인천광역시 대구광역시 대전광역시 광주광역시 경기도\\xa0수원시 울산광역시 경기도\\xa0고양시 경기도\\xa0용인시 경상남도\\xa0창원시 경기도\\xa0성남시 충청북도\\xa0청주시 경기도\\xa0부천시 경기도\\xa0화성시 경기도\\xa0남양주시 전라북도\\xa0전주시 충청남도\\xa0천안시 경기도\\xa0안산시 경기도\\xa0안양시 경상남도\\xa0김해시 경기도\\xa0평택시 경상북도\\xa0포항시 제주특별자치도\\xa0제주시 경기도\\xa0시흥시 경기도\\xa0파주시 경기도\\xa0의정부시 경기도\\xa0김포시 경상북도\\xa0구미시 경기도\\xa0광주시 경상남도\\xa0양산시 강원도\\xa0원주시 경상남도\\xa0진주시 세종특별자치시 경기도\\xa0광명시 충청남도\\xa0아산시 전라북도\\xa0익산시 강원도\\xa0춘천시 경상북도\\xa0경산시 경기도\\xa0군포시 전라북도\\xa0군산시 경기도\\xa0하남시 전라남도\\xa0여수시 전라남도\\xa0순천시 경상북도\\xa0경주시 경상남도\\xa0거제시 전라남도\\xa0목포시 경기도\\xa0오산시 경기도\\xa0이천시 강원도\\xa0강릉시 경기도\\xa0양주시 충청북도\\xa0충주시 경기도\\xa0안성시 경기도\\xa0구리시 충청남도\\xa0서산시 제주특별자치도\\xa0서귀포시 충청남도\\xa0당진시 경상북도\\xa0안동시 경기도\\xa0포천시 경기도\\xa0의왕시 전라남도\\xa0광양시 경상북도\\xa0김천시 충청북도\\xa0제천시 경상남도\\xa0통영시 충청남도\\xa0논산시 경상북도\\xa0칠곡군 경상남도\\xa0사천시 경기도\\xa0여주시 충청남도\\xa0공주시 경기도\\xa0양평군 전라북도\\xa0정읍시 경상북도\\xa0영주시 전라남도\\xa0나주시 충청북도\\xa0음성군 경상남도\\xa0밀양시 충청남도\\xa0홍성군 충청남도\\xa0보령시 전라북도\\xa0완주군 경상북도\\xa0상주시 경상북도\\xa0영천시 경기도\\xa0동두천시 강원도\\xa0동해시 전라북도\\xa0김제시 전라남도\\xa0무안군 전라북도\\xa0남원시 충청북도\\xa0진천군 충청남도\\xa0예산군 강원도\\xa0속초시 경상북도\\xa0문경시 경상남도\\xa0함안군 강원도\\xa0삼척시 강원도\\xa0홍천군 전라남도\\xa0해남군 충청남도\\xa0부여군 경상남도\\xa0창녕군 충청남도\\xa0태안군 전라남도\\xa0고흥군 전라남도\\xa0화순군 경상남도\\xa0거창군 경기도\\xa0가평군 전라남도\\xa0영암군 충청남도\\xa0금산군 전라북도\\xa0고창군 경기도\\xa0과천시 충청남도\\xa0서천군 경상남도\\xa0고성군 전라북도\\xa0부안군 경상북도\\xa0의성군 충청북도\\xa0옥천군 전라남도\\xa0영광군 충청북도\\xa0영동군 경상북도\\xa0울진군 전라남도\\xa0완도군 경상북도\\xa0예천군 강원도\\xa0철원군 강원도\\xa0태백시 경기도\\xa0연천군 전라남도\\xa0담양군 경상남도\\xa0합천군 경상남도\\xa0하동군 강원도\\xa0횡성군 경상남도\\xa0남해군 충청남도\\xa0계룡시 전라남도\\xa0장성군 경상북도\\xa0청도군 경상북도\\xa0성주군 강원도\\xa0평창군 전라남도\\xa0보성군 충청북도\\xa0괴산군 경상남도\\xa0함양군 충청북도\\xa0증평군 강원도\\xa0영월군 전라남도\\xa0장흥군 경상북도\\xa0영덕군 강원도\\xa0정선군 전라남도\\xa0신안군 경상남도\\xa0산청군 전라남도\\xa0강진군 경상북도\\xa0고령군 충청북도\\xa0보은군 충청남도\\xa0청양군 경상북도\\xa0봉화군 전라남도\\xa0함평군 강원도\\xa0인제군 전라남도\\xa0진도군 전라남도\\xa0곡성군 강원도\\xa0고성군 충청북도\\xa0단양군 전라북도\\xa0순창군 전라북도\\xa0임실군 경상남도\\xa0의령군 강원도\\xa0양양군 강원도\\xa0화천군 경상북도\\xa0청송군 전라남도\\xa0구례군 전라북도\\xa0무주군 전라북도\\xa0진안군 강원도\\xa0양구군 경상북도\\xa0군위군 전라북도\\xa0장수군 경상북도\\xa0영양군 경상북도\\xa0울릉군'"
     },
     "metadata": {},
     "execution_count": 35
    }
   ],
   "source": [
    "' '.join(pub[1].dropna())"
   ]
  },
  {
   "cell_type": "code",
   "execution_count": 30,
   "metadata": {},
   "outputs": [
    {
     "output_type": "execute_result",
     "data": {
      "text/plain": "      0    1\n15  115  울릉도",
      "text/html": "<div>\n<style scoped>\n    .dataframe tbody tr th:only-of-type {\n        vertical-align: middle;\n    }\n\n    .dataframe tbody tr th {\n        vertical-align: top;\n    }\n\n    .dataframe thead th {\n        text-align: right;\n    }\n</style>\n<table border=\"1\" class=\"dataframe\">\n  <thead>\n    <tr style=\"text-align: right;\">\n      <th></th>\n      <th>0</th>\n      <th>1</th>\n    </tr>\n  </thead>\n  <tbody>\n    <tr>\n      <th>15</th>\n      <td>115</td>\n      <td>울릉도</td>\n    </tr>\n  </tbody>\n</table>\n</div>"
     },
     "metadata": {},
     "execution_count": 30
    }
   ],
   "source": [
    "loc[loc[1] =='울릉도']"
   ]
  },
  {
   "cell_type": "code",
   "execution_count": 37,
   "metadata": {},
   "outputs": [
    {
     "output_type": "execute_result",
     "data": {
      "text/plain": "'지점명 속초 북춘천 철원 동두천 파주 대관령 춘천 백령도 북강릉 강릉 동해 서울 인천 원주 울릉도 수원 영월 충주 서산 울진 청주 대전 추풍령 안동 상주 포항 군산 대구 전주 울산 창원 광주 부산 통영 목포 여수 흑산도 완도 고창 순천 홍성 제주 고산 성산 서귀포 진주 강화 양평 이천 인제 홍천 태백 정선군 제천 보은 천안 보령 부여 금산 부안 임실 정읍 남원 장수 고창군 영광군 김해시 순창군 북창원 양산시 보성군 강진군 장흥 해남 고흥 의령군 함양군 광양시 진도군 봉화 영주 문경 청송군 영덕 의성 구미 영천 경주시 거창 합천 밀양 산청 거제 남해'"
     },
     "metadata": {},
     "execution_count": 37
    }
   ],
   "source": [
    "' '.join(loc[1])"
   ]
  },
  {
   "cell_type": "code",
   "execution_count": 40,
   "metadata": {},
   "outputs": [],
   "source": [
    "pub = pub[:40]"
   ]
  },
  {
   "cell_type": "code",
   "execution_count": 63,
   "metadata": {},
   "outputs": [],
   "source": [
    "def finding(x):\n",
    "    for l in list(loc[1]):\n",
    "        if l in x :\n",
    "            return l\n",
    "\n",
    "    return None\n",
    "    \n",
    "\n",
    "\n",
    "results = list(map(finding, pub[1]))"
   ]
  },
  {
   "cell_type": "code",
   "execution_count": 75,
   "metadata": {},
   "outputs": [],
   "source": [
    "# pub[results]"
   ]
  },
  {
   "cell_type": "code",
   "execution_count": 62,
   "metadata": {},
   "outputs": [],
   "source": [
    "pub = pub[:162]"
   ]
  },
  {
   "cell_type": "code",
   "execution_count": 85,
   "metadata": {},
   "outputs": [],
   "source": [
    "pub[4] = list(map(lambda i : int(i.replace(',','')), pub[4]))"
   ]
  },
  {
   "cell_type": "code",
   "execution_count": 95,
   "metadata": {},
   "outputs": [
    {
     "output_type": "execute_result",
     "data": {
      "text/plain": "         0         1    2     3        4          5          6            7  \\\n0      1.0     서울특별시  수도권  광역단체  9741383  4,757,643  4,984,230   95.5 : 100   \n1      2.0     부산광역시  영남권  광역단체  3416918  1,680,933  1,735,985   96.8 : 100   \n2      3.0     인천광역시  수도권  광역단체  2925967  1,472,081  1,453,886  101.3 : 100   \n3      4.0     대구광역시  영남권  광역단체  2453041  1,218,326  1,234,715   98.7 : 100   \n4      5.0     대전광역시  충청권  광역단체  1525849    765,718    760,131  100.7 : 100   \n..     ...       ...  ...   ...      ...        ...        ...          ...   \n148  149.0  전라북도 순창군  호남권  기초단체    27017     12,875     14,142     91 : 100   \n149  150.0  전라북도 임실군  호남권  기초단체    26409     13,256     13,153  100.8 : 100   \n150  151.0  경상남도 의령군  영남권  기초단체    26292     12,747     13,545   94.1 : 100   \n153  154.0  경상북도 청송군  영남권  기초단체    24441     12,056     12,385   97.3 : 100   \n159  160.0  전라북도 장수군  호남권  기초단체    21395     10,544     10,851   97.2 : 100   \n\n      8  \n0   NaN  \n1   NaN  \n2   NaN  \n3   NaN  \n4   NaN  \n..   ..  \n148 NaN  \n149 NaN  \n150 NaN  \n153 NaN  \n159 NaN  \n\n[83 rows x 9 columns]",
      "text/html": "<div>\n<style scoped>\n    .dataframe tbody tr th:only-of-type {\n        vertical-align: middle;\n    }\n\n    .dataframe tbody tr th {\n        vertical-align: top;\n    }\n\n    .dataframe thead th {\n        text-align: right;\n    }\n</style>\n<table border=\"1\" class=\"dataframe\">\n  <thead>\n    <tr style=\"text-align: right;\">\n      <th></th>\n      <th>0</th>\n      <th>1</th>\n      <th>2</th>\n      <th>3</th>\n      <th>4</th>\n      <th>5</th>\n      <th>6</th>\n      <th>7</th>\n      <th>8</th>\n    </tr>\n  </thead>\n  <tbody>\n    <tr>\n      <th>0</th>\n      <td>1.0</td>\n      <td>서울특별시</td>\n      <td>수도권</td>\n      <td>광역단체</td>\n      <td>9741383</td>\n      <td>4,757,643</td>\n      <td>4,984,230</td>\n      <td>95.5 : 100</td>\n      <td>NaN</td>\n    </tr>\n    <tr>\n      <th>1</th>\n      <td>2.0</td>\n      <td>부산광역시</td>\n      <td>영남권</td>\n      <td>광역단체</td>\n      <td>3416918</td>\n      <td>1,680,933</td>\n      <td>1,735,985</td>\n      <td>96.8 : 100</td>\n      <td>NaN</td>\n    </tr>\n    <tr>\n      <th>2</th>\n      <td>3.0</td>\n      <td>인천광역시</td>\n      <td>수도권</td>\n      <td>광역단체</td>\n      <td>2925967</td>\n      <td>1,472,081</td>\n      <td>1,453,886</td>\n      <td>101.3 : 100</td>\n      <td>NaN</td>\n    </tr>\n    <tr>\n      <th>3</th>\n      <td>4.0</td>\n      <td>대구광역시</td>\n      <td>영남권</td>\n      <td>광역단체</td>\n      <td>2453041</td>\n      <td>1,218,326</td>\n      <td>1,234,715</td>\n      <td>98.7 : 100</td>\n      <td>NaN</td>\n    </tr>\n    <tr>\n      <th>4</th>\n      <td>5.0</td>\n      <td>대전광역시</td>\n      <td>충청권</td>\n      <td>광역단체</td>\n      <td>1525849</td>\n      <td>765,718</td>\n      <td>760,131</td>\n      <td>100.7 : 100</td>\n      <td>NaN</td>\n    </tr>\n    <tr>\n      <th>...</th>\n      <td>...</td>\n      <td>...</td>\n      <td>...</td>\n      <td>...</td>\n      <td>...</td>\n      <td>...</td>\n      <td>...</td>\n      <td>...</td>\n      <td>...</td>\n    </tr>\n    <tr>\n      <th>148</th>\n      <td>149.0</td>\n      <td>전라북도 순창군</td>\n      <td>호남권</td>\n      <td>기초단체</td>\n      <td>27017</td>\n      <td>12,875</td>\n      <td>14,142</td>\n      <td>91 : 100</td>\n      <td>NaN</td>\n    </tr>\n    <tr>\n      <th>149</th>\n      <td>150.0</td>\n      <td>전라북도 임실군</td>\n      <td>호남권</td>\n      <td>기초단체</td>\n      <td>26409</td>\n      <td>13,256</td>\n      <td>13,153</td>\n      <td>100.8 : 100</td>\n      <td>NaN</td>\n    </tr>\n    <tr>\n      <th>150</th>\n      <td>151.0</td>\n      <td>경상남도 의령군</td>\n      <td>영남권</td>\n      <td>기초단체</td>\n      <td>26292</td>\n      <td>12,747</td>\n      <td>13,545</td>\n      <td>94.1 : 100</td>\n      <td>NaN</td>\n    </tr>\n    <tr>\n      <th>153</th>\n      <td>154.0</td>\n      <td>경상북도 청송군</td>\n      <td>영남권</td>\n      <td>기초단체</td>\n      <td>24441</td>\n      <td>12,056</td>\n      <td>12,385</td>\n      <td>97.3 : 100</td>\n      <td>NaN</td>\n    </tr>\n    <tr>\n      <th>159</th>\n      <td>160.0</td>\n      <td>전라북도 장수군</td>\n      <td>호남권</td>\n      <td>기초단체</td>\n      <td>21395</td>\n      <td>10,544</td>\n      <td>10,851</td>\n      <td>97.2 : 100</td>\n      <td>NaN</td>\n    </tr>\n  </tbody>\n</table>\n<p>83 rows × 9 columns</p>\n</div>"
     },
     "metadata": {},
     "execution_count": 95
    }
   ],
   "source": [
    "pub[idx]"
   ]
  },
  {
   "cell_type": "code",
   "execution_count": 80,
   "metadata": {},
   "outputs": [
    {
     "output_type": "execute_result",
     "data": {
      "text/plain": "'9,741,3833,416,9182,925,9672,453,0411,525,8491,496,1721,193,8941,147,0371,044,579840,047654,963652,845542,713506,494489,202453,961419,761373,274351,168350,252347,489283,742273,649271,741266,809262,264257,847233,948218,798215,914212,274171,364169,358165,704144,010136,929132,962109,359109,263108,443103,894103,048100,92298,18997,67597,37389,15179,28278,61870,01667,16867,12367,02860,98460,08355,67254,94751,24950,08249,67048,50448,33244,77044,73343,44942,98639,94237,94236,93436,27536,14836,00234,03333,63732,25331,08230,52429,43227,01726,40926,29224,44121,395'"
     },
     "metadata": {},
     "execution_count": 80
    }
   ],
   "source": [
    "pub[idx]"
   ]
  },
  {
   "cell_type": "code",
   "execution_count": 65,
   "metadata": {},
   "outputs": [
    {
     "output_type": "execute_result",
     "data": {
      "text/plain": "162"
     },
     "metadata": {},
     "execution_count": 65
    }
   ],
   "source": [
    "len(results)"
   ]
  },
  {
   "cell_type": "code",
   "execution_count": 78,
   "metadata": {},
   "outputs": [],
   "source": [
    "idx = list(map(lambda i : True if i != None else False, results))"
   ]
  },
  {
   "cell_type": "code",
   "execution_count": 71,
   "metadata": {},
   "outputs": [
    {
     "output_type": "execute_result",
     "data": {
      "text/plain": "82"
     },
     "metadata": {},
     "execution_count": 71
    }
   ],
   "source": [
    "len(set(results))"
   ]
  },
  {
   "cell_type": "code",
   "execution_count": 88,
   "metadata": {},
   "outputs": [],
   "source": [
    "import nltk\n",
    "fdist = nltk.FreqDist(results)"
   ]
  },
  {
   "cell_type": "code",
   "execution_count": 89,
   "metadata": {},
   "outputs": [
    {
     "output_type": "execute_result",
     "data": {
      "text/plain": "FreqDist({None: 79, '광주': 2, '제주': 2, '서울': 1, '부산': 1, '인천': 1, '대구': 1, '대전': 1, '수원': 1, '울산': 1, ...})"
     },
     "metadata": {},
     "execution_count": 89
    }
   ],
   "source": [
    "fdist"
   ]
  },
  {
   "cell_type": "code",
   "execution_count": 1,
   "metadata": {},
   "outputs": [],
   "source": [
    "import pandas as pd\n",
    "# 추풍령까지\n",
    "results = pd.read_json('Colect_Data/weather.json')"
   ]
  },
  {
   "cell_type": "code",
   "execution_count": 4,
   "metadata": {},
   "outputs": [
    {
     "output_type": "execute_result",
     "data": {
      "text/plain": "                    time  loc  tem  hum  rain  snow\n0       2019-01-01 00:00   속초 -2.5   20   0.0   0.0\n1       2019-01-01 01:00   속초 -1.9   18   0.0   0.0\n2       2019-01-01 02:00   속초 -2.2   17   0.0   0.0\n3       2019-01-01 03:00   속초 -2.5   18   0.0   0.0\n4       2019-01-01 04:00   속초 -3.9   20   0.0   0.0\n...                  ...  ...  ...  ...   ...   ...\n201475  2019-12-31 19:00  추풍령 -5.6   42   0.0   0.0\n201476  2019-12-31 20:00  추풍령 -5.9   41   0.0   0.0\n201477  2019-12-31 21:00  추풍령 -6.5   44   0.0   0.0\n201478  2019-12-31 22:00  추풍령 -7.1   47   0.0   0.0\n201479  2019-12-31 23:00  추풍령 -7.6   48   0.0   0.0\n\n[201480 rows x 6 columns]",
      "text/html": "<div>\n<style scoped>\n    .dataframe tbody tr th:only-of-type {\n        vertical-align: middle;\n    }\n\n    .dataframe tbody tr th {\n        vertical-align: top;\n    }\n\n    .dataframe thead th {\n        text-align: right;\n    }\n</style>\n<table border=\"1\" class=\"dataframe\">\n  <thead>\n    <tr style=\"text-align: right;\">\n      <th></th>\n      <th>time</th>\n      <th>loc</th>\n      <th>tem</th>\n      <th>hum</th>\n      <th>rain</th>\n      <th>snow</th>\n    </tr>\n  </thead>\n  <tbody>\n    <tr>\n      <th>0</th>\n      <td>2019-01-01 00:00</td>\n      <td>속초</td>\n      <td>-2.5</td>\n      <td>20</td>\n      <td>0.0</td>\n      <td>0.0</td>\n    </tr>\n    <tr>\n      <th>1</th>\n      <td>2019-01-01 01:00</td>\n      <td>속초</td>\n      <td>-1.9</td>\n      <td>18</td>\n      <td>0.0</td>\n      <td>0.0</td>\n    </tr>\n    <tr>\n      <th>2</th>\n      <td>2019-01-01 02:00</td>\n      <td>속초</td>\n      <td>-2.2</td>\n      <td>17</td>\n      <td>0.0</td>\n      <td>0.0</td>\n    </tr>\n    <tr>\n      <th>3</th>\n      <td>2019-01-01 03:00</td>\n      <td>속초</td>\n      <td>-2.5</td>\n      <td>18</td>\n      <td>0.0</td>\n      <td>0.0</td>\n    </tr>\n    <tr>\n      <th>4</th>\n      <td>2019-01-01 04:00</td>\n      <td>속초</td>\n      <td>-3.9</td>\n      <td>20</td>\n      <td>0.0</td>\n      <td>0.0</td>\n    </tr>\n    <tr>\n      <th>...</th>\n      <td>...</td>\n      <td>...</td>\n      <td>...</td>\n      <td>...</td>\n      <td>...</td>\n      <td>...</td>\n    </tr>\n    <tr>\n      <th>201475</th>\n      <td>2019-12-31 19:00</td>\n      <td>추풍령</td>\n      <td>-5.6</td>\n      <td>42</td>\n      <td>0.0</td>\n      <td>0.0</td>\n    </tr>\n    <tr>\n      <th>201476</th>\n      <td>2019-12-31 20:00</td>\n      <td>추풍령</td>\n      <td>-5.9</td>\n      <td>41</td>\n      <td>0.0</td>\n      <td>0.0</td>\n    </tr>\n    <tr>\n      <th>201477</th>\n      <td>2019-12-31 21:00</td>\n      <td>추풍령</td>\n      <td>-6.5</td>\n      <td>44</td>\n      <td>0.0</td>\n      <td>0.0</td>\n    </tr>\n    <tr>\n      <th>201478</th>\n      <td>2019-12-31 22:00</td>\n      <td>추풍령</td>\n      <td>-7.1</td>\n      <td>47</td>\n      <td>0.0</td>\n      <td>0.0</td>\n    </tr>\n    <tr>\n      <th>201479</th>\n      <td>2019-12-31 23:00</td>\n      <td>추풍령</td>\n      <td>-7.6</td>\n      <td>48</td>\n      <td>0.0</td>\n      <td>0.0</td>\n    </tr>\n  </tbody>\n</table>\n<p>201480 rows × 6 columns</p>\n</div>"
     },
     "metadata": {},
     "execution_count": 4
    }
   ],
   "source": [
    "results "
   ]
  },
  {
   "cell_type": "code",
   "execution_count": 13,
   "metadata": {},
   "outputs": [
    {
     "output_type": "execute_result",
     "data": {
      "text/plain": "      0    1\n47  201   강화\n48  202   양평\n49  203   이천\n50  211   인제\n51  212   홍천\n52  216   태백\n53  217  정선군\n54  221   제천\n55  226   보은\n56  232   천안\n57  235   보령\n58  236   부여\n59  238   금산\n60  243   부안\n61  244   임실\n62  245   정읍\n63  247   남원\n64  248   장수\n65  251  고창군\n66  252  영광군\n67  253  김해시\n68  254  순창군\n69  255  북창원\n70  257  양산시\n71  258  보성군",
      "text/html": "<div>\n<style scoped>\n    .dataframe tbody tr th:only-of-type {\n        vertical-align: middle;\n    }\n\n    .dataframe tbody tr th {\n        vertical-align: top;\n    }\n\n    .dataframe thead th {\n        text-align: right;\n    }\n</style>\n<table border=\"1\" class=\"dataframe\">\n  <thead>\n    <tr style=\"text-align: right;\">\n      <th></th>\n      <th>0</th>\n      <th>1</th>\n    </tr>\n  </thead>\n  <tbody>\n    <tr>\n      <th>47</th>\n      <td>201</td>\n      <td>강화</td>\n    </tr>\n    <tr>\n      <th>48</th>\n      <td>202</td>\n      <td>양평</td>\n    </tr>\n    <tr>\n      <th>49</th>\n      <td>203</td>\n      <td>이천</td>\n    </tr>\n    <tr>\n      <th>50</th>\n      <td>211</td>\n      <td>인제</td>\n    </tr>\n    <tr>\n      <th>51</th>\n      <td>212</td>\n      <td>홍천</td>\n    </tr>\n    <tr>\n      <th>52</th>\n      <td>216</td>\n      <td>태백</td>\n    </tr>\n    <tr>\n      <th>53</th>\n      <td>217</td>\n      <td>정선군</td>\n    </tr>\n    <tr>\n      <th>54</th>\n      <td>221</td>\n      <td>제천</td>\n    </tr>\n    <tr>\n      <th>55</th>\n      <td>226</td>\n      <td>보은</td>\n    </tr>\n    <tr>\n      <th>56</th>\n      <td>232</td>\n      <td>천안</td>\n    </tr>\n    <tr>\n      <th>57</th>\n      <td>235</td>\n      <td>보령</td>\n    </tr>\n    <tr>\n      <th>58</th>\n      <td>236</td>\n      <td>부여</td>\n    </tr>\n    <tr>\n      <th>59</th>\n      <td>238</td>\n      <td>금산</td>\n    </tr>\n    <tr>\n      <th>60</th>\n      <td>243</td>\n      <td>부안</td>\n    </tr>\n    <tr>\n      <th>61</th>\n      <td>244</td>\n      <td>임실</td>\n    </tr>\n    <tr>\n      <th>62</th>\n      <td>245</td>\n      <td>정읍</td>\n    </tr>\n    <tr>\n      <th>63</th>\n      <td>247</td>\n      <td>남원</td>\n    </tr>\n    <tr>\n      <th>64</th>\n      <td>248</td>\n      <td>장수</td>\n    </tr>\n    <tr>\n      <th>65</th>\n      <td>251</td>\n      <td>고창군</td>\n    </tr>\n    <tr>\n      <th>66</th>\n      <td>252</td>\n      <td>영광군</td>\n    </tr>\n    <tr>\n      <th>67</th>\n      <td>253</td>\n      <td>김해시</td>\n    </tr>\n    <tr>\n      <th>68</th>\n      <td>254</td>\n      <td>순창군</td>\n    </tr>\n    <tr>\n      <th>69</th>\n      <td>255</td>\n      <td>북창원</td>\n    </tr>\n    <tr>\n      <th>70</th>\n      <td>257</td>\n      <td>양산시</td>\n    </tr>\n    <tr>\n      <th>71</th>\n      <td>258</td>\n      <td>보성군</td>\n    </tr>\n  </tbody>\n</table>\n</div>"
     },
     "metadata": {},
     "execution_count": 13
    }
   ],
   "source": [
    "loc[47:int(3*len(loc)/4)+1]"
   ]
  },
  {
   "cell_type": "code",
   "execution_count": 18,
   "metadata": {},
   "outputs": [],
   "source": [
    "import pandas as pd\n",
    "\n",
    "results = pd.read_json('Colect_Data/weather2.json')\n"
   ]
  },
  {
   "cell_type": "code",
   "execution_count": 17,
   "metadata": {},
   "outputs": [],
   "source": [
    "results[results['loc']!='부여'].to_json('Colect_Data/weather2.json')"
   ]
  },
  {
   "cell_type": "code",
   "execution_count": null,
   "metadata": {
    "tags": []
   },
   "outputs": [],
   "source": [
    "import matplotlib.pyplot as plt\n",
    "plt.scatter(results[results['loc']=='양평']['time'], results[results['loc']=='양평']['rain'])"
   ]
  },
  {
   "cell_type": "code",
   "execution_count": null,
   "metadata": {},
   "outputs": [],
   "source": [
    "# 부여부터 다시 시작\n",
    "\n",
    "# 60번 수집해야함 임실, 부안, 김해시"
   ]
  }
 ]
}