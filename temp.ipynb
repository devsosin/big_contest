{
 "metadata": {
  "language_info": {
   "codemirror_mode": {
    "name": "ipython",
    "version": 3
   },
   "file_extension": ".py",
   "mimetype": "text/x-python",
   "name": "python",
   "nbconvert_exporter": "python",
   "pygments_lexer": "ipython3",
   "version": 3
  },
  "orig_nbformat": 2,
  "kernelspec": {
   "name": "python_defaultSpec_1597233618962",
   "display_name": "Python 3.7.6 64-bit ('base': conda)"
  }
 },
 "nbformat": 4,
 "nbformat_minor": 2,
 "cells": [
  {
   "cell_type": "code",
   "execution_count": 1,
   "metadata": {},
   "outputs": [],
   "source": [
    "import pandas as pd"
   ]
  },
  {
   "cell_type": "code",
   "execution_count": 42,
   "metadata": {},
   "outputs": [],
   "source": [
    "perform_df=pd.read_json('datas/raw_data/raw_perform.json')"
   ]
  },
  {
   "cell_type": "code",
   "execution_count": 43,
   "metadata": {},
   "outputs": [],
   "source": [
    "perform_df = perform_df[perform_df['상품군']!='무형']"
   ]
  },
  {
   "cell_type": "code",
   "execution_count": 44,
   "metadata": {},
   "outputs": [],
   "source": [
    "perform_df['판매단가']=list(map(lambda i: int(i.replace(',','')), perform_df['판매단가']))\n",
    "perform_df[' 취급액 ']=list(map(lambda i: int(i.replace(',','')), perform_df[' 취급액 ']))\n"
   ]
  },
  {
   "cell_type": "code",
   "execution_count": 17,
   "metadata": {},
   "outputs": [
    {
     "output_type": "execute_result",
     "data": {
      "text/plain": "                방송일시  노출(분)    마더코드    상품코드                          상품명  \\\n144    1546466400000     20  100148  200432  무이자 LG 울트라HD TV 55UK6800HNC   \n147    1546466400000     20  100148  200518  일시불 LG 울트라HD TV 70UK7400KNA   \n148    1546466400000     20  100148  200451  무이자 LG 울트라HD TV 70UK7400KNA   \n153    1546467600000     20  100148  200518  일시불 LG 울트라HD TV 70UK7400KNA   \n154    1546467600000     20  100148  200451  무이자 LG 울트라HD TV 70UK7400KNA   \n...              ...    ...     ...     ...                          ...   \n37709  1577269200000     30  100036  200070      구찌 인터로킹 GG 탑핸들 체인 숄더 스몰   \n37967  1577528400000     30  100036  200070      구찌 인터로킹 GG 탑핸들 체인 숄더 스몰   \n37969  1577528400000     30  100039  200073            버버리 홀스페리 페이톤 크로스백   \n38025  1577568000000     20  100372  201169           (싱글+싱글)일월 품안애 온수매트   \n38123  1577661600000     20  100182  200612      무이자 선일금고 이볼브 시리즈 EV-020   \n\n        상품군     판매단가   취급액   \n144      가전  1440000  50000  \n147      가전  2700000  50000  \n148      가전  2990000  50000  \n153      가전  2700000  50000  \n154      가전  2990000  50000  \n...     ...      ...    ...  \n37709    잡화  2590000  50000  \n37967    잡화  2590000  50000  \n37969    잡화   880000  50000  \n38025  생활용품   198000  50000  \n38123  생활용품   440000  50000  \n\n[1993 rows x 8 columns]",
      "text/html": "<div>\n<style scoped>\n    .dataframe tbody tr th:only-of-type {\n        vertical-align: middle;\n    }\n\n    .dataframe tbody tr th {\n        vertical-align: top;\n    }\n\n    .dataframe thead th {\n        text-align: right;\n    }\n</style>\n<table border=\"1\" class=\"dataframe\">\n  <thead>\n    <tr style=\"text-align: right;\">\n      <th></th>\n      <th>방송일시</th>\n      <th>노출(분)</th>\n      <th>마더코드</th>\n      <th>상품코드</th>\n      <th>상품명</th>\n      <th>상품군</th>\n      <th>판매단가</th>\n      <th>취급액</th>\n    </tr>\n  </thead>\n  <tbody>\n    <tr>\n      <th>144</th>\n      <td>1546466400000</td>\n      <td>20</td>\n      <td>100148</td>\n      <td>200432</td>\n      <td>무이자 LG 울트라HD TV 55UK6800HNC</td>\n      <td>가전</td>\n      <td>1440000</td>\n      <td>50000</td>\n    </tr>\n    <tr>\n      <th>147</th>\n      <td>1546466400000</td>\n      <td>20</td>\n      <td>100148</td>\n      <td>200518</td>\n      <td>일시불 LG 울트라HD TV 70UK7400KNA</td>\n      <td>가전</td>\n      <td>2700000</td>\n      <td>50000</td>\n    </tr>\n    <tr>\n      <th>148</th>\n      <td>1546466400000</td>\n      <td>20</td>\n      <td>100148</td>\n      <td>200451</td>\n      <td>무이자 LG 울트라HD TV 70UK7400KNA</td>\n      <td>가전</td>\n      <td>2990000</td>\n      <td>50000</td>\n    </tr>\n    <tr>\n      <th>153</th>\n      <td>1546467600000</td>\n      <td>20</td>\n      <td>100148</td>\n      <td>200518</td>\n      <td>일시불 LG 울트라HD TV 70UK7400KNA</td>\n      <td>가전</td>\n      <td>2700000</td>\n      <td>50000</td>\n    </tr>\n    <tr>\n      <th>154</th>\n      <td>1546467600000</td>\n      <td>20</td>\n      <td>100148</td>\n      <td>200451</td>\n      <td>무이자 LG 울트라HD TV 70UK7400KNA</td>\n      <td>가전</td>\n      <td>2990000</td>\n      <td>50000</td>\n    </tr>\n    <tr>\n      <th>...</th>\n      <td>...</td>\n      <td>...</td>\n      <td>...</td>\n      <td>...</td>\n      <td>...</td>\n      <td>...</td>\n      <td>...</td>\n      <td>...</td>\n    </tr>\n    <tr>\n      <th>37709</th>\n      <td>1577269200000</td>\n      <td>30</td>\n      <td>100036</td>\n      <td>200070</td>\n      <td>구찌 인터로킹 GG 탑핸들 체인 숄더 스몰</td>\n      <td>잡화</td>\n      <td>2590000</td>\n      <td>50000</td>\n    </tr>\n    <tr>\n      <th>37967</th>\n      <td>1577528400000</td>\n      <td>30</td>\n      <td>100036</td>\n      <td>200070</td>\n      <td>구찌 인터로킹 GG 탑핸들 체인 숄더 스몰</td>\n      <td>잡화</td>\n      <td>2590000</td>\n      <td>50000</td>\n    </tr>\n    <tr>\n      <th>37969</th>\n      <td>1577528400000</td>\n      <td>30</td>\n      <td>100039</td>\n      <td>200073</td>\n      <td>버버리 홀스페리 페이톤 크로스백</td>\n      <td>잡화</td>\n      <td>880000</td>\n      <td>50000</td>\n    </tr>\n    <tr>\n      <th>38025</th>\n      <td>1577568000000</td>\n      <td>20</td>\n      <td>100372</td>\n      <td>201169</td>\n      <td>(싱글+싱글)일월 품안애 온수매트</td>\n      <td>생활용품</td>\n      <td>198000</td>\n      <td>50000</td>\n    </tr>\n    <tr>\n      <th>38123</th>\n      <td>1577661600000</td>\n      <td>20</td>\n      <td>100182</td>\n      <td>200612</td>\n      <td>무이자 선일금고 이볼브 시리즈 EV-020</td>\n      <td>생활용품</td>\n      <td>440000</td>\n      <td>50000</td>\n    </tr>\n  </tbody>\n</table>\n<p>1993 rows × 8 columns</p>\n</div>"
     },
     "metadata": {},
     "execution_count": 17
    }
   ],
   "source": [
    "perform_df[perform_df[' 취급액 '] ==50000]"
   ]
  },
  {
   "cell_type": "code",
   "execution_count": 13,
   "metadata": {},
   "outputs": [],
   "source": [
    "perform_df[perform_df['판매단가']>=perform_df[' 취급액 ']][' 취급액 '] = 0"
   ]
  },
  {
   "cell_type": "code",
   "execution_count": 20,
   "metadata": {},
   "outputs": [
    {
     "output_type": "execute_result",
     "data": {
      "text/plain": "                방송일시  노출(분)    마더코드    상품코드             상품명   상품군   판매단가  \\\n30731  1571269200000     20  100395  201272  1세트 센티멘탈 디퓨저골드  생활용품  31000   \n33231  1573436400000     17  100395  201272  1세트 센티멘탈 디퓨저골드  생활용품  31000   \n35895  1575768000000     20  100197  200665  오델로 남성 겨울모자 3종    잡화  29800   \n\n        취급액   \n30731  50000  \n33231  50000  \n35895  50000  ",
      "text/html": "<div>\n<style scoped>\n    .dataframe tbody tr th:only-of-type {\n        vertical-align: middle;\n    }\n\n    .dataframe tbody tr th {\n        vertical-align: top;\n    }\n\n    .dataframe thead th {\n        text-align: right;\n    }\n</style>\n<table border=\"1\" class=\"dataframe\">\n  <thead>\n    <tr style=\"text-align: right;\">\n      <th></th>\n      <th>방송일시</th>\n      <th>노출(분)</th>\n      <th>마더코드</th>\n      <th>상품코드</th>\n      <th>상품명</th>\n      <th>상품군</th>\n      <th>판매단가</th>\n      <th>취급액</th>\n    </tr>\n  </thead>\n  <tbody>\n    <tr>\n      <th>30731</th>\n      <td>1571269200000</td>\n      <td>20</td>\n      <td>100395</td>\n      <td>201272</td>\n      <td>1세트 센티멘탈 디퓨저골드</td>\n      <td>생활용품</td>\n      <td>31000</td>\n      <td>50000</td>\n    </tr>\n    <tr>\n      <th>33231</th>\n      <td>1573436400000</td>\n      <td>17</td>\n      <td>100395</td>\n      <td>201272</td>\n      <td>1세트 센티멘탈 디퓨저골드</td>\n      <td>생활용품</td>\n      <td>31000</td>\n      <td>50000</td>\n    </tr>\n    <tr>\n      <th>35895</th>\n      <td>1575768000000</td>\n      <td>20</td>\n      <td>100197</td>\n      <td>200665</td>\n      <td>오델로 남성 겨울모자 3종</td>\n      <td>잡화</td>\n      <td>29800</td>\n      <td>50000</td>\n    </tr>\n  </tbody>\n</table>\n</div>"
     },
     "metadata": {},
     "execution_count": 20
    }
   ],
   "source": [
    "perform_df[(perform_df['판매단가']<=perform_df[' 취급액 ']) & (perform_df[' 취급액 '] == 50000)]"
   ]
  },
  {
   "cell_type": "code",
   "execution_count": 24,
   "metadata": {},
   "outputs": [],
   "source": [
    "import numpy as np\n",
    "a = np.zeros(len(perform_df[perform_df[' 취급액 '] == 50000]))"
   ]
  },
  {
   "cell_type": "code",
   "execution_count": 30,
   "metadata": {},
   "outputs": [],
   "source": [
    "b = perform_df[perform_df[' 취급액 '] == 50000].index"
   ]
  },
  {
   "cell_type": "code",
   "execution_count": 33,
   "metadata": {},
   "outputs": [],
   "source": [
    "t = pd.DataFrame(list(zip(b,a))).set_index(0)"
   ]
  },
  {
   "cell_type": "code",
   "execution_count": 35,
   "metadata": {},
   "outputs": [],
   "source": [
    "t.columns = [' 취급액 ']"
   ]
  },
  {
   "cell_type": "code",
   "execution_count": 49,
   "metadata": {},
   "outputs": [],
   "source": [
    "perform_df.loc[b][' 취급액 '] = 0"
   ]
  },
  {
   "cell_type": "code",
   "execution_count": 51,
   "metadata": {},
   "outputs": [
    {
     "output_type": "execute_result",
     "data": {
      "text/plain": "                방송일시  노출(분)    마더코드    상품코드                          상품명  \\\n144    1546466400000     20  100148  200432  무이자 LG 울트라HD TV 55UK6800HNC   \n147    1546466400000     20  100148  200518  일시불 LG 울트라HD TV 70UK7400KNA   \n148    1546466400000     20  100148  200451  무이자 LG 울트라HD TV 70UK7400KNA   \n153    1546467600000     20  100148  200518  일시불 LG 울트라HD TV 70UK7400KNA   \n154    1546467600000     20  100148  200451  무이자 LG 울트라HD TV 70UK7400KNA   \n...              ...    ...     ...     ...                          ...   \n37709  1577269200000     30  100036  200070      구찌 인터로킹 GG 탑핸들 체인 숄더 스몰   \n37967  1577528400000     30  100036  200070      구찌 인터로킹 GG 탑핸들 체인 숄더 스몰   \n37969  1577528400000     30  100039  200073            버버리 홀스페리 페이톤 크로스백   \n38025  1577568000000     20  100372  201169           (싱글+싱글)일월 품안애 온수매트   \n38123  1577661600000     20  100182  200612      무이자 선일금고 이볼브 시리즈 EV-020   \n\n        상품군     판매단가   취급액   \n144      가전  1440000  50000  \n147      가전  2700000  50000  \n148      가전  2990000  50000  \n153      가전  2700000  50000  \n154      가전  2990000  50000  \n...     ...      ...    ...  \n37709    잡화  2590000  50000  \n37967    잡화  2590000  50000  \n37969    잡화   880000  50000  \n38025  생활용품   198000  50000  \n38123  생활용품   440000  50000  \n\n[1993 rows x 8 columns]",
      "text/html": "<div>\n<style scoped>\n    .dataframe tbody tr th:only-of-type {\n        vertical-align: middle;\n    }\n\n    .dataframe tbody tr th {\n        vertical-align: top;\n    }\n\n    .dataframe thead th {\n        text-align: right;\n    }\n</style>\n<table border=\"1\" class=\"dataframe\">\n  <thead>\n    <tr style=\"text-align: right;\">\n      <th></th>\n      <th>방송일시</th>\n      <th>노출(분)</th>\n      <th>마더코드</th>\n      <th>상품코드</th>\n      <th>상품명</th>\n      <th>상품군</th>\n      <th>판매단가</th>\n      <th>취급액</th>\n    </tr>\n  </thead>\n  <tbody>\n    <tr>\n      <th>144</th>\n      <td>1546466400000</td>\n      <td>20</td>\n      <td>100148</td>\n      <td>200432</td>\n      <td>무이자 LG 울트라HD TV 55UK6800HNC</td>\n      <td>가전</td>\n      <td>1440000</td>\n      <td>50000</td>\n    </tr>\n    <tr>\n      <th>147</th>\n      <td>1546466400000</td>\n      <td>20</td>\n      <td>100148</td>\n      <td>200518</td>\n      <td>일시불 LG 울트라HD TV 70UK7400KNA</td>\n      <td>가전</td>\n      <td>2700000</td>\n      <td>50000</td>\n    </tr>\n    <tr>\n      <th>148</th>\n      <td>1546466400000</td>\n      <td>20</td>\n      <td>100148</td>\n      <td>200451</td>\n      <td>무이자 LG 울트라HD TV 70UK7400KNA</td>\n      <td>가전</td>\n      <td>2990000</td>\n      <td>50000</td>\n    </tr>\n    <tr>\n      <th>153</th>\n      <td>1546467600000</td>\n      <td>20</td>\n      <td>100148</td>\n      <td>200518</td>\n      <td>일시불 LG 울트라HD TV 70UK7400KNA</td>\n      <td>가전</td>\n      <td>2700000</td>\n      <td>50000</td>\n    </tr>\n    <tr>\n      <th>154</th>\n      <td>1546467600000</td>\n      <td>20</td>\n      <td>100148</td>\n      <td>200451</td>\n      <td>무이자 LG 울트라HD TV 70UK7400KNA</td>\n      <td>가전</td>\n      <td>2990000</td>\n      <td>50000</td>\n    </tr>\n    <tr>\n      <th>...</th>\n      <td>...</td>\n      <td>...</td>\n      <td>...</td>\n      <td>...</td>\n      <td>...</td>\n      <td>...</td>\n      <td>...</td>\n      <td>...</td>\n    </tr>\n    <tr>\n      <th>37709</th>\n      <td>1577269200000</td>\n      <td>30</td>\n      <td>100036</td>\n      <td>200070</td>\n      <td>구찌 인터로킹 GG 탑핸들 체인 숄더 스몰</td>\n      <td>잡화</td>\n      <td>2590000</td>\n      <td>50000</td>\n    </tr>\n    <tr>\n      <th>37967</th>\n      <td>1577528400000</td>\n      <td>30</td>\n      <td>100036</td>\n      <td>200070</td>\n      <td>구찌 인터로킹 GG 탑핸들 체인 숄더 스몰</td>\n      <td>잡화</td>\n      <td>2590000</td>\n      <td>50000</td>\n    </tr>\n    <tr>\n      <th>37969</th>\n      <td>1577528400000</td>\n      <td>30</td>\n      <td>100039</td>\n      <td>200073</td>\n      <td>버버리 홀스페리 페이톤 크로스백</td>\n      <td>잡화</td>\n      <td>880000</td>\n      <td>50000</td>\n    </tr>\n    <tr>\n      <th>38025</th>\n      <td>1577568000000</td>\n      <td>20</td>\n      <td>100372</td>\n      <td>201169</td>\n      <td>(싱글+싱글)일월 품안애 온수매트</td>\n      <td>생활용품</td>\n      <td>198000</td>\n      <td>50000</td>\n    </tr>\n    <tr>\n      <th>38123</th>\n      <td>1577661600000</td>\n      <td>20</td>\n      <td>100182</td>\n      <td>200612</td>\n      <td>무이자 선일금고 이볼브 시리즈 EV-020</td>\n      <td>생활용품</td>\n      <td>440000</td>\n      <td>50000</td>\n    </tr>\n  </tbody>\n</table>\n<p>1993 rows × 8 columns</p>\n</div>"
     },
     "metadata": {},
     "execution_count": 51
    }
   ],
   "source": [
    "perform_df[perform_df[' 취급액 '] == 50000]"
   ]
  },
  {
   "cell_type": "code",
   "execution_count": null,
   "metadata": {},
   "outputs": [],
   "source": []
  }
 ]
}