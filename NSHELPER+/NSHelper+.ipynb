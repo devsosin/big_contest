{
 "metadata": {
  "language_info": {
   "codemirror_mode": {
    "name": "ipython",
    "version": 3
   },
   "file_extension": ".py",
   "mimetype": "text/x-python",
   "name": "python",
   "nbconvert_exporter": "python",
   "pygments_lexer": "ipython3",
   "version": "3.7.6-final"
  },
  "orig_nbformat": 2,
  "kernelspec": {
   "name": "Python 3.7.6 64-bit ('base': conda)",
   "display_name": "Python 3.7.6 64-bit ('base': conda)",
   "metadata": {
    "interpreter": {
     "hash": "4582d230e25b8217e666f0f9ff9e4572247d830a78f80b8cc5849d556084ed3c"
    }
   }
  }
 },
 "nbformat": 4,
 "nbformat_minor": 2,
 "cells": [
  {
   "source": [
    "# NS Helper+"
   ],
   "cell_type": "markdown",
   "metadata": {}
  },
  {
   "source": [
    "## ※ 실적, 예측 데이터 구간에서 작동합니다."
   ],
   "cell_type": "markdown",
   "metadata": {}
  },
  {
   "cell_type": "code",
   "execution_count": 1,
   "metadata": {},
   "outputs": [],
   "source": [
    "import NSHelper"
   ]
  },
  {
   "cell_type": "code",
   "execution_count": 2,
   "metadata": {},
   "outputs": [],
   "source": [
    "## 상품정보\n",
    "present = {'상품명' : '쿠진나이프케어 살균건조기(시즌2)',\n",
    "            '방송일시' : '2020-06-13 14:20',\n",
    "            '노출(분)' : 30,\n",
    "            '판매단가' : 169000,\n",
    "            '상품군' : '주방'}"
   ]
  },
  {
   "cell_type": "code",
   "execution_count": 3,
   "metadata": {
    "tags": []
   },
   "outputs": [
    {
     "output_type": "stream",
     "name": "stdout",
     "text": "(1, 67)\n"
    },
    {
     "output_type": "execute_result",
     "data": {
      "text/plain": "'예상 매출액 : 42421528원'"
     },
     "metadata": {},
     "execution_count": 3
    }
   ],
   "source": [
    "NSHelper.forecasting(present)"
   ]
  },
  {
   "cell_type": "code",
   "execution_count": null,
   "metadata": {},
   "outputs": [],
   "source": []
  }
 ]
}