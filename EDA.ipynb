{
 "metadata": {
  "language_info": {
   "codemirror_mode": {
    "name": "ipython",
    "version": 3
   },
   "file_extension": ".py",
   "mimetype": "text/x-python",
   "name": "python",
   "nbconvert_exporter": "python",
   "pygments_lexer": "ipython3",
   "version": 3
  },
  "orig_nbformat": 2,
  "kernelspec": {
   "name": "python_defaultSpec_1597225798718",
   "display_name": "Python 3.7.6 64-bit ('base': conda)"
  }
 },
 "nbformat": 4,
 "nbformat_minor": 2,
 "cells": [
  {
   "cell_type": "markdown",
   "metadata": {},
   "source": [
    "# 데이터 탐색"
   ]
  },
  {
   "cell_type": "markdown",
   "metadata": {},
   "source": [
    "## 데이터 확인"
   ]
  },
  {
   "cell_type": "code",
   "execution_count": 1,
   "metadata": {},
   "outputs": [],
   "source": [
    "import pandas as pd"
   ]
  },
  {
   "cell_type": "code",
   "execution_count": 3,
   "metadata": {},
   "outputs": [],
   "source": [
    "perform_df = pd.read_csv('datas/raw_data/per_raw.csv')"
   ]
  },
  {
   "cell_type": "code",
   "execution_count": 17,
   "metadata": {},
   "outputs": [],
   "source": [
    "rating_df = pd.read_csv('datas/raw_data/rat_raw.csv')"
   ]
  },
  {
   "cell_type": "code",
   "execution_count": 7,
   "metadata": {},
   "outputs": [
    {
     "output_type": "execute_result",
     "data": {
      "text/plain": "              노출(분)           마더코드           상품코드\ncount  21525.000000   38309.000000   38309.000000\nmean      20.173798  100390.972148  201219.923334\nstd        3.633283     249.927870     735.677344\nmin        2.000000  100000.000000  200000.000000\n25%       20.000000  100155.000000  200550.000000\n50%       20.000000  100346.000000  201167.000000\n75%       20.000000  100596.000000  201863.000000\nmax       60.000000  100849.000000  202513.000000",
      "text/html": "<div>\n<style scoped>\n    .dataframe tbody tr th:only-of-type {\n        vertical-align: middle;\n    }\n\n    .dataframe tbody tr th {\n        vertical-align: top;\n    }\n\n    .dataframe thead th {\n        text-align: right;\n    }\n</style>\n<table border=\"1\" class=\"dataframe\">\n  <thead>\n    <tr style=\"text-align: right;\">\n      <th></th>\n      <th>노출(분)</th>\n      <th>마더코드</th>\n      <th>상품코드</th>\n    </tr>\n  </thead>\n  <tbody>\n    <tr>\n      <th>count</th>\n      <td>21525.000000</td>\n      <td>38309.000000</td>\n      <td>38309.000000</td>\n    </tr>\n    <tr>\n      <th>mean</th>\n      <td>20.173798</td>\n      <td>100390.972148</td>\n      <td>201219.923334</td>\n    </tr>\n    <tr>\n      <th>std</th>\n      <td>3.633283</td>\n      <td>249.927870</td>\n      <td>735.677344</td>\n    </tr>\n    <tr>\n      <th>min</th>\n      <td>2.000000</td>\n      <td>100000.000000</td>\n      <td>200000.000000</td>\n    </tr>\n    <tr>\n      <th>25%</th>\n      <td>20.000000</td>\n      <td>100155.000000</td>\n      <td>200550.000000</td>\n    </tr>\n    <tr>\n      <th>50%</th>\n      <td>20.000000</td>\n      <td>100346.000000</td>\n      <td>201167.000000</td>\n    </tr>\n    <tr>\n      <th>75%</th>\n      <td>20.000000</td>\n      <td>100596.000000</td>\n      <td>201863.000000</td>\n    </tr>\n    <tr>\n      <th>max</th>\n      <td>60.000000</td>\n      <td>100849.000000</td>\n      <td>202513.000000</td>\n    </tr>\n  </tbody>\n</table>\n</div>"
     },
     "metadata": {},
     "execution_count": 7
    }
   ],
   "source": [
    "perform_df.describe()"
   ]
  },
  {
   "cell_type": "code",
   "execution_count": 20,
   "metadata": {},
   "outputs": [
    {
     "output_type": "execute_result",
     "data": {
      "text/plain": "2019-01-01                  0.003683\n2019-01-02                  0.005568\n2019-01-03                  0.001732\n2019-01-04                  0.002659\n2019-01-05                  0.002081\n                              ...   \n2019-12-28                  0.006122\n2019-12-29                  0.004480\n2019-12-30                  0.004579\n2019-12-31                  0.004914\n2019-01-01 to 2019-12-31    0.004297\nLength: 366, dtype: float64"
     },
     "metadata": {},
     "execution_count": 20
    }
   ],
   "source": [
    "rating_df.iloc[:1439].mean()"
   ]
  },
  {
   "cell_type": "code",
   "execution_count": 21,
   "metadata": {},
   "outputs": [
    {
     "output_type": "execute_result",
     "data": {
      "text/plain": "시간대                         월화수목금토일02:00-01:59\n2019-01-01                               0.004\n2019-01-02                               0.006\n2019-01-03                               0.002\n2019-01-04                               0.003\n                                   ...        \n2019-12-28                               0.006\n2019-12-29                               0.004\n2019-12-30                               0.005\n2019-12-31                               0.005\n2019-01-01 to 2019-12-31                 0.004\nName: 1440, Length: 367, dtype: object"
     },
     "metadata": {},
     "execution_count": 21
    }
   ],
   "source": [
    "rating_df.iloc[1440]"
   ]
  },
  {
   "cell_type": "code",
   "execution_count": 23,
   "metadata": {},
   "outputs": [],
   "source": [
    "rating_df.drop(1440, axis=0, inplace=True)"
   ]
  },
  {
   "cell_type": "code",
   "execution_count": 34,
   "metadata": {},
   "outputs": [],
   "source": [
    "rating_df.to_json('raw_rating.json')"
   ]
  },
  {
   "cell_type": "code",
   "execution_count": 36,
   "metadata": {},
   "outputs": [
    {
     "output_type": "execute_result",
     "data": {
      "text/plain": "방송일시         0\n노출(분)    16784\n마더코드         0\n상품코드         0\n상품명          0\n상품군          0\n판매단가         0\n 취급액       937\ndtype: int64"
     },
     "metadata": {},
     "execution_count": 36
    }
   ],
   "source": [
    "\n",
    "perform_df.isnull().sum()"
   ]
  },
  {
   "cell_type": "markdown",
   "metadata": {},
   "source": [
    "## 데이터 최초 전처리\n",
    "1. 방송일시 datetime 형식으로 변환\n",
    "2. 빈 값 처리 (노출(분))"
   ]
  },
  {
   "cell_type": "code",
   "execution_count": 68,
   "metadata": {},
   "outputs": [],
   "source": [
    "from datetime import datetime\n",
    "perform_df['방송일시'] = list(map(lambda i : datetime.strptime(str(i), '%Y-%m-%d %H:%M'), perform_df['방송일시']))"
   ]
  },
  {
   "cell_type": "code",
   "execution_count": 72,
   "metadata": {},
   "outputs": [],
   "source": [
    "perform_df['노출(분)'] = perform_df['노출(분)'].fillna(method='pad')"
   ]
  },
  {
   "cell_type": "code",
   "execution_count": 81,
   "metadata": {},
   "outputs": [
    {
     "output_type": "execute_result",
     "data": {
      "text/plain": "12"
     },
     "metadata": {},
     "execution_count": 81
    }
   ],
   "source": [
    "len(perform_df['상품군'].unique())"
   ]
  },
  {
   "cell_type": "code",
   "execution_count": 75,
   "metadata": {},
   "outputs": [
    {
     "output_type": "execute_result",
     "data": {
      "text/plain": "방송일시       0\n노출(분)      0\n마더코드       0\n상품코드       0\n상품명        0\n상품군        0\n판매단가       0\n 취급액     937\ndtype: int64"
     },
     "metadata": {},
     "execution_count": 75
    }
   ],
   "source": [
    "perform_df[perform_df['상품군'] =='무형'].isnull().sum()"
   ]
  },
  {
   "cell_type": "code",
   "execution_count": 83,
   "metadata": {},
   "outputs": [],
   "source": [
    "perform_df.to_json('datas/raw_data/raw_perform.json')"
   ]
  },
  {
   "cell_type": "code",
   "execution_count": 86,
   "metadata": {},
   "outputs": [
    {
     "output_type": "execute_result",
     "data": {
      "text/plain": "방송일시       0\n노출(분)      0\n마더코드       0\n상품코드       0\n상품명        0\n상품군        0\n판매단가       0\n 취급액     937\ndtype: int64"
     },
     "metadata": {},
     "execution_count": 86
    }
   ],
   "source": [
    "perform_df.isnull().sum()"
   ]
  },
  {
   "cell_type": "code",
   "execution_count": 87,
   "metadata": {},
   "outputs": [
    {
     "output_type": "execute_result",
     "data": {
      "text/plain": "                     방송일시  노출(분)    마더코드    상품코드                       상품명  \\\n0     2019-01-01 06:00:00   20.0  100346  201072             테이트 남성 셀린니트3종   \n1     2019-01-01 06:00:00   20.0  100346  201079             테이트 여성 셀린니트3종   \n2     2019-01-01 06:20:00   20.0  100346  201072             테이트 남성 셀린니트3종   \n3     2019-01-01 06:20:00   20.0  100346  201079             테이트 여성 셀린니트3종   \n4     2019-01-01 06:40:00   20.0  100346  201072             테이트 남성 셀린니트3종   \n...                   ...    ...     ...     ...                       ...   \n38304 2020-01-01 00:20:00   20.0  100073  200196  삼성화재 행복한파트너 주택화재보험(1912)   \n38305 2020-01-01 00:40:00   20.0  100073  200196  삼성화재 행복한파트너 주택화재보험(1912)   \n38306 2020-01-01 01:00:00   20.0  100073  200196  삼성화재 행복한파트너 주택화재보험(1912)   \n38307 2020-01-01 01:20:00   20.0  100490  201478        더케이 예다함 상조서비스(티포트)   \n38308 2020-01-01 01:40:00   17.0  100490  201478        더케이 예다함 상조서비스(티포트)   \n\n      상품군      판매단가         취급액   \n0      의류   39,900    2,099,000   \n1      의류   39,900    4,371,000   \n2      의류   39,900    3,262,000   \n3      의류   39,900    6,955,000   \n4      의류   39,900    6,672,000   \n...    ..       ...          ...  \n38304  무형        -           NaN  \n38305  무형        -           NaN  \n38306  무형        -           NaN  \n38307  무형        -           NaN  \n38308  무형        -           NaN  \n\n[38309 rows x 8 columns]",
      "text/html": "<div>\n<style scoped>\n    .dataframe tbody tr th:only-of-type {\n        vertical-align: middle;\n    }\n\n    .dataframe tbody tr th {\n        vertical-align: top;\n    }\n\n    .dataframe thead th {\n        text-align: right;\n    }\n</style>\n<table border=\"1\" class=\"dataframe\">\n  <thead>\n    <tr style=\"text-align: right;\">\n      <th></th>\n      <th>방송일시</th>\n      <th>노출(분)</th>\n      <th>마더코드</th>\n      <th>상품코드</th>\n      <th>상품명</th>\n      <th>상품군</th>\n      <th>판매단가</th>\n      <th>취급액</th>\n    </tr>\n  </thead>\n  <tbody>\n    <tr>\n      <th>0</th>\n      <td>2019-01-01 06:00:00</td>\n      <td>20.0</td>\n      <td>100346</td>\n      <td>201072</td>\n      <td>테이트 남성 셀린니트3종</td>\n      <td>의류</td>\n      <td>39,900</td>\n      <td>2,099,000</td>\n    </tr>\n    <tr>\n      <th>1</th>\n      <td>2019-01-01 06:00:00</td>\n      <td>20.0</td>\n      <td>100346</td>\n      <td>201079</td>\n      <td>테이트 여성 셀린니트3종</td>\n      <td>의류</td>\n      <td>39,900</td>\n      <td>4,371,000</td>\n    </tr>\n    <tr>\n      <th>2</th>\n      <td>2019-01-01 06:20:00</td>\n      <td>20.0</td>\n      <td>100346</td>\n      <td>201072</td>\n      <td>테이트 남성 셀린니트3종</td>\n      <td>의류</td>\n      <td>39,900</td>\n      <td>3,262,000</td>\n    </tr>\n    <tr>\n      <th>3</th>\n      <td>2019-01-01 06:20:00</td>\n      <td>20.0</td>\n      <td>100346</td>\n      <td>201079</td>\n      <td>테이트 여성 셀린니트3종</td>\n      <td>의류</td>\n      <td>39,900</td>\n      <td>6,955,000</td>\n    </tr>\n    <tr>\n      <th>4</th>\n      <td>2019-01-01 06:40:00</td>\n      <td>20.0</td>\n      <td>100346</td>\n      <td>201072</td>\n      <td>테이트 남성 셀린니트3종</td>\n      <td>의류</td>\n      <td>39,900</td>\n      <td>6,672,000</td>\n    </tr>\n    <tr>\n      <th>...</th>\n      <td>...</td>\n      <td>...</td>\n      <td>...</td>\n      <td>...</td>\n      <td>...</td>\n      <td>...</td>\n      <td>...</td>\n      <td>...</td>\n    </tr>\n    <tr>\n      <th>38304</th>\n      <td>2020-01-01 00:20:00</td>\n      <td>20.0</td>\n      <td>100073</td>\n      <td>200196</td>\n      <td>삼성화재 행복한파트너 주택화재보험(1912)</td>\n      <td>무형</td>\n      <td>-</td>\n      <td>NaN</td>\n    </tr>\n    <tr>\n      <th>38305</th>\n      <td>2020-01-01 00:40:00</td>\n      <td>20.0</td>\n      <td>100073</td>\n      <td>200196</td>\n      <td>삼성화재 행복한파트너 주택화재보험(1912)</td>\n      <td>무형</td>\n      <td>-</td>\n      <td>NaN</td>\n    </tr>\n    <tr>\n      <th>38306</th>\n      <td>2020-01-01 01:00:00</td>\n      <td>20.0</td>\n      <td>100073</td>\n      <td>200196</td>\n      <td>삼성화재 행복한파트너 주택화재보험(1912)</td>\n      <td>무형</td>\n      <td>-</td>\n      <td>NaN</td>\n    </tr>\n    <tr>\n      <th>38307</th>\n      <td>2020-01-01 01:20:00</td>\n      <td>20.0</td>\n      <td>100490</td>\n      <td>201478</td>\n      <td>더케이 예다함 상조서비스(티포트)</td>\n      <td>무형</td>\n      <td>-</td>\n      <td>NaN</td>\n    </tr>\n    <tr>\n      <th>38308</th>\n      <td>2020-01-01 01:40:00</td>\n      <td>17.0</td>\n      <td>100490</td>\n      <td>201478</td>\n      <td>더케이 예다함 상조서비스(티포트)</td>\n      <td>무형</td>\n      <td>-</td>\n      <td>NaN</td>\n    </tr>\n  </tbody>\n</table>\n<p>38309 rows × 8 columns</p>\n</div>"
     },
     "metadata": {},
     "execution_count": 87
    }
   ],
   "source": [
    "perform_df"
   ]
  },
  {
   "cell_type": "code",
   "execution_count": 89,
   "metadata": {},
   "outputs": [],
   "source": [
    "test_data = pd.read_csv('datas/test_data/forecast.csv')"
   ]
  },
  {
   "cell_type": "code",
   "execution_count": 101,
   "metadata": {},
   "outputs": [
    {
     "output_type": "execute_result",
     "data": {
      "text/plain": "                  방송일시  노출(분)    마더코드    상품코드  \\\n22    2020-06-01 13:20    NaN  100570  201671   \n24    2020-06-01 13:40    NaN  100570  201671   \n26    2020-06-01 14:00    NaN  100570  201671   \n35    2020-06-01 17:20    NaN  100383  201250   \n37    2020-06-01 17:40    NaN  100383  201250   \n...                ...    ...     ...     ...   \n2879  2020-06-30 23:50    NaN  100099  200274   \n2881   2020-07-01 0:00    NaN  100099  200272   \n2882   2020-07-01 0:00    NaN  100099  200274   \n2884   2020-07-01 0:10    NaN  100099  200272   \n2885   2020-07-01 0:10    NaN  100099  200274   \n\n                                          상품명  상품군       판매단가  취급액  \n22                         (특)KT휴대폰_삼성갤럭시 A31   무형         -   NaN  \n24                         (특)KT휴대폰_삼성갤럭시 A31   무형         -   NaN  \n26                         (특)KT휴대폰_삼성갤럭시 A31   무형         -   NaN  \n35    한라궁 황칠 제주오메기떡 2종 40개 (호박오메기20봉+팥오메기20봉)  농수축    29,900   NaN  \n37    한라궁 황칠 제주오메기떡 2종 40개 (호박오메기20봉+팥오메기20봉)  농수축    29,900   NaN  \n...                                       ...  ...        ...  ...  \n2879                       라쉬반 FC바로셀로나 드로즈 8종   속옷   119,000   NaN  \n2881                 [무이자]라쉬반 FC바로셀로나 드로즈 패키지   속옷   119,000   NaN  \n2882                       라쉬반 FC바로셀로나 드로즈 8종   속옷   119,000   NaN  \n2884                 [무이자]라쉬반 FC바로셀로나 드로즈 패키지   속옷   119,000   NaN  \n2885                       라쉬반 FC바로셀로나 드로즈 8종   속옷   119,000   NaN  \n\n[1111 rows x 8 columns]",
      "text/html": "<div>\n<style scoped>\n    .dataframe tbody tr th:only-of-type {\n        vertical-align: middle;\n    }\n\n    .dataframe tbody tr th {\n        vertical-align: top;\n    }\n\n    .dataframe thead th {\n        text-align: right;\n    }\n</style>\n<table border=\"1\" class=\"dataframe\">\n  <thead>\n    <tr style=\"text-align: right;\">\n      <th></th>\n      <th>방송일시</th>\n      <th>노출(분)</th>\n      <th>마더코드</th>\n      <th>상품코드</th>\n      <th>상품명</th>\n      <th>상품군</th>\n      <th>판매단가</th>\n      <th>취급액</th>\n    </tr>\n  </thead>\n  <tbody>\n    <tr>\n      <th>22</th>\n      <td>2020-06-01 13:20</td>\n      <td>NaN</td>\n      <td>100570</td>\n      <td>201671</td>\n      <td>(특)KT휴대폰_삼성갤럭시 A31</td>\n      <td>무형</td>\n      <td>-</td>\n      <td>NaN</td>\n    </tr>\n    <tr>\n      <th>24</th>\n      <td>2020-06-01 13:40</td>\n      <td>NaN</td>\n      <td>100570</td>\n      <td>201671</td>\n      <td>(특)KT휴대폰_삼성갤럭시 A31</td>\n      <td>무형</td>\n      <td>-</td>\n      <td>NaN</td>\n    </tr>\n    <tr>\n      <th>26</th>\n      <td>2020-06-01 14:00</td>\n      <td>NaN</td>\n      <td>100570</td>\n      <td>201671</td>\n      <td>(특)KT휴대폰_삼성갤럭시 A31</td>\n      <td>무형</td>\n      <td>-</td>\n      <td>NaN</td>\n    </tr>\n    <tr>\n      <th>35</th>\n      <td>2020-06-01 17:20</td>\n      <td>NaN</td>\n      <td>100383</td>\n      <td>201250</td>\n      <td>한라궁 황칠 제주오메기떡 2종 40개 (호박오메기20봉+팥오메기20봉)</td>\n      <td>농수축</td>\n      <td>29,900</td>\n      <td>NaN</td>\n    </tr>\n    <tr>\n      <th>37</th>\n      <td>2020-06-01 17:40</td>\n      <td>NaN</td>\n      <td>100383</td>\n      <td>201250</td>\n      <td>한라궁 황칠 제주오메기떡 2종 40개 (호박오메기20봉+팥오메기20봉)</td>\n      <td>농수축</td>\n      <td>29,900</td>\n      <td>NaN</td>\n    </tr>\n    <tr>\n      <th>...</th>\n      <td>...</td>\n      <td>...</td>\n      <td>...</td>\n      <td>...</td>\n      <td>...</td>\n      <td>...</td>\n      <td>...</td>\n      <td>...</td>\n    </tr>\n    <tr>\n      <th>2879</th>\n      <td>2020-06-30 23:50</td>\n      <td>NaN</td>\n      <td>100099</td>\n      <td>200274</td>\n      <td>라쉬반 FC바로셀로나 드로즈 8종</td>\n      <td>속옷</td>\n      <td>119,000</td>\n      <td>NaN</td>\n    </tr>\n    <tr>\n      <th>2881</th>\n      <td>2020-07-01 0:00</td>\n      <td>NaN</td>\n      <td>100099</td>\n      <td>200272</td>\n      <td>[무이자]라쉬반 FC바로셀로나 드로즈 패키지</td>\n      <td>속옷</td>\n      <td>119,000</td>\n      <td>NaN</td>\n    </tr>\n    <tr>\n      <th>2882</th>\n      <td>2020-07-01 0:00</td>\n      <td>NaN</td>\n      <td>100099</td>\n      <td>200274</td>\n      <td>라쉬반 FC바로셀로나 드로즈 8종</td>\n      <td>속옷</td>\n      <td>119,000</td>\n      <td>NaN</td>\n    </tr>\n    <tr>\n      <th>2884</th>\n      <td>2020-07-01 0:10</td>\n      <td>NaN</td>\n      <td>100099</td>\n      <td>200272</td>\n      <td>[무이자]라쉬반 FC바로셀로나 드로즈 패키지</td>\n      <td>속옷</td>\n      <td>119,000</td>\n      <td>NaN</td>\n    </tr>\n    <tr>\n      <th>2885</th>\n      <td>2020-07-01 0:10</td>\n      <td>NaN</td>\n      <td>100099</td>\n      <td>200274</td>\n      <td>라쉬반 FC바로셀로나 드로즈 8종</td>\n      <td>속옷</td>\n      <td>119,000</td>\n      <td>NaN</td>\n    </tr>\n  </tbody>\n</table>\n<p>1111 rows × 8 columns</p>\n</div>"
     },
     "metadata": {},
     "execution_count": 101
    }
   ],
   "source": [
    "test_data[test_data['노출(분)'].isnull()]"
   ]
  },
  {
   "cell_type": "code",
   "execution_count": 113,
   "metadata": {
    "tags": []
   },
   "outputs": [
    {
     "output_type": "execute_result",
     "data": {
      "text/plain": "                방송일시  노출(분)    마더코드    상품코드                 상품명 상품군 판매단가  취급액\n21  2020-06-01 13:20   20.0  100570  201673    KT휴대폰_삼성갤럭시 노트10  무형   -   NaN\n22  2020-06-01 13:20    NaN  100570  201671  (특)KT휴대폰_삼성갤럭시 A31  무형   -   NaN",
      "text/html": "<div>\n<style scoped>\n    .dataframe tbody tr th:only-of-type {\n        vertical-align: middle;\n    }\n\n    .dataframe tbody tr th {\n        vertical-align: top;\n    }\n\n    .dataframe thead th {\n        text-align: right;\n    }\n</style>\n<table border=\"1\" class=\"dataframe\">\n  <thead>\n    <tr style=\"text-align: right;\">\n      <th></th>\n      <th>방송일시</th>\n      <th>노출(분)</th>\n      <th>마더코드</th>\n      <th>상품코드</th>\n      <th>상품명</th>\n      <th>상품군</th>\n      <th>판매단가</th>\n      <th>취급액</th>\n    </tr>\n  </thead>\n  <tbody>\n    <tr>\n      <th>21</th>\n      <td>2020-06-01 13:20</td>\n      <td>20.0</td>\n      <td>100570</td>\n      <td>201673</td>\n      <td>KT휴대폰_삼성갤럭시 노트10</td>\n      <td>무형</td>\n      <td>-</td>\n      <td>NaN</td>\n    </tr>\n    <tr>\n      <th>22</th>\n      <td>2020-06-01 13:20</td>\n      <td>NaN</td>\n      <td>100570</td>\n      <td>201671</td>\n      <td>(특)KT휴대폰_삼성갤럭시 A31</td>\n      <td>무형</td>\n      <td>-</td>\n      <td>NaN</td>\n    </tr>\n  </tbody>\n</table>\n</div>"
     },
     "metadata": {},
     "execution_count": 113
    }
   ],
   "source": [
    "test_data[test_data['방송일시'] == '2020-06-01 13:20']"
   ]
  },
  {
   "cell_type": "code",
   "execution_count": 115,
   "metadata": {},
   "outputs": [],
   "source": [
    "test_data['노출(분)'].fillna(method='pad', inplace=True)"
   ]
  },
  {
   "cell_type": "code",
   "execution_count": 120,
   "metadata": {},
   "outputs": [],
   "source": [
    "from datetime import datetime\n",
    "test_data['방송일시'] = list(map(lambda i : datetime.strptime(str(i), '%Y-%m-%d %H:%M'), test_data['방송일시']))"
   ]
  },
  {
   "cell_type": "code",
   "execution_count": 121,
   "metadata": {},
   "outputs": [],
   "source": [
    "test_data.to_json('datas/test_data/forecast.json')"
   ]
  },
  {
   "cell_type": "markdown",
   "metadata": {},
   "source": [
    "### 최종 학습용 데이터 = 실적(raw_perform.json), 시청률(raw_rating.json)\n",
    "### 최종 평가용 데이터 = 예측(forecast.json)"
   ]
  },
  {
   "cell_type": "code",
   "execution_count": null,
   "metadata": {},
   "outputs": [],
   "source": []
  }
 ]
}