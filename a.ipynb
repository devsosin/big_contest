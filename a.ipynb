{
 "metadata": {
  "language_info": {
   "codemirror_mode": {
    "name": "ipython",
    "version": 3
   },
   "file_extension": ".py",
   "mimetype": "text/x-python",
   "name": "python",
   "nbconvert_exporter": "python",
   "pygments_lexer": "ipython3",
   "version": "3.7.6-final"
  },
  "orig_nbformat": 2,
  "kernelspec": {
   "name": "python_defaultSpec_1598005914912",
   "display_name": "Python 3.7.6 64-bit ('base': conda)"
  }
 },
 "nbformat": 4,
 "nbformat_minor": 2,
 "cells": [
  {
   "cell_type": "code",
   "execution_count": 20,
   "metadata": {},
   "outputs": [],
   "source": [
    "import pandas as pd\n",
    "\n",
    "w_0 = pd.read_json('Colect_Data/weather.json')\n",
    "w_1 = pd.read_json('Colect_Data/weather1.json')\n",
    "w_2 = pd.read_json('Colect_Data/weather2.json')\n",
    "pub = pd.read_csv('datas/out_data/pub.csv', header=None)"
   ]
  },
  {
   "cell_type": "code",
   "execution_count": 88,
   "metadata": {},
   "outputs": [],
   "source": [
    "\n",
    "from Package import loadfile\n",
    "\n",
    "a, b, c = loadfile.load()"
   ]
  },
  {
   "cell_type": "code",
   "execution_count": 90,
   "metadata": {},
   "outputs": [],
   "source": [
    "a.dropna(inplace=True)"
   ]
  },
  {
   "cell_type": "code",
   "execution_count": 94,
   "metadata": {},
   "outputs": [
    {
     "output_type": "execute_result",
     "data": {
      "text/plain": "0          2099000.0\n1          4371000.0\n2          3262000.0\n3          6955000.0\n4          6672000.0\n            ...     \n38299     10157000.0\n38300     50929000.0\n38301    104392000.0\n38302     13765000.0\n38303     46608000.0\nName:  취급액 , Length: 35379, dtype: float64"
     },
     "metadata": {},
     "execution_count": 94
    }
   ],
   "source": [
    "a[' 취급액 ']"
   ]
  },
  {
   "cell_type": "code",
   "execution_count": 95,
   "metadata": {},
   "outputs": [
    {
     "output_type": "execute_result",
     "data": {
      "text/plain": "        시간대  2019-01-01  2019-01-02  2019-01-03  2019-01-04  2019-01-05  \\\n0     02:00         0.0         0.0       0.000         0.0       0.000   \n1     02:01         0.0         0.0       0.000         0.0       0.000   \n2     02:02         0.0         0.0       0.000         0.0       0.000   \n3     02:03         0.0         0.0       0.014         0.0       0.000   \n4     02:04         0.0         0.0       0.000         0.0       0.000   \n...     ...         ...         ...         ...         ...         ...   \n1435  01:55         0.0         0.0       0.000         0.0       0.000   \n1436  01:56         0.0         0.0       0.000         0.0       0.027   \n1437  01:57         0.0         0.0       0.000         0.0       0.000   \n1438  01:58         0.0         0.0       0.000         0.0       0.000   \n1439  01:59         0.0         0.0       0.000         0.0       0.000   \n\n      2019-01-06  2019-01-07  2019-01-08  2019-01-09  ...  2019-12-22  \\\n0            0.0         0.0         0.0       0.000  ...         0.0   \n1            0.0         0.0         0.0       0.000  ...         0.0   \n2            0.0         0.0         0.0       0.000  ...         0.0   \n3            0.0         0.0         0.0       0.000  ...         0.0   \n4            0.0         0.0         0.0       0.000  ...         0.0   \n...          ...         ...         ...         ...  ...         ...   \n1435         0.0         0.0         0.0       0.004  ...         0.0   \n1436         0.0         0.0         0.0       0.000  ...         0.0   \n1437         0.0         0.0         0.0       0.004  ...         0.0   \n1438         0.0         0.0         0.0       0.004  ...         0.0   \n1439         0.0         0.0         0.0       0.004  ...         0.0   \n\n      2019-12-23  2019-12-24  2019-12-25  2019-12-26  2019-12-27  2019-12-28  \\\n0          0.000       0.000       0.000         0.0       0.000         0.0   \n1          0.000       0.000       0.000         0.0       0.000         0.0   \n2          0.000       0.000       0.000         0.0       0.000         0.0   \n3          0.000       0.000       0.017         0.0       0.000         0.0   \n4          0.000       0.000       0.017         0.0       0.000         0.0   \n...          ...         ...         ...         ...         ...         ...   \n1435       0.013       0.000       0.000         0.0       0.015         0.0   \n1436       0.013       0.000       0.000         0.0       0.015         0.0   \n1437       0.013       0.000       0.000         0.0       0.015         0.0   \n1438       0.013       0.017       0.000         0.0       0.015         0.0   \n1439       0.013       0.000       0.000         0.0       0.015         0.0   \n\n      2019-12-29  2019-12-30  2019-12-31  \n0            0.0       0.000       0.000  \n1            0.0       0.000       0.012  \n2            0.0       0.000       0.000  \n3            0.0       0.000       0.000  \n4            0.0       0.000       0.000  \n...          ...         ...         ...  \n1435         0.0       0.000       0.000  \n1436         0.0       0.000       0.000  \n1437         0.0       0.000       0.000  \n1438         0.0       0.019       0.000  \n1439         0.0       0.000       0.000  \n\n[1440 rows x 366 columns]",
      "text/html": "<div>\n<style scoped>\n    .dataframe tbody tr th:only-of-type {\n        vertical-align: middle;\n    }\n\n    .dataframe tbody tr th {\n        vertical-align: top;\n    }\n\n    .dataframe thead th {\n        text-align: right;\n    }\n</style>\n<table border=\"1\" class=\"dataframe\">\n  <thead>\n    <tr style=\"text-align: right;\">\n      <th></th>\n      <th>시간대</th>\n      <th>2019-01-01</th>\n      <th>2019-01-02</th>\n      <th>2019-01-03</th>\n      <th>2019-01-04</th>\n      <th>2019-01-05</th>\n      <th>2019-01-06</th>\n      <th>2019-01-07</th>\n      <th>2019-01-08</th>\n      <th>2019-01-09</th>\n      <th>...</th>\n      <th>2019-12-22</th>\n      <th>2019-12-23</th>\n      <th>2019-12-24</th>\n      <th>2019-12-25</th>\n      <th>2019-12-26</th>\n      <th>2019-12-27</th>\n      <th>2019-12-28</th>\n      <th>2019-12-29</th>\n      <th>2019-12-30</th>\n      <th>2019-12-31</th>\n    </tr>\n  </thead>\n  <tbody>\n    <tr>\n      <th>0</th>\n      <td>02:00</td>\n      <td>0.0</td>\n      <td>0.0</td>\n      <td>0.000</td>\n      <td>0.0</td>\n      <td>0.000</td>\n      <td>0.0</td>\n      <td>0.0</td>\n      <td>0.0</td>\n      <td>0.000</td>\n      <td>...</td>\n      <td>0.0</td>\n      <td>0.000</td>\n      <td>0.000</td>\n      <td>0.000</td>\n      <td>0.0</td>\n      <td>0.000</td>\n      <td>0.0</td>\n      <td>0.0</td>\n      <td>0.000</td>\n      <td>0.000</td>\n    </tr>\n    <tr>\n      <th>1</th>\n      <td>02:01</td>\n      <td>0.0</td>\n      <td>0.0</td>\n      <td>0.000</td>\n      <td>0.0</td>\n      <td>0.000</td>\n      <td>0.0</td>\n      <td>0.0</td>\n      <td>0.0</td>\n      <td>0.000</td>\n      <td>...</td>\n      <td>0.0</td>\n      <td>0.000</td>\n      <td>0.000</td>\n      <td>0.000</td>\n      <td>0.0</td>\n      <td>0.000</td>\n      <td>0.0</td>\n      <td>0.0</td>\n      <td>0.000</td>\n      <td>0.012</td>\n    </tr>\n    <tr>\n      <th>2</th>\n      <td>02:02</td>\n      <td>0.0</td>\n      <td>0.0</td>\n      <td>0.000</td>\n      <td>0.0</td>\n      <td>0.000</td>\n      <td>0.0</td>\n      <td>0.0</td>\n      <td>0.0</td>\n      <td>0.000</td>\n      <td>...</td>\n      <td>0.0</td>\n      <td>0.000</td>\n      <td>0.000</td>\n      <td>0.000</td>\n      <td>0.0</td>\n      <td>0.000</td>\n      <td>0.0</td>\n      <td>0.0</td>\n      <td>0.000</td>\n      <td>0.000</td>\n    </tr>\n    <tr>\n      <th>3</th>\n      <td>02:03</td>\n      <td>0.0</td>\n      <td>0.0</td>\n      <td>0.014</td>\n      <td>0.0</td>\n      <td>0.000</td>\n      <td>0.0</td>\n      <td>0.0</td>\n      <td>0.0</td>\n      <td>0.000</td>\n      <td>...</td>\n      <td>0.0</td>\n      <td>0.000</td>\n      <td>0.000</td>\n      <td>0.017</td>\n      <td>0.0</td>\n      <td>0.000</td>\n      <td>0.0</td>\n      <td>0.0</td>\n      <td>0.000</td>\n      <td>0.000</td>\n    </tr>\n    <tr>\n      <th>4</th>\n      <td>02:04</td>\n      <td>0.0</td>\n      <td>0.0</td>\n      <td>0.000</td>\n      <td>0.0</td>\n      <td>0.000</td>\n      <td>0.0</td>\n      <td>0.0</td>\n      <td>0.0</td>\n      <td>0.000</td>\n      <td>...</td>\n      <td>0.0</td>\n      <td>0.000</td>\n      <td>0.000</td>\n      <td>0.017</td>\n      <td>0.0</td>\n      <td>0.000</td>\n      <td>0.0</td>\n      <td>0.0</td>\n      <td>0.000</td>\n      <td>0.000</td>\n    </tr>\n    <tr>\n      <th>...</th>\n      <td>...</td>\n      <td>...</td>\n      <td>...</td>\n      <td>...</td>\n      <td>...</td>\n      <td>...</td>\n      <td>...</td>\n      <td>...</td>\n      <td>...</td>\n      <td>...</td>\n      <td>...</td>\n      <td>...</td>\n      <td>...</td>\n      <td>...</td>\n      <td>...</td>\n      <td>...</td>\n      <td>...</td>\n      <td>...</td>\n      <td>...</td>\n      <td>...</td>\n      <td>...</td>\n    </tr>\n    <tr>\n      <th>1435</th>\n      <td>01:55</td>\n      <td>0.0</td>\n      <td>0.0</td>\n      <td>0.000</td>\n      <td>0.0</td>\n      <td>0.000</td>\n      <td>0.0</td>\n      <td>0.0</td>\n      <td>0.0</td>\n      <td>0.004</td>\n      <td>...</td>\n      <td>0.0</td>\n      <td>0.013</td>\n      <td>0.000</td>\n      <td>0.000</td>\n      <td>0.0</td>\n      <td>0.015</td>\n      <td>0.0</td>\n      <td>0.0</td>\n      <td>0.000</td>\n      <td>0.000</td>\n    </tr>\n    <tr>\n      <th>1436</th>\n      <td>01:56</td>\n      <td>0.0</td>\n      <td>0.0</td>\n      <td>0.000</td>\n      <td>0.0</td>\n      <td>0.027</td>\n      <td>0.0</td>\n      <td>0.0</td>\n      <td>0.0</td>\n      <td>0.000</td>\n      <td>...</td>\n      <td>0.0</td>\n      <td>0.013</td>\n      <td>0.000</td>\n      <td>0.000</td>\n      <td>0.0</td>\n      <td>0.015</td>\n      <td>0.0</td>\n      <td>0.0</td>\n      <td>0.000</td>\n      <td>0.000</td>\n    </tr>\n    <tr>\n      <th>1437</th>\n      <td>01:57</td>\n      <td>0.0</td>\n      <td>0.0</td>\n      <td>0.000</td>\n      <td>0.0</td>\n      <td>0.000</td>\n      <td>0.0</td>\n      <td>0.0</td>\n      <td>0.0</td>\n      <td>0.004</td>\n      <td>...</td>\n      <td>0.0</td>\n      <td>0.013</td>\n      <td>0.000</td>\n      <td>0.000</td>\n      <td>0.0</td>\n      <td>0.015</td>\n      <td>0.0</td>\n      <td>0.0</td>\n      <td>0.000</td>\n      <td>0.000</td>\n    </tr>\n    <tr>\n      <th>1438</th>\n      <td>01:58</td>\n      <td>0.0</td>\n      <td>0.0</td>\n      <td>0.000</td>\n      <td>0.0</td>\n      <td>0.000</td>\n      <td>0.0</td>\n      <td>0.0</td>\n      <td>0.0</td>\n      <td>0.004</td>\n      <td>...</td>\n      <td>0.0</td>\n      <td>0.013</td>\n      <td>0.017</td>\n      <td>0.000</td>\n      <td>0.0</td>\n      <td>0.015</td>\n      <td>0.0</td>\n      <td>0.0</td>\n      <td>0.019</td>\n      <td>0.000</td>\n    </tr>\n    <tr>\n      <th>1439</th>\n      <td>01:59</td>\n      <td>0.0</td>\n      <td>0.0</td>\n      <td>0.000</td>\n      <td>0.0</td>\n      <td>0.000</td>\n      <td>0.0</td>\n      <td>0.0</td>\n      <td>0.0</td>\n      <td>0.004</td>\n      <td>...</td>\n      <td>0.0</td>\n      <td>0.013</td>\n      <td>0.000</td>\n      <td>0.000</td>\n      <td>0.0</td>\n      <td>0.015</td>\n      <td>0.0</td>\n      <td>0.0</td>\n      <td>0.000</td>\n      <td>0.000</td>\n    </tr>\n  </tbody>\n</table>\n<p>1440 rows × 366 columns</p>\n</div>"
     },
     "metadata": {},
     "execution_count": 95
    }
   ],
   "source": [
    "b"
   ]
  },
  {
   "cell_type": "code",
   "execution_count": 86,
   "metadata": {},
   "outputs": [
    {
     "output_type": "error",
     "ename": "TypeError",
     "evalue": "unhashable type: 'numpy.ndarray'",
     "traceback": [
      "\u001b[1;31m---------------------------------------------------------------------------\u001b[0m",
      "\u001b[1;31mTypeError\u001b[0m                                 Traceback (most recent call last)",
      "\u001b[1;32m<ipython-input-86-2d3e22517392>\u001b[0m in \u001b[0;36m<module>\u001b[1;34m\u001b[0m\n\u001b[0;32m      1\u001b[0m \u001b[1;32mimport\u001b[0m \u001b[0mmatplotlib\u001b[0m\u001b[1;33m.\u001b[0m\u001b[0mpyplot\u001b[0m \u001b[1;32mas\u001b[0m \u001b[0mplt\u001b[0m\u001b[1;33m\u001b[0m\u001b[1;33m\u001b[0m\u001b[0m\n\u001b[1;32m----> 2\u001b[1;33m \u001b[0mplt\u001b[0m\u001b[1;33m.\u001b[0m\u001b[0mplot\u001b[0m\u001b[1;33m(\u001b[0m\u001b[0mw_0\u001b[0m\u001b[1;33m[\u001b[0m\u001b[0mw_0\u001b[0m\u001b[1;33m[\u001b[0m\u001b[1;34m'loc'\u001b[0m\u001b[1;33m]\u001b[0m\u001b[1;33m==\u001b[0m\u001b[1;34m'서울'\u001b[0m\u001b[1;33m]\u001b[0m\u001b[1;33m)\u001b[0m\u001b[1;33m\u001b[0m\u001b[1;33m\u001b[0m\u001b[0m\n\u001b[0m\u001b[0;32m      3\u001b[0m \u001b[1;33m\u001b[0m\u001b[0m\n\u001b[0;32m      4\u001b[0m \u001b[1;32mfrom\u001b[0m \u001b[0mPackage\u001b[0m \u001b[1;32mimport\u001b[0m \u001b[0mloadfile\u001b[0m\u001b[1;33m\u001b[0m\u001b[1;33m\u001b[0m\u001b[0m\n\u001b[0;32m      5\u001b[0m \u001b[1;33m\u001b[0m\u001b[0m\n",
      "\u001b[1;32m~\\anaconda3\\lib\\site-packages\\matplotlib\\pyplot.py\u001b[0m in \u001b[0;36mplot\u001b[1;34m(scalex, scaley, data, *args, **kwargs)\u001b[0m\n\u001b[0;32m   2794\u001b[0m     return gca().plot(\n\u001b[0;32m   2795\u001b[0m         *args, scalex=scalex, scaley=scaley, **({\"data\": data} if data\n\u001b[1;32m-> 2796\u001b[1;33m         is not None else {}), **kwargs)\n\u001b[0m\u001b[0;32m   2797\u001b[0m \u001b[1;33m\u001b[0m\u001b[0m\n\u001b[0;32m   2798\u001b[0m \u001b[1;33m\u001b[0m\u001b[0m\n",
      "\u001b[1;32m~\\anaconda3\\lib\\site-packages\\matplotlib\\axes\\_axes.py\u001b[0m in \u001b[0;36mplot\u001b[1;34m(self, scalex, scaley, data, *args, **kwargs)\u001b[0m\n\u001b[0;32m   1663\u001b[0m         \"\"\"\n\u001b[0;32m   1664\u001b[0m         \u001b[0mkwargs\u001b[0m \u001b[1;33m=\u001b[0m \u001b[0mcbook\u001b[0m\u001b[1;33m.\u001b[0m\u001b[0mnormalize_kwargs\u001b[0m\u001b[1;33m(\u001b[0m\u001b[0mkwargs\u001b[0m\u001b[1;33m,\u001b[0m \u001b[0mmlines\u001b[0m\u001b[1;33m.\u001b[0m\u001b[0mLine2D\u001b[0m\u001b[1;33m.\u001b[0m\u001b[0m_alias_map\u001b[0m\u001b[1;33m)\u001b[0m\u001b[1;33m\u001b[0m\u001b[1;33m\u001b[0m\u001b[0m\n\u001b[1;32m-> 1665\u001b[1;33m         \u001b[0mlines\u001b[0m \u001b[1;33m=\u001b[0m \u001b[1;33m[\u001b[0m\u001b[1;33m*\u001b[0m\u001b[0mself\u001b[0m\u001b[1;33m.\u001b[0m\u001b[0m_get_lines\u001b[0m\u001b[1;33m(\u001b[0m\u001b[1;33m*\u001b[0m\u001b[0margs\u001b[0m\u001b[1;33m,\u001b[0m \u001b[0mdata\u001b[0m\u001b[1;33m=\u001b[0m\u001b[0mdata\u001b[0m\u001b[1;33m,\u001b[0m \u001b[1;33m**\u001b[0m\u001b[0mkwargs\u001b[0m\u001b[1;33m)\u001b[0m\u001b[1;33m]\u001b[0m\u001b[1;33m\u001b[0m\u001b[1;33m\u001b[0m\u001b[0m\n\u001b[0m\u001b[0;32m   1666\u001b[0m         \u001b[1;32mfor\u001b[0m \u001b[0mline\u001b[0m \u001b[1;32min\u001b[0m \u001b[0mlines\u001b[0m\u001b[1;33m:\u001b[0m\u001b[1;33m\u001b[0m\u001b[1;33m\u001b[0m\u001b[0m\n\u001b[0;32m   1667\u001b[0m             \u001b[0mself\u001b[0m\u001b[1;33m.\u001b[0m\u001b[0madd_line\u001b[0m\u001b[1;33m(\u001b[0m\u001b[0mline\u001b[0m\u001b[1;33m)\u001b[0m\u001b[1;33m\u001b[0m\u001b[1;33m\u001b[0m\u001b[0m\n",
      "\u001b[1;32m~\\anaconda3\\lib\\site-packages\\matplotlib\\axes\\_base.py\u001b[0m in \u001b[0;36m__call__\u001b[1;34m(self, *args, **kwargs)\u001b[0m\n\u001b[0;32m    223\u001b[0m                 \u001b[0mthis\u001b[0m \u001b[1;33m+=\u001b[0m \u001b[0margs\u001b[0m\u001b[1;33m[\u001b[0m\u001b[1;36m0\u001b[0m\u001b[1;33m]\u001b[0m\u001b[1;33m,\u001b[0m\u001b[1;33m\u001b[0m\u001b[1;33m\u001b[0m\u001b[0m\n\u001b[0;32m    224\u001b[0m                 \u001b[0margs\u001b[0m \u001b[1;33m=\u001b[0m \u001b[0margs\u001b[0m\u001b[1;33m[\u001b[0m\u001b[1;36m1\u001b[0m\u001b[1;33m:\u001b[0m\u001b[1;33m]\u001b[0m\u001b[1;33m\u001b[0m\u001b[1;33m\u001b[0m\u001b[0m\n\u001b[1;32m--> 225\u001b[1;33m             \u001b[1;32myield\u001b[0m \u001b[1;32mfrom\u001b[0m \u001b[0mself\u001b[0m\u001b[1;33m.\u001b[0m\u001b[0m_plot_args\u001b[0m\u001b[1;33m(\u001b[0m\u001b[0mthis\u001b[0m\u001b[1;33m,\u001b[0m \u001b[0mkwargs\u001b[0m\u001b[1;33m)\u001b[0m\u001b[1;33m\u001b[0m\u001b[1;33m\u001b[0m\u001b[0m\n\u001b[0m\u001b[0;32m    226\u001b[0m \u001b[1;33m\u001b[0m\u001b[0m\n\u001b[0;32m    227\u001b[0m     \u001b[1;32mdef\u001b[0m \u001b[0mget_next_color\u001b[0m\u001b[1;33m(\u001b[0m\u001b[0mself\u001b[0m\u001b[1;33m)\u001b[0m\u001b[1;33m:\u001b[0m\u001b[1;33m\u001b[0m\u001b[1;33m\u001b[0m\u001b[0m\n",
      "\u001b[1;32m~\\anaconda3\\lib\\site-packages\\matplotlib\\axes\\_base.py\u001b[0m in \u001b[0;36m_plot_args\u001b[1;34m(self, tup, kwargs)\u001b[0m\n\u001b[0;32m    389\u001b[0m             \u001b[0mx\u001b[0m\u001b[1;33m,\u001b[0m \u001b[0my\u001b[0m \u001b[1;33m=\u001b[0m \u001b[0mindex_of\u001b[0m\u001b[1;33m(\u001b[0m\u001b[0mtup\u001b[0m\u001b[1;33m[\u001b[0m\u001b[1;33m-\u001b[0m\u001b[1;36m1\u001b[0m\u001b[1;33m]\u001b[0m\u001b[1;33m)\u001b[0m\u001b[1;33m\u001b[0m\u001b[1;33m\u001b[0m\u001b[0m\n\u001b[0;32m    390\u001b[0m \u001b[1;33m\u001b[0m\u001b[0m\n\u001b[1;32m--> 391\u001b[1;33m         \u001b[0mx\u001b[0m\u001b[1;33m,\u001b[0m \u001b[0my\u001b[0m \u001b[1;33m=\u001b[0m \u001b[0mself\u001b[0m\u001b[1;33m.\u001b[0m\u001b[0m_xy_from_xy\u001b[0m\u001b[1;33m(\u001b[0m\u001b[0mx\u001b[0m\u001b[1;33m,\u001b[0m \u001b[0my\u001b[0m\u001b[1;33m)\u001b[0m\u001b[1;33m\u001b[0m\u001b[1;33m\u001b[0m\u001b[0m\n\u001b[0m\u001b[0;32m    392\u001b[0m \u001b[1;33m\u001b[0m\u001b[0m\n\u001b[0;32m    393\u001b[0m         \u001b[1;32mif\u001b[0m \u001b[0mself\u001b[0m\u001b[1;33m.\u001b[0m\u001b[0mcommand\u001b[0m \u001b[1;33m==\u001b[0m \u001b[1;34m'plot'\u001b[0m\u001b[1;33m:\u001b[0m\u001b[1;33m\u001b[0m\u001b[1;33m\u001b[0m\u001b[0m\n",
      "\u001b[1;32m~\\anaconda3\\lib\\site-packages\\matplotlib\\axes\\_base.py\u001b[0m in \u001b[0;36m_xy_from_xy\u001b[1;34m(self, x, y)\u001b[0m\n\u001b[0;32m    242\u001b[0m         \u001b[1;32mif\u001b[0m \u001b[0mself\u001b[0m\u001b[1;33m.\u001b[0m\u001b[0maxes\u001b[0m\u001b[1;33m.\u001b[0m\u001b[0mxaxis\u001b[0m \u001b[1;32mis\u001b[0m \u001b[1;32mnot\u001b[0m \u001b[1;32mNone\u001b[0m \u001b[1;32mand\u001b[0m \u001b[0mself\u001b[0m\u001b[1;33m.\u001b[0m\u001b[0maxes\u001b[0m\u001b[1;33m.\u001b[0m\u001b[0myaxis\u001b[0m \u001b[1;32mis\u001b[0m \u001b[1;32mnot\u001b[0m \u001b[1;32mNone\u001b[0m\u001b[1;33m:\u001b[0m\u001b[1;33m\u001b[0m\u001b[1;33m\u001b[0m\u001b[0m\n\u001b[0;32m    243\u001b[0m             \u001b[0mbx\u001b[0m \u001b[1;33m=\u001b[0m \u001b[0mself\u001b[0m\u001b[1;33m.\u001b[0m\u001b[0maxes\u001b[0m\u001b[1;33m.\u001b[0m\u001b[0mxaxis\u001b[0m\u001b[1;33m.\u001b[0m\u001b[0mupdate_units\u001b[0m\u001b[1;33m(\u001b[0m\u001b[0mx\u001b[0m\u001b[1;33m)\u001b[0m\u001b[1;33m\u001b[0m\u001b[1;33m\u001b[0m\u001b[0m\n\u001b[1;32m--> 244\u001b[1;33m             \u001b[0mby\u001b[0m \u001b[1;33m=\u001b[0m \u001b[0mself\u001b[0m\u001b[1;33m.\u001b[0m\u001b[0maxes\u001b[0m\u001b[1;33m.\u001b[0m\u001b[0myaxis\u001b[0m\u001b[1;33m.\u001b[0m\u001b[0mupdate_units\u001b[0m\u001b[1;33m(\u001b[0m\u001b[0my\u001b[0m\u001b[1;33m)\u001b[0m\u001b[1;33m\u001b[0m\u001b[1;33m\u001b[0m\u001b[0m\n\u001b[0m\u001b[0;32m    245\u001b[0m \u001b[1;33m\u001b[0m\u001b[0m\n\u001b[0;32m    246\u001b[0m             \u001b[1;32mif\u001b[0m \u001b[0mself\u001b[0m\u001b[1;33m.\u001b[0m\u001b[0mcommand\u001b[0m \u001b[1;33m!=\u001b[0m \u001b[1;34m'plot'\u001b[0m\u001b[1;33m:\u001b[0m\u001b[1;33m\u001b[0m\u001b[1;33m\u001b[0m\u001b[0m\n",
      "\u001b[1;32m~\\anaconda3\\lib\\site-packages\\matplotlib\\axis.py\u001b[0m in \u001b[0;36mupdate_units\u001b[1;34m(self, data)\u001b[0m\n\u001b[0;32m   1491\u001b[0m         \u001b[0mneednew\u001b[0m \u001b[1;33m=\u001b[0m \u001b[0mself\u001b[0m\u001b[1;33m.\u001b[0m\u001b[0mconverter\u001b[0m \u001b[1;33m!=\u001b[0m \u001b[0mconverter\u001b[0m\u001b[1;33m\u001b[0m\u001b[1;33m\u001b[0m\u001b[0m\n\u001b[0;32m   1492\u001b[0m         \u001b[0mself\u001b[0m\u001b[1;33m.\u001b[0m\u001b[0mconverter\u001b[0m \u001b[1;33m=\u001b[0m \u001b[0mconverter\u001b[0m\u001b[1;33m\u001b[0m\u001b[1;33m\u001b[0m\u001b[0m\n\u001b[1;32m-> 1493\u001b[1;33m         \u001b[0mdefault\u001b[0m \u001b[1;33m=\u001b[0m \u001b[0mself\u001b[0m\u001b[1;33m.\u001b[0m\u001b[0mconverter\u001b[0m\u001b[1;33m.\u001b[0m\u001b[0mdefault_units\u001b[0m\u001b[1;33m(\u001b[0m\u001b[0mdata\u001b[0m\u001b[1;33m,\u001b[0m \u001b[0mself\u001b[0m\u001b[1;33m)\u001b[0m\u001b[1;33m\u001b[0m\u001b[1;33m\u001b[0m\u001b[0m\n\u001b[0m\u001b[0;32m   1494\u001b[0m         \u001b[1;32mif\u001b[0m \u001b[0mdefault\u001b[0m \u001b[1;32mis\u001b[0m \u001b[1;32mnot\u001b[0m \u001b[1;32mNone\u001b[0m \u001b[1;32mand\u001b[0m \u001b[0mself\u001b[0m\u001b[1;33m.\u001b[0m\u001b[0munits\u001b[0m \u001b[1;32mis\u001b[0m \u001b[1;32mNone\u001b[0m\u001b[1;33m:\u001b[0m\u001b[1;33m\u001b[0m\u001b[1;33m\u001b[0m\u001b[0m\n\u001b[0;32m   1495\u001b[0m             \u001b[0mself\u001b[0m\u001b[1;33m.\u001b[0m\u001b[0mset_units\u001b[0m\u001b[1;33m(\u001b[0m\u001b[0mdefault\u001b[0m\u001b[1;33m)\u001b[0m\u001b[1;33m\u001b[0m\u001b[1;33m\u001b[0m\u001b[0m\n",
      "\u001b[1;32m~\\anaconda3\\lib\\site-packages\\matplotlib\\category.py\u001b[0m in \u001b[0;36mdefault_units\u001b[1;34m(data, axis)\u001b[0m\n\u001b[0;32m    113\u001b[0m         \u001b[1;31m# default_units->axis_info->convert\u001b[0m\u001b[1;33m\u001b[0m\u001b[1;33m\u001b[0m\u001b[1;33m\u001b[0m\u001b[0m\n\u001b[0;32m    114\u001b[0m         \u001b[1;32mif\u001b[0m \u001b[0maxis\u001b[0m\u001b[1;33m.\u001b[0m\u001b[0munits\u001b[0m \u001b[1;32mis\u001b[0m \u001b[1;32mNone\u001b[0m\u001b[1;33m:\u001b[0m\u001b[1;33m\u001b[0m\u001b[1;33m\u001b[0m\u001b[0m\n\u001b[1;32m--> 115\u001b[1;33m             \u001b[0maxis\u001b[0m\u001b[1;33m.\u001b[0m\u001b[0mset_units\u001b[0m\u001b[1;33m(\u001b[0m\u001b[0mUnitData\u001b[0m\u001b[1;33m(\u001b[0m\u001b[0mdata\u001b[0m\u001b[1;33m)\u001b[0m\u001b[1;33m)\u001b[0m\u001b[1;33m\u001b[0m\u001b[1;33m\u001b[0m\u001b[0m\n\u001b[0m\u001b[0;32m    116\u001b[0m         \u001b[1;32melse\u001b[0m\u001b[1;33m:\u001b[0m\u001b[1;33m\u001b[0m\u001b[1;33m\u001b[0m\u001b[0m\n\u001b[0;32m    117\u001b[0m             \u001b[0maxis\u001b[0m\u001b[1;33m.\u001b[0m\u001b[0munits\u001b[0m\u001b[1;33m.\u001b[0m\u001b[0mupdate\u001b[0m\u001b[1;33m(\u001b[0m\u001b[0mdata\u001b[0m\u001b[1;33m)\u001b[0m\u001b[1;33m\u001b[0m\u001b[1;33m\u001b[0m\u001b[0m\n",
      "\u001b[1;32m~\\anaconda3\\lib\\site-packages\\matplotlib\\category.py\u001b[0m in \u001b[0;36m__init__\u001b[1;34m(self, data)\u001b[0m\n\u001b[0;32m    179\u001b[0m         \u001b[0mself\u001b[0m\u001b[1;33m.\u001b[0m\u001b[0m_counter\u001b[0m \u001b[1;33m=\u001b[0m \u001b[0mitertools\u001b[0m\u001b[1;33m.\u001b[0m\u001b[0mcount\u001b[0m\u001b[1;33m(\u001b[0m\u001b[1;33m)\u001b[0m\u001b[1;33m\u001b[0m\u001b[1;33m\u001b[0m\u001b[0m\n\u001b[0;32m    180\u001b[0m         \u001b[1;32mif\u001b[0m \u001b[0mdata\u001b[0m \u001b[1;32mis\u001b[0m \u001b[1;32mnot\u001b[0m \u001b[1;32mNone\u001b[0m\u001b[1;33m:\u001b[0m\u001b[1;33m\u001b[0m\u001b[1;33m\u001b[0m\u001b[0m\n\u001b[1;32m--> 181\u001b[1;33m             \u001b[0mself\u001b[0m\u001b[1;33m.\u001b[0m\u001b[0mupdate\u001b[0m\u001b[1;33m(\u001b[0m\u001b[0mdata\u001b[0m\u001b[1;33m)\u001b[0m\u001b[1;33m\u001b[0m\u001b[1;33m\u001b[0m\u001b[0m\n\u001b[0m\u001b[0;32m    182\u001b[0m \u001b[1;33m\u001b[0m\u001b[0m\n\u001b[0;32m    183\u001b[0m     \u001b[1;33m@\u001b[0m\u001b[0mstaticmethod\u001b[0m\u001b[1;33m\u001b[0m\u001b[1;33m\u001b[0m\u001b[0m\n",
      "\u001b[1;32m~\\anaconda3\\lib\\site-packages\\matplotlib\\category.py\u001b[0m in \u001b[0;36mupdate\u001b[1;34m(self, data)\u001b[0m\n\u001b[0;32m    214\u001b[0m         \u001b[1;31m# check if convertible to number:\u001b[0m\u001b[1;33m\u001b[0m\u001b[1;33m\u001b[0m\u001b[1;33m\u001b[0m\u001b[0m\n\u001b[0;32m    215\u001b[0m         \u001b[0mconvertible\u001b[0m \u001b[1;33m=\u001b[0m \u001b[1;32mTrue\u001b[0m\u001b[1;33m\u001b[0m\u001b[1;33m\u001b[0m\u001b[0m\n\u001b[1;32m--> 216\u001b[1;33m         \u001b[1;32mfor\u001b[0m \u001b[0mval\u001b[0m \u001b[1;32min\u001b[0m \u001b[0mOrderedDict\u001b[0m\u001b[1;33m.\u001b[0m\u001b[0mfromkeys\u001b[0m\u001b[1;33m(\u001b[0m\u001b[0mdata\u001b[0m\u001b[1;33m)\u001b[0m\u001b[1;33m:\u001b[0m\u001b[1;33m\u001b[0m\u001b[1;33m\u001b[0m\u001b[0m\n\u001b[0m\u001b[0;32m    217\u001b[0m             \u001b[1;31m# OrderedDict just iterates over unique values in data.\u001b[0m\u001b[1;33m\u001b[0m\u001b[1;33m\u001b[0m\u001b[1;33m\u001b[0m\u001b[0m\n\u001b[0;32m    218\u001b[0m             \u001b[1;32mif\u001b[0m \u001b[1;32mnot\u001b[0m \u001b[0misinstance\u001b[0m\u001b[1;33m(\u001b[0m\u001b[0mval\u001b[0m\u001b[1;33m,\u001b[0m \u001b[1;33m(\u001b[0m\u001b[0mstr\u001b[0m\u001b[1;33m,\u001b[0m \u001b[0mbytes\u001b[0m\u001b[1;33m)\u001b[0m\u001b[1;33m)\u001b[0m\u001b[1;33m:\u001b[0m\u001b[1;33m\u001b[0m\u001b[1;33m\u001b[0m\u001b[0m\n",
      "\u001b[1;31mTypeError\u001b[0m: unhashable type: 'numpy.ndarray'"
     ]
    }
   ],
   "source": [
    "import matplotlib.pyplot as plt\n",
    "plt.plot(w_0[w_0['loc']=='서울']['rain'])\n"
   ]
  },
  {
   "cell_type": "code",
   "execution_count": null,
   "metadata": {},
   "outputs": [],
   "source": []
  },
  {
   "cell_type": "code",
   "execution_count": 12,
   "metadata": {},
   "outputs": [
    {
     "output_type": "execute_result",
     "data": {
      "text/plain": "                    time loc  tem  hum  rain  snow\n0       2019-01-01 00:00  안동 -5.5   41   0.0   0.0\n1       2019-01-01 01:00  안동 -5.1   39   0.0   0.0\n2       2019-01-01 02:00  안동 -6.5   48   0.0   0.0\n3       2019-01-01 03:00  안동 -7.1   54   0.0   0.0\n4       2019-01-01 04:00  안동 -7.0   60   0.0   0.0\n...                  ...  ..  ...  ...   ...   ...\n210235  2019-12-31 19:00  강화 -8.4   60   0.0   0.0\n210236  2019-12-31 20:00  강화 -8.6   62   0.0   0.0\n210237  2019-12-31 21:00  강화 -8.4   62   0.0   0.0\n210238  2019-12-31 22:00  강화 -7.5   62   0.0   0.0\n210239  2019-12-31 23:00  강화 -6.4   51   0.0   0.0\n\n[210240 rows x 6 columns]",
      "text/html": "<div>\n<style scoped>\n    .dataframe tbody tr th:only-of-type {\n        vertical-align: middle;\n    }\n\n    .dataframe tbody tr th {\n        vertical-align: top;\n    }\n\n    .dataframe thead th {\n        text-align: right;\n    }\n</style>\n<table border=\"1\" class=\"dataframe\">\n  <thead>\n    <tr style=\"text-align: right;\">\n      <th></th>\n      <th>time</th>\n      <th>loc</th>\n      <th>tem</th>\n      <th>hum</th>\n      <th>rain</th>\n      <th>snow</th>\n    </tr>\n  </thead>\n  <tbody>\n    <tr>\n      <th>0</th>\n      <td>2019-01-01 00:00</td>\n      <td>안동</td>\n      <td>-5.5</td>\n      <td>41</td>\n      <td>0.0</td>\n      <td>0.0</td>\n    </tr>\n    <tr>\n      <th>1</th>\n      <td>2019-01-01 01:00</td>\n      <td>안동</td>\n      <td>-5.1</td>\n      <td>39</td>\n      <td>0.0</td>\n      <td>0.0</td>\n    </tr>\n    <tr>\n      <th>2</th>\n      <td>2019-01-01 02:00</td>\n      <td>안동</td>\n      <td>-6.5</td>\n      <td>48</td>\n      <td>0.0</td>\n      <td>0.0</td>\n    </tr>\n    <tr>\n      <th>3</th>\n      <td>2019-01-01 03:00</td>\n      <td>안동</td>\n      <td>-7.1</td>\n      <td>54</td>\n      <td>0.0</td>\n      <td>0.0</td>\n    </tr>\n    <tr>\n      <th>4</th>\n      <td>2019-01-01 04:00</td>\n      <td>안동</td>\n      <td>-7.0</td>\n      <td>60</td>\n      <td>0.0</td>\n      <td>0.0</td>\n    </tr>\n    <tr>\n      <th>...</th>\n      <td>...</td>\n      <td>...</td>\n      <td>...</td>\n      <td>...</td>\n      <td>...</td>\n      <td>...</td>\n    </tr>\n    <tr>\n      <th>210235</th>\n      <td>2019-12-31 19:00</td>\n      <td>강화</td>\n      <td>-8.4</td>\n      <td>60</td>\n      <td>0.0</td>\n      <td>0.0</td>\n    </tr>\n    <tr>\n      <th>210236</th>\n      <td>2019-12-31 20:00</td>\n      <td>강화</td>\n      <td>-8.6</td>\n      <td>62</td>\n      <td>0.0</td>\n      <td>0.0</td>\n    </tr>\n    <tr>\n      <th>210237</th>\n      <td>2019-12-31 21:00</td>\n      <td>강화</td>\n      <td>-8.4</td>\n      <td>62</td>\n      <td>0.0</td>\n      <td>0.0</td>\n    </tr>\n    <tr>\n      <th>210238</th>\n      <td>2019-12-31 22:00</td>\n      <td>강화</td>\n      <td>-7.5</td>\n      <td>62</td>\n      <td>0.0</td>\n      <td>0.0</td>\n    </tr>\n    <tr>\n      <th>210239</th>\n      <td>2019-12-31 23:00</td>\n      <td>강화</td>\n      <td>-6.4</td>\n      <td>51</td>\n      <td>0.0</td>\n      <td>0.0</td>\n    </tr>\n  </tbody>\n</table>\n<p>210240 rows × 6 columns</p>\n</div>"
     },
     "metadata": {},
     "execution_count": 12
    }
   ],
   "source": [
    "w_1"
   ]
  },
  {
   "cell_type": "code",
   "execution_count": 14,
   "metadata": {},
   "outputs": [
    {
     "output_type": "execute_result",
     "data": {
      "text/plain": "                   time loc   tem  hum  rain  snow\n0      2019-01-01 00:00  양평  -9.2   59   0.0   0.0\n1      2019-01-01 01:00  양평 -10.2   67   0.0   0.0\n2      2019-01-01 02:00  양평 -10.4   70   0.0   0.0\n3      2019-01-01 03:00  양평 -11.2   65   0.0   0.0\n4      2019-01-01 04:00  양평 -11.4   73   0.0   0.0\n...                 ...  ..   ...  ...   ...   ...\n87595  2019-12-31 19:00  보령  -4.8   61   0.0   0.0\n87596  2019-12-31 20:00  보령  -5.3   64   0.0   0.0\n87597  2019-12-31 21:00  보령  -5.5   68   0.0   0.0\n87598  2019-12-31 22:00  보령  -6.0   72   0.0   0.0\n87599  2019-12-31 23:00  보령  -6.0   74   0.0   0.0\n\n[87600 rows x 6 columns]",
      "text/html": "<div>\n<style scoped>\n    .dataframe tbody tr th:only-of-type {\n        vertical-align: middle;\n    }\n\n    .dataframe tbody tr th {\n        vertical-align: top;\n    }\n\n    .dataframe thead th {\n        text-align: right;\n    }\n</style>\n<table border=\"1\" class=\"dataframe\">\n  <thead>\n    <tr style=\"text-align: right;\">\n      <th></th>\n      <th>time</th>\n      <th>loc</th>\n      <th>tem</th>\n      <th>hum</th>\n      <th>rain</th>\n      <th>snow</th>\n    </tr>\n  </thead>\n  <tbody>\n    <tr>\n      <th>0</th>\n      <td>2019-01-01 00:00</td>\n      <td>양평</td>\n      <td>-9.2</td>\n      <td>59</td>\n      <td>0.0</td>\n      <td>0.0</td>\n    </tr>\n    <tr>\n      <th>1</th>\n      <td>2019-01-01 01:00</td>\n      <td>양평</td>\n      <td>-10.2</td>\n      <td>67</td>\n      <td>0.0</td>\n      <td>0.0</td>\n    </tr>\n    <tr>\n      <th>2</th>\n      <td>2019-01-01 02:00</td>\n      <td>양평</td>\n      <td>-10.4</td>\n      <td>70</td>\n      <td>0.0</td>\n      <td>0.0</td>\n    </tr>\n    <tr>\n      <th>3</th>\n      <td>2019-01-01 03:00</td>\n      <td>양평</td>\n      <td>-11.2</td>\n      <td>65</td>\n      <td>0.0</td>\n      <td>0.0</td>\n    </tr>\n    <tr>\n      <th>4</th>\n      <td>2019-01-01 04:00</td>\n      <td>양평</td>\n      <td>-11.4</td>\n      <td>73</td>\n      <td>0.0</td>\n      <td>0.0</td>\n    </tr>\n    <tr>\n      <th>...</th>\n      <td>...</td>\n      <td>...</td>\n      <td>...</td>\n      <td>...</td>\n      <td>...</td>\n      <td>...</td>\n    </tr>\n    <tr>\n      <th>87595</th>\n      <td>2019-12-31 19:00</td>\n      <td>보령</td>\n      <td>-4.8</td>\n      <td>61</td>\n      <td>0.0</td>\n      <td>0.0</td>\n    </tr>\n    <tr>\n      <th>87596</th>\n      <td>2019-12-31 20:00</td>\n      <td>보령</td>\n      <td>-5.3</td>\n      <td>64</td>\n      <td>0.0</td>\n      <td>0.0</td>\n    </tr>\n    <tr>\n      <th>87597</th>\n      <td>2019-12-31 21:00</td>\n      <td>보령</td>\n      <td>-5.5</td>\n      <td>68</td>\n      <td>0.0</td>\n      <td>0.0</td>\n    </tr>\n    <tr>\n      <th>87598</th>\n      <td>2019-12-31 22:00</td>\n      <td>보령</td>\n      <td>-6.0</td>\n      <td>72</td>\n      <td>0.0</td>\n      <td>0.0</td>\n    </tr>\n    <tr>\n      <th>87599</th>\n      <td>2019-12-31 23:00</td>\n      <td>보령</td>\n      <td>-6.0</td>\n      <td>74</td>\n      <td>0.0</td>\n      <td>0.0</td>\n    </tr>\n  </tbody>\n</table>\n<p>87600 rows × 6 columns</p>\n</div>"
     },
     "metadata": {},
     "execution_count": 14
    }
   ],
   "source": [
    "w_2"
   ]
  },
  {
   "cell_type": "code",
   "execution_count": 61,
   "metadata": {},
   "outputs": [],
   "source": [
    "pub[4] = list(map(lambda i : int(i.replace(',','')), pub[4]))"
   ]
  },
  {
   "cell_type": "code",
   "execution_count": 59,
   "metadata": {},
   "outputs": [],
   "source": [
    "pub = pub.drop(8, axis=1)\n",
    "pub.dropna(inplace=True)"
   ]
  },
  {
   "cell_type": "code",
   "execution_count": 64,
   "metadata": {},
   "outputs": [],
   "source": [
    "pub[4] = pub[4] / pub[4].sum()"
   ]
  },
  {
   "cell_type": "code",
   "execution_count": 67,
   "metadata": {},
   "outputs": [],
   "source": [
    "pub.drop(0, axis=1, inplace=True)"
   ]
  },
  {
   "cell_type": "code",
   "execution_count": 101,
   "metadata": {},
   "outputs": [
    {
     "output_type": "execute_result",
     "data": {
      "text/plain": "                   time            title  \\\n0      2019-01-01 05:00           왕초보 영어   \n1      2019-01-01 05:30       세계견문록 아틀라스   \n2      2019-01-01 06:00       한국기행(전주재방)   \n3      2019-01-01 06:20           세계테마기행   \n4      2019-01-01 07:00  강철소방대 파이어로보(종합)   \n...                 ...              ...   \n17439  2019-12-31 23:35         미래교육 플러스   \n17440  2019-12-31 24:25        지식의 기쁨(재)   \n17441  2019-12-31 24:55      지식채널e(전주재방)   \n17442  2019-12-31 25:00            지식채널e   \n17443  2019-12-31 25:05        2019 헬로루키   \n\n                                     content  \n0                        제794회 너의 새해 결심은 뭐니?  \n1                                  자연의 색 서호주  \n2                       국수기행2 2부 한 그릇, 바다의 맛  \n3                    영혼의 팔레트 과테말라 2부 모험가의 낙원  \n4                                위기일발 메가시티 외  \n...                                      ...  \n17439  미래를 만드는 언어, 수학 3부 - '생각의 힘' 수학으로 키워라!  \n17440                           소통이 관계를 좌우한다  \n17441                                안아줄 수밖에  \n17442                                 9와 숫자들  \n17443                                     2화  \n\n[17444 rows x 3 columns]",
      "text/html": "<div>\n<style scoped>\n    .dataframe tbody tr th:only-of-type {\n        vertical-align: middle;\n    }\n\n    .dataframe tbody tr th {\n        vertical-align: top;\n    }\n\n    .dataframe thead th {\n        text-align: right;\n    }\n</style>\n<table border=\"1\" class=\"dataframe\">\n  <thead>\n    <tr style=\"text-align: right;\">\n      <th></th>\n      <th>time</th>\n      <th>title</th>\n      <th>content</th>\n    </tr>\n  </thead>\n  <tbody>\n    <tr>\n      <th>0</th>\n      <td>2019-01-01 05:00</td>\n      <td>왕초보 영어</td>\n      <td>제794회 너의 새해 결심은 뭐니?</td>\n    </tr>\n    <tr>\n      <th>1</th>\n      <td>2019-01-01 05:30</td>\n      <td>세계견문록 아틀라스</td>\n      <td>자연의 색 서호주</td>\n    </tr>\n    <tr>\n      <th>2</th>\n      <td>2019-01-01 06:00</td>\n      <td>한국기행(전주재방)</td>\n      <td>국수기행2 2부 한 그릇, 바다의 맛</td>\n    </tr>\n    <tr>\n      <th>3</th>\n      <td>2019-01-01 06:20</td>\n      <td>세계테마기행</td>\n      <td>영혼의 팔레트 과테말라 2부 모험가의 낙원</td>\n    </tr>\n    <tr>\n      <th>4</th>\n      <td>2019-01-01 07:00</td>\n      <td>강철소방대 파이어로보(종합)</td>\n      <td>위기일발 메가시티 외</td>\n    </tr>\n    <tr>\n      <th>...</th>\n      <td>...</td>\n      <td>...</td>\n      <td>...</td>\n    </tr>\n    <tr>\n      <th>17439</th>\n      <td>2019-12-31 23:35</td>\n      <td>미래교육 플러스</td>\n      <td>미래를 만드는 언어, 수학 3부 - '생각의 힘' 수학으로 키워라!</td>\n    </tr>\n    <tr>\n      <th>17440</th>\n      <td>2019-12-31 24:25</td>\n      <td>지식의 기쁨(재)</td>\n      <td>소통이 관계를 좌우한다</td>\n    </tr>\n    <tr>\n      <th>17441</th>\n      <td>2019-12-31 24:55</td>\n      <td>지식채널e(전주재방)</td>\n      <td>안아줄 수밖에</td>\n    </tr>\n    <tr>\n      <th>17442</th>\n      <td>2019-12-31 25:00</td>\n      <td>지식채널e</td>\n      <td>9와 숫자들</td>\n    </tr>\n    <tr>\n      <th>17443</th>\n      <td>2019-12-31 25:05</td>\n      <td>2019 헬로루키</td>\n      <td>2화</td>\n    </tr>\n  </tbody>\n</table>\n<p>17444 rows × 3 columns</p>\n</div>"
     },
     "metadata": {},
     "execution_count": 101
    }
   ],
   "source": [
    "pd.read_json('datas/out_data/ebs.json')"
   ]
  },
  {
   "cell_type": "code",
   "execution_count": 1,
   "metadata": {},
   "outputs": [],
   "source": [
    "url = 'http://www.11st.co.kr/category/DisplayCategory.tmall?method=getSearchFilterAjax&pageLoadType=ajax&version=1.2&method=getDisplayCategory2Depth&pageSize=40&viewType=I&pageNo=10&lCtgrNo=1001295&dispCtgrNo=1001295&pageNum=10'"
   ]
  },
  {
   "cell_type": "code",
   "execution_count": 3,
   "metadata": {},
   "outputs": [],
   "source": [
    "import requests\n",
    "from bs4 import BeautifulSoup\n",
    "import json\n",
    "\n",
    "r = requests.get(url)\n",
    "sp = BeautifulSoup(json.loads(r.text)['template'], 'html.parser')"
   ]
  },
  {
   "cell_type": "code",
   "execution_count": 8,
   "metadata": {},
   "outputs": [
    {
     "output_type": "execute_result",
     "data": {
      "text/plain": "<li data-ctgrrank=\"0\" data-seq=\"1\" id=\"thisClick_2938232484\">\n<div class=\"box_pd \">\n<a data-log-actionid-label=\"product\" data-log-body=\"{'ad_area_gubn':'','ad_typ_gubn':'','ad_yn':'','content_no':'2938232484','content_type':'PRODUCT','content_name':'ë ê·¸ë\n¸ìí¸ ìì¸ì¤íë(ë¸ë¼ì´) WF-1','product_price':'103470','trc_no':'0','page_no':'10'}\" data-log-index=\"1\" href=\"http://www.11st.co.kr/product/SellerProductDetail.tmall?method=getSellerProductDetail&amp;prdNo=2938232484&amp;trTypeCd=21&amp;trCtgrNo=1001295\" onclick=\"rakeLog.sendRakeLog(this);HeaderComm.CommonLog.doClick('01', '0', '2938232484', '01', 'N', 1, 40, 10, '', '01');HeaderComm.Product.doTracking(2938232484,'0','','',false,'', this, 'Y');return false;\" target=\"_blank\">\n<div class=\"img_plot\">\n<img alt=\"ë ê·¸ë\n¸ìí¸ ìì¸ì¤íë(ë¸ë¼ì´) WF-1\" onerror=\"skp11.common.blankImage(this, 'http://i.011st.com/ex_t/R/275x275/1/85/1/src/img/product/no_image.gif');\" src=\"http://i.011st.com/ex_t/R/275x275/1/85/1/src/pd/20/2/3/2/4/8/4/TqkJg/2938232484_L300.jpg\"/>\n</div>\n<div class=\"pname\">\n<p>ë ê·¸ë\n¸ìí¸ ìì¸ì¤íë(ë¸ë¼ì´) WF-1</p>\n<div class=\"price_info cfix\">\n<span class=\"sale\">2<span>%</span>\n</span>\n<span class=\"price_detail\">\n<span class=\"hide\">ì ìê°</span><s class=\"normal_price\">106,670ì</s>\n<span class=\"hide\">íë§¤ê°</span><strong class=\"sale_price\">103,470</strong>ì\n                                        </span>\n</div>\n<div class=\"prd_flag\">\n<div class=\"s_flag\">\n<em>ë¬´ë£ë°°ì¡</em>\n</div>\n</div>\n</div>\n</a>\n</div>\n</li>"
     },
     "metadata": {},
     "execution_count": 8
    }
   ],
   "source": [
    "sp.select('li')[0]"
   ]
  },
  {
   "cell_type": "code",
   "execution_count": null,
   "metadata": {},
   "outputs": [],
   "source": []
  }
 ]
}